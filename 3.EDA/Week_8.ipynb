{
 "cells": [
  {
   "cell_type": "markdown",
   "id": "d7f1ca80",
   "metadata": {},
   "source": [
    "# week 8 Update"
   ]
  },
  {
   "cell_type": "code",
   "execution_count": 3,
   "metadata": {},
   "outputs": [],
   "source": [
    "import pandas as pd\n",
    "import numpy as np\n",
    "import matplotlib.pyplot as plt"
   ]
  },
  {
   "cell_type": "code",
   "execution_count": 4,
   "id": "7b0f963f",
   "metadata": {},
   "outputs": [
    {
     "data": {
      "text/plain": [
       "0          6.00\n",
       "1          2.75\n",
       "2         17.00\n",
       "3         14.50\n",
       "4         17.50\n",
       "          ...  \n",
       "220727    99.50\n",
       "220728    99.50\n",
       "220729    99.50\n",
       "220730    99.50\n",
       "220731    99.50\n",
       "Name: retail, Length: 220276, dtype: float64"
      ]
     },
     "execution_count": 4,
     "metadata": {},
     "output_type": "execute_result"
    }
   ],
   "source": [
    "#check for outliers\n",
    "joined_drop = pd.read_pickle('../data/week7.pkl')\n",
    "joined_drop.retail"
   ]
  },
  {
   "cell_type": "code",
   "execution_count": 5,
   "metadata": {},
   "outputs": [
    {
     "data": {
      "text/plain": [
       "<Axes: ylabel='Density'>"
      ]
     },
     "execution_count": 5,
     "metadata": {},
     "output_type": "execute_result"
    },
    {
     "data": {
      "image/png": "[encoded data removed]",
      "text/plain": [
       "<Figure size 640x480 with 1 Axes>"
      ]
     },
     "metadata": {},
     "output_type": "display_data"
    }
   ],
   "source": [
    "# plot the density plot of retail price\n",
    "joined_drop.retail.plot.kde()"
   ]
  },
  {
   "cell_type": "code",
   "execution_count": 6,
   "id": "7dc3cd36",
   "metadata": {},
   "outputs": [
    {
     "data": {
      "text/plain": [
       "657        99.0\n",
       "658        99.0\n",
       "659        99.0\n",
       "1149      295.0\n",
       "1150      295.0\n",
       "          ...  \n",
       "220727     99.5\n",
       "220728     99.5\n",
       "220729     99.5\n",
       "220730     99.5\n",
       "220731     99.5\n",
       "Name: retail, Length: 2289, dtype: float64"
      ]
     },
     "execution_count": 6,
     "metadata": {},
     "output_type": "execute_result"
    }
   ],
   "source": [
    "# find the outliers that are more than 3 standard deviations away from the mean\n",
    "price_mean = joined_drop.retail.mean()\n",
    "price_std = joined_drop.retail.std()\n",
    "\n",
    "outliers = np.abs(joined_drop.retail - price_mean) > (3 * price_std)\n",
    "joined_drop.retail[outliers]"
   ]
  },
  {
   "cell_type": "markdown",
   "id": "b468f692",
   "metadata": {},
   "source": [
    "We would use retail price to calculate the profit, although there are outliers in the retail price, but we would NOT deal with it because it is normal that Dillard sells different kind of priducts with wide range of prices. "
   ]
  },
  {
   "cell_type": "markdown",
   "id": "4886d3e3",
   "metadata": {},
   "source": [
    "## continue to standardize all the scale "
   ]
  },
  {
   "cell_type": "markdown",
   "id": "af8d62c5",
   "metadata": {},
   "source": [
    "### Color"
   ]
  },
  {
   "cell_type": "markdown",
   "metadata": {},
   "source": [
    "### Convert color to upper letters and only keep english letters"
   ]
  },
  {
   "cell_type": "code",
   "execution_count": 7,
   "metadata": {},
   "outputs": [],
   "source": [
    "joined_drop.color = joined_drop.color.str.replace(r'[^a-zA-Z]', '', regex=True).str.upper()"
   ]
  },
  {
   "cell_type": "code",
   "execution_count": 8,
   "id": "75c7a696",
   "metadata": {},
   "outputs": [
    {
     "data": {
      "text/plain": [
       "color\n",
       "BLACK       22740\n",
       "WHITE       15098\n",
       "MULTI        3731\n",
       "NAVY         3372\n",
       "SILVER       2882\n",
       "            ...  \n",
       "GRNCB           1\n",
       "MACAO           1\n",
       "SUMABMQ         1\n",
       "BRT             1\n",
       "BLACKOLD        1\n",
       "Name: count, Length: 6204, dtype: int64"
      ]
     },
     "execution_count": 8,
     "metadata": {},
     "output_type": "execute_result"
    }
   ],
   "source": [
    "joined_drop.color.value_counts(dropna=False)"
   ]
  },
  {
   "cell_type": "markdown",
   "metadata": {},
   "source": [
    "### Top 20 colors"
   ]
  },
  {
   "cell_type": "code",
   "execution_count": 9,
   "metadata": {},
   "outputs": [
    {
     "data": {
      "text/plain": [
       "color\n",
       "BLACK       22740\n",
       "WHITE       15098\n",
       "MULTI        3731\n",
       "NAVY         3372\n",
       "SILVER       2882\n",
       "RED          2788\n",
       "PINK         2684\n",
       "BEIGE        2335\n",
       "NEUTRAL      2165\n",
       "BROWN        1996\n",
       "ASST         1971\n",
       "GOLD         1822\n",
       "CLARIFY      1807\n",
       "BLUE         1717\n",
       "NOCOLOR      1548\n",
       "EDPSPRAY     1482\n",
       "             1416\n",
       "IVORY        1356\n",
       "EDTSPRAY     1319\n",
       "NA           1227\n",
       "Name: count, dtype: int64"
      ]
     },
     "execution_count": 9,
     "metadata": {},
     "output_type": "execute_result"
    }
   ],
   "source": [
    "joined_drop.color.value_counts(dropna=False).head(20)"
   ]
  },
  {
   "cell_type": "markdown",
   "metadata": {},
   "source": [
    "### Top 20-40 colors"
   ]
  },
  {
   "cell_type": "code",
   "execution_count": 10,
   "metadata": {},
   "outputs": [
    {
     "data": {
      "text/plain": [
       "color\n",
       "CLEAR         1152\n",
       "XMAS          1064\n",
       "DDMLPUMP      1001\n",
       "FAWN           918\n",
       "RINSEOFF       840\n",
       "JET            807\n",
       "NUDE           797\n",
       "ASSORTED       762\n",
       "STONEWASH      755\n",
       "KHAKI          740\n",
       "VANILLA        720\n",
       "GREEN          679\n",
       "ONYX           674\n",
       "INDIGO         650\n",
       "ROSEBEIGE      636\n",
       "ESPRESSO       635\n",
       "MDBLUEM        634\n",
       "BUFF           627\n",
       "MULT           615\n",
       "CANDLEGLOW     603\n",
       "Name: count, dtype: int64"
      ]
     },
     "execution_count": 10,
     "metadata": {},
     "output_type": "execute_result"
    }
   ],
   "source": [
    "joined_drop.color.value_counts(dropna=False).head(40).tail(20)"
   ]
  },
  {
   "cell_type": "markdown",
   "id": "7b2afc0f",
   "metadata": {},
   "source": [
    "we need to standardize colors \n",
    "before cleaning, we have 8320 different colors."
   ]
  },
  {
   "cell_type": "code",
   "execution_count": 11,
   "id": "de5a62ec",
   "metadata": {},
   "outputs": [
    {
     "data": {
      "text/html": [
       "<div>\n",
       "<style scoped>\n",
       "    .dataframe tbody tr th:only-of-type {\n",
       "        vertical-align: middle;\n",
       "    }\n",
       "\n",
       "    .dataframe tbody tr th {\n",
       "        vertical-align: top;\n",
       "    }\n",
       "\n",
       "    .dataframe thead th {\n",
       "        text-align: right;\n",
       "    }\n",
       "</style>\n",
       "<table border=\"1\" class=\"dataframe\">\n",
       "  <thead>\n",
       "    <tr style=\"text-align: right;\">\n",
       "      <th></th>\n",
       "      <th>sku</th>\n",
       "      <th>cost</th>\n",
       "      <th>retail</th>\n",
       "      <th>stype</th>\n",
       "      <th>quantity</th>\n",
       "      <th>orgprice</th>\n",
       "      <th>amt</th>\n",
       "      <th>style</th>\n",
       "      <th>color</th>\n",
       "      <th>size</th>\n",
       "      <th>packsize</th>\n",
       "      <th>vendor</th>\n",
       "      <th>brand</th>\n",
       "      <th>standardized_color</th>\n",
       "    </tr>\n",
       "  </thead>\n",
       "  <tbody>\n",
       "    <tr>\n",
       "      <th>0</th>\n",
       "      <td>8936935</td>\n",
       "      <td>9.58</td>\n",
       "      <td>6.00</td>\n",
       "      <td>P</td>\n",
       "      <td>1</td>\n",
       "      <td>24.0</td>\n",
       "      <td>24.00</td>\n",
       "      <td>35-92 413641</td>\n",
       "      <td>WHEATNUBU</td>\n",
       "      <td>L</td>\n",
       "      <td>1</td>\n",
       "      <td>914938</td>\n",
       "      <td>KIDS HEA</td>\n",
       "      <td>Other</td>\n",
       "    </tr>\n",
       "    <tr>\n",
       "      <th>1</th>\n",
       "      <td>8940963</td>\n",
       "      <td>4.31</td>\n",
       "      <td>2.75</td>\n",
       "      <td>P</td>\n",
       "      <td>1</td>\n",
       "      <td>11.0</td>\n",
       "      <td>8.25</td>\n",
       "      <td>005   U61516</td>\n",
       "      <td>GREYHE</td>\n",
       "      <td>L</td>\n",
       "      <td>3</td>\n",
       "      <td>4012768</td>\n",
       "      <td>TOMMY HI</td>\n",
       "      <td>Grey</td>\n",
       "    </tr>\n",
       "    <tr>\n",
       "      <th>2</th>\n",
       "      <td>8944045</td>\n",
       "      <td>28.05</td>\n",
       "      <td>17.00</td>\n",
       "      <td>P</td>\n",
       "      <td>1</td>\n",
       "      <td>68.0</td>\n",
       "      <td>29.99</td>\n",
       "      <td>CC412</td>\n",
       "      <td>MULTI</td>\n",
       "      <td>M</td>\n",
       "      <td>1</td>\n",
       "      <td>8043525</td>\n",
       "      <td>KORET OF</td>\n",
       "      <td>Multi</td>\n",
       "    </tr>\n",
       "    <tr>\n",
       "      <th>3</th>\n",
       "      <td>8944045</td>\n",
       "      <td>25.00</td>\n",
       "      <td>14.50</td>\n",
       "      <td>P</td>\n",
       "      <td>1</td>\n",
       "      <td>58.0</td>\n",
       "      <td>29.00</td>\n",
       "      <td>CC412</td>\n",
       "      <td>MULTI</td>\n",
       "      <td>M</td>\n",
       "      <td>1</td>\n",
       "      <td>8043525</td>\n",
       "      <td>KORET OF</td>\n",
       "      <td>Multi</td>\n",
       "    </tr>\n",
       "    <tr>\n",
       "      <th>4</th>\n",
       "      <td>8972921</td>\n",
       "      <td>14.72</td>\n",
       "      <td>17.50</td>\n",
       "      <td>P</td>\n",
       "      <td>1</td>\n",
       "      <td>35.0</td>\n",
       "      <td>35.00</td>\n",
       "      <td>T-PIL TRA-QL</td>\n",
       "      <td>TERRA</td>\n",
       "      <td>BOU PIL</td>\n",
       "      <td>2</td>\n",
       "      <td>619402</td>\n",
       "      <td>STATUS Q</td>\n",
       "      <td>Other</td>\n",
       "    </tr>\n",
       "  </tbody>\n",
       "</table>\n",
       "</div>"
      ],
      "text/plain": [
       "       sku   cost  retail stype  quantity  orgprice    amt         style  \\\n",
       "0  8936935   9.58    6.00     P         1      24.0  24.00  35-92 413641   \n",
       "1  8940963   4.31    2.75     P         1      11.0   8.25  005   U61516   \n",
       "2  8944045  28.05   17.00     P         1      68.0  29.99         CC412   \n",
       "3  8944045  25.00   14.50     P         1      58.0  29.00         CC412   \n",
       "4  8972921  14.72   17.50     P         1      35.0  35.00  T-PIL TRA-QL   \n",
       "\n",
       "       color     size  packsize   vendor     brand standardized_color  \n",
       "0  WHEATNUBU        L         1   914938  KIDS HEA              Other  \n",
       "1     GREYHE        L         3  4012768  TOMMY HI               Grey  \n",
       "2      MULTI        M         1  8043525  KORET OF              Multi  \n",
       "3      MULTI        M         1  8043525  KORET OF              Multi  \n",
       "4      TERRA  BOU PIL         2   619402  STATUS Q              Other  "
      ]
     },
     "execution_count": 11,
     "metadata": {},
     "output_type": "execute_result"
    }
   ],
   "source": [
    "# Define your color categories\n",
    "color_categories = {\n",
    "    'Black': ['BLACK', 'CHARCOAL', \"BLKNAPPA\"],\n",
    "    'White': ['WHITE', 'BEIGE', 'IVORY', \"LOVEYDOVE\", 'OATMEAL', '100WHITE'],\n",
    "    'Red': ['RED', 'BURGUNDY', 'MAROON',\"BEETRED\",\"650ROUGE\"],  # Add variations of red here\n",
    "    'Green': ['GREEN', 'LIME', 'OLIVE',\"APPLEGREE\"],   # Add variations of green here\n",
    "    'Yellow': ['YELLOW', 'GOLD', 'AMBER', 'CANDLEGLOW'], # Add variations of yellow here\n",
    "    'Blue': ['BLUE', 'NAVY', 'CYAN',\"CHAMBRAYP\", 'RINSEOFF', 'STONEWASH', 'INDIGO'],      # Add variations of blue here\n",
    "    'Brown': ['BROWN', 'BEIGE', 'NEUTRAL', 'TAN', 'NUDE',\n",
    "              'BRONZE',\"ROSEWOOD\", 'FAWN', 'ROSEBEIGE', 'ESPRESSO', 'MDBLUEM', 'BUFF'],   # Add variations of brown here\n",
    "    'Orange': ['ORANGE', 'CORAL'],         # Add variations of orange here\n",
    "    'Pink': ['PINK', 'FUCHSIA',\"10BERRY\"],           # Add variations of pink here\n",
    "    'Purple': ['PURPLE', 'VIOLET'],        # Add variations of purple here\n",
    "    'Grey': ['GREY', 'SILVER', 'CHARCOAL'],# Add variations of grey here\n",
    "    \"Silver\":[\"SILVER\"],\n",
    "    \"Nocolor\":[\"NOCOLOR\", 'CLEAR', 'CLARIFY'],\n",
    "    \"Multi\":['MULTI', 'ASST', \"STONEWASH\",'ASSORTED',\"CLAIR\", 'XMAS', 'MULT'],\n",
    "    'Fragrances': ['EDPSPRAY', 'EDTSPRAY']  # associated with fragrances or perfumes\n",
    "}\n",
    "\n",
    "# Function to map colors to categories with improved cleaning\n",
    "def map_color_to_category(color):\n",
    "    # Retain significant numbers or characters as needed\n",
    "    color_cleaned = ''.join(filter(lambda c: c.isalpha() or c.isdigit(), color.upper()))\n",
    "    for category, color_list in color_categories.items():\n",
    "        for variation in color_list:\n",
    "            if variation in color_cleaned:\n",
    "                return category\n",
    "    return 'Other'\n",
    "\n",
    "# Apply the mapping function to the 'color' column\n",
    "joined_drop['standardized_color'] = joined_drop['color'].apply(map_color_to_category)\n",
    "\n",
    "joined_drop.head()"
   ]
  },
  {
   "cell_type": "code",
   "execution_count": 12,
   "id": "4037bb03",
   "metadata": {},
   "outputs": [
    {
     "data": {
      "text/html": [
       "<div>\n",
       "<style scoped>\n",
       "    .dataframe tbody tr th:only-of-type {\n",
       "        vertical-align: middle;\n",
       "    }\n",
       "\n",
       "    .dataframe tbody tr th {\n",
       "        vertical-align: top;\n",
       "    }\n",
       "\n",
       "    .dataframe thead th {\n",
       "        text-align: right;\n",
       "    }\n",
       "</style>\n",
       "<table border=\"1\" class=\"dataframe\">\n",
       "  <thead>\n",
       "    <tr style=\"text-align: right;\">\n",
       "      <th></th>\n",
       "      <th>sku</th>\n",
       "      <th>cost</th>\n",
       "      <th>retail</th>\n",
       "      <th>stype</th>\n",
       "      <th>quantity</th>\n",
       "      <th>orgprice</th>\n",
       "      <th>amt</th>\n",
       "      <th>style</th>\n",
       "      <th>color</th>\n",
       "      <th>size</th>\n",
       "      <th>packsize</th>\n",
       "      <th>vendor</th>\n",
       "      <th>brand</th>\n",
       "      <th>standardized_color</th>\n",
       "    </tr>\n",
       "  </thead>\n",
       "  <tbody>\n",
       "    <tr>\n",
       "      <th>0</th>\n",
       "      <td>8936935</td>\n",
       "      <td>9.58</td>\n",
       "      <td>6.0</td>\n",
       "      <td>P</td>\n",
       "      <td>1</td>\n",
       "      <td>24.0</td>\n",
       "      <td>24.0</td>\n",
       "      <td>35-92 413641</td>\n",
       "      <td>WHEATNUBU</td>\n",
       "      <td>L</td>\n",
       "      <td>1</td>\n",
       "      <td>914938</td>\n",
       "      <td>KIDS HEA</td>\n",
       "      <td>Other</td>\n",
       "    </tr>\n",
       "    <tr>\n",
       "      <th>4</th>\n",
       "      <td>8972921</td>\n",
       "      <td>14.72</td>\n",
       "      <td>17.5</td>\n",
       "      <td>P</td>\n",
       "      <td>1</td>\n",
       "      <td>35.0</td>\n",
       "      <td>35.0</td>\n",
       "      <td>T-PIL TRA-QL</td>\n",
       "      <td>TERRA</td>\n",
       "      <td>BOU PIL</td>\n",
       "      <td>2</td>\n",
       "      <td>619402</td>\n",
       "      <td>STATUS Q</td>\n",
       "      <td>Other</td>\n",
       "    </tr>\n",
       "    <tr>\n",
       "      <th>5</th>\n",
       "      <td>8972921</td>\n",
       "      <td>14.72</td>\n",
       "      <td>17.5</td>\n",
       "      <td>P</td>\n",
       "      <td>1</td>\n",
       "      <td>35.0</td>\n",
       "      <td>35.0</td>\n",
       "      <td>T-PIL TRA-QL</td>\n",
       "      <td>TERRA</td>\n",
       "      <td>BOU PIL</td>\n",
       "      <td>2</td>\n",
       "      <td>619402</td>\n",
       "      <td>STATUS Q</td>\n",
       "      <td>Other</td>\n",
       "    </tr>\n",
       "    <tr>\n",
       "      <th>6</th>\n",
       "      <td>8972921</td>\n",
       "      <td>14.72</td>\n",
       "      <td>17.5</td>\n",
       "      <td>P</td>\n",
       "      <td>1</td>\n",
       "      <td>35.0</td>\n",
       "      <td>35.0</td>\n",
       "      <td>T-PIL TRA-QL</td>\n",
       "      <td>TERRA</td>\n",
       "      <td>BOU PIL</td>\n",
       "      <td>2</td>\n",
       "      <td>619402</td>\n",
       "      <td>STATUS Q</td>\n",
       "      <td>Other</td>\n",
       "    </tr>\n",
       "    <tr>\n",
       "      <th>7</th>\n",
       "      <td>8972921</td>\n",
       "      <td>14.72</td>\n",
       "      <td>17.5</td>\n",
       "      <td>P</td>\n",
       "      <td>1</td>\n",
       "      <td>35.0</td>\n",
       "      <td>35.0</td>\n",
       "      <td>T-PIL TRA-QL</td>\n",
       "      <td>TERRA</td>\n",
       "      <td>BOU PIL</td>\n",
       "      <td>2</td>\n",
       "      <td>619402</td>\n",
       "      <td>STATUS Q</td>\n",
       "      <td>Other</td>\n",
       "    </tr>\n",
       "    <tr>\n",
       "      <th>...</th>\n",
       "      <td>...</td>\n",
       "      <td>...</td>\n",
       "      <td>...</td>\n",
       "      <td>...</td>\n",
       "      <td>...</td>\n",
       "      <td>...</td>\n",
       "      <td>...</td>\n",
       "      <td>...</td>\n",
       "      <td>...</td>\n",
       "      <td>...</td>\n",
       "      <td>...</td>\n",
       "      <td>...</td>\n",
       "      <td>...</td>\n",
       "      <td>...</td>\n",
       "    </tr>\n",
       "    <tr>\n",
       "      <th>220727</th>\n",
       "      <td>8902921</td>\n",
       "      <td>87.66</td>\n",
       "      <td>99.5</td>\n",
       "      <td>P</td>\n",
       "      <td>1</td>\n",
       "      <td>199.0</td>\n",
       "      <td>199.0</td>\n",
       "      <td>COM   TRA-K-</td>\n",
       "      <td>TERRA</td>\n",
       "      <td>K COMF</td>\n",
       "      <td>1</td>\n",
       "      <td>619402</td>\n",
       "      <td>STATUS Q</td>\n",
       "      <td>Other</td>\n",
       "    </tr>\n",
       "    <tr>\n",
       "      <th>220728</th>\n",
       "      <td>8902921</td>\n",
       "      <td>87.66</td>\n",
       "      <td>99.5</td>\n",
       "      <td>P</td>\n",
       "      <td>1</td>\n",
       "      <td>199.0</td>\n",
       "      <td>199.0</td>\n",
       "      <td>COM   TRA-K-</td>\n",
       "      <td>TERRA</td>\n",
       "      <td>K COMF</td>\n",
       "      <td>1</td>\n",
       "      <td>619402</td>\n",
       "      <td>STATUS Q</td>\n",
       "      <td>Other</td>\n",
       "    </tr>\n",
       "    <tr>\n",
       "      <th>220729</th>\n",
       "      <td>8902921</td>\n",
       "      <td>87.66</td>\n",
       "      <td>99.5</td>\n",
       "      <td>P</td>\n",
       "      <td>1</td>\n",
       "      <td>199.0</td>\n",
       "      <td>199.0</td>\n",
       "      <td>COM   TRA-K-</td>\n",
       "      <td>TERRA</td>\n",
       "      <td>K COMF</td>\n",
       "      <td>1</td>\n",
       "      <td>619402</td>\n",
       "      <td>STATUS Q</td>\n",
       "      <td>Other</td>\n",
       "    </tr>\n",
       "    <tr>\n",
       "      <th>220730</th>\n",
       "      <td>8902921</td>\n",
       "      <td>87.66</td>\n",
       "      <td>99.5</td>\n",
       "      <td>P</td>\n",
       "      <td>1</td>\n",
       "      <td>199.0</td>\n",
       "      <td>199.0</td>\n",
       "      <td>COM   TRA-K-</td>\n",
       "      <td>TERRA</td>\n",
       "      <td>K COMF</td>\n",
       "      <td>1</td>\n",
       "      <td>619402</td>\n",
       "      <td>STATUS Q</td>\n",
       "      <td>Other</td>\n",
       "    </tr>\n",
       "    <tr>\n",
       "      <th>220731</th>\n",
       "      <td>8902921</td>\n",
       "      <td>87.66</td>\n",
       "      <td>99.5</td>\n",
       "      <td>P</td>\n",
       "      <td>1</td>\n",
       "      <td>199.0</td>\n",
       "      <td>199.0</td>\n",
       "      <td>COM   TRA-K-</td>\n",
       "      <td>TERRA</td>\n",
       "      <td>K COMF</td>\n",
       "      <td>1</td>\n",
       "      <td>619402</td>\n",
       "      <td>STATUS Q</td>\n",
       "      <td>Other</td>\n",
       "    </tr>\n",
       "  </tbody>\n",
       "</table>\n",
       "<p>102607 rows × 14 columns</p>\n",
       "</div>"
      ],
      "text/plain": [
       "            sku   cost  retail stype  quantity  orgprice    amt         style  \\\n",
       "0       8936935   9.58     6.0     P         1      24.0   24.0  35-92 413641   \n",
       "4       8972921  14.72    17.5     P         1      35.0   35.0  T-PIL TRA-QL   \n",
       "5       8972921  14.72    17.5     P         1      35.0   35.0  T-PIL TRA-QL   \n",
       "6       8972921  14.72    17.5     P         1      35.0   35.0  T-PIL TRA-QL   \n",
       "7       8972921  14.72    17.5     P         1      35.0   35.0  T-PIL TRA-QL   \n",
       "...         ...    ...     ...   ...       ...       ...    ...           ...   \n",
       "220727  8902921  87.66    99.5     P         1     199.0  199.0  COM   TRA-K-   \n",
       "220728  8902921  87.66    99.5     P         1     199.0  199.0  COM   TRA-K-   \n",
       "220729  8902921  87.66    99.5     P         1     199.0  199.0  COM   TRA-K-   \n",
       "220730  8902921  87.66    99.5     P         1     199.0  199.0  COM   TRA-K-   \n",
       "220731  8902921  87.66    99.5     P         1     199.0  199.0  COM   TRA-K-   \n",
       "\n",
       "            color     size  packsize  vendor     brand standardized_color  \n",
       "0       WHEATNUBU        L         1  914938  KIDS HEA              Other  \n",
       "4           TERRA  BOU PIL         2  619402  STATUS Q              Other  \n",
       "5           TERRA  BOU PIL         2  619402  STATUS Q              Other  \n",
       "6           TERRA  BOU PIL         2  619402  STATUS Q              Other  \n",
       "7           TERRA  BOU PIL         2  619402  STATUS Q              Other  \n",
       "...           ...      ...       ...     ...       ...                ...  \n",
       "220727      TERRA   K COMF         1  619402  STATUS Q              Other  \n",
       "220728      TERRA   K COMF         1  619402  STATUS Q              Other  \n",
       "220729      TERRA   K COMF         1  619402  STATUS Q              Other  \n",
       "220730      TERRA   K COMF         1  619402  STATUS Q              Other  \n",
       "220731      TERRA   K COMF         1  619402  STATUS Q              Other  \n",
       "\n",
       "[102607 rows x 14 columns]"
      ]
     },
     "execution_count": 12,
     "metadata": {},
     "output_type": "execute_result"
    }
   ],
   "source": [
    "#PICK SOME COLORS WE COULD PROCESS FURTHER, LEAVE THOSE WE COULD NOT RECOGNIZE\n",
    "other_colors_df = joined_drop[joined_drop['standardized_color'] == \"Other\"]\n",
    "other_colors_df"
   ]
  },
  {
   "cell_type": "code",
   "execution_count": 13,
   "id": "4f987fec",
   "metadata": {},
   "outputs": [
    {
     "data": {
      "text/plain": [
       "standardized_color\n",
       "Other         102607\n",
       "Black          29144\n",
       "White          23506\n",
       "Blue           14668\n",
       "Brown          11260\n",
       "Multi           9390\n",
       "Red             5883\n",
       "Grey            4943\n",
       "Nocolor         4724\n",
       "Pink            4694\n",
       "Yellow          3463\n",
       "Fragrances      2801\n",
       "Green           1877\n",
       "Purple           693\n",
       "Orange           623\n",
       "Name: count, dtype: int64"
      ]
     },
     "execution_count": 13,
     "metadata": {},
     "output_type": "execute_result"
    }
   ],
   "source": [
    "joined_drop.standardized_color.value_counts()"
   ]
  },
  {
   "cell_type": "code",
   "execution_count": 14,
   "id": "b43e3e50",
   "metadata": {},
   "outputs": [
    {
     "data": {
      "text/plain": [
       "15"
      ]
     },
     "execution_count": 14,
     "metadata": {},
     "output_type": "execute_result"
    }
   ],
   "source": [
    "len(joined_drop.standardized_color.value_counts())"
   ]
  },
  {
   "cell_type": "markdown",
   "id": "a77f223f",
   "metadata": {},
   "source": [
    "Now, we only have 15 different colors "
   ]
  },
  {
   "cell_type": "code",
   "execution_count": 15,
   "id": "2726e574",
   "metadata": {},
   "outputs": [
    {
     "data": {
      "text/plain": [
       "brand\n",
       "CLINIQUE    39210\n",
       "LANCOME     16942\n",
       "CABERNET    14782\n",
       "LIZ CLAI     8889\n",
       "LEVI STR     5638\n",
       "            ...  \n",
       "ADG/DESI        1\n",
       "SUMMER S        1\n",
       "WINSOME         1\n",
       "BROOKINS        1\n",
       "CONIFER         1\n",
       "Name: count, Length: 678, dtype: int64"
      ]
     },
     "execution_count": 15,
     "metadata": {},
     "output_type": "execute_result"
    }
   ],
   "source": [
    "#no need to deal with\n",
    "joined_drop.brand.value_counts()"
   ]
  },
  {
   "cell_type": "code",
   "execution_count": 16,
   "id": "ae5fc8bc",
   "metadata": {},
   "outputs": [
    {
     "data": {
      "text/plain": [
       "vendor\n",
       "5511283    39210\n",
       "113645     16114\n",
       "13031       6370\n",
       "3626213     5331\n",
       "13396       4196\n",
       "           ...  \n",
       "21131          1\n",
       "11536          1\n",
       "8016222        1\n",
       "2913323        1\n",
       "1713319        1\n",
       "Name: count, Length: 932, dtype: int64"
      ]
     },
     "execution_count": 16,
     "metadata": {},
     "output_type": "execute_result"
    }
   ],
   "source": [
    "#no need to deal with\n",
    "joined_drop.vendor.value_counts()"
   ]
  },
  {
   "cell_type": "markdown",
   "id": "7bd461b5",
   "metadata": {},
   "source": [
    "### FIND WHAT COLORS CUSTOMERS LIKE TO BUY MOST/ THE COLORS WITH HIGHEST SALES REVENUE\n"
   ]
  },
  {
   "cell_type": "markdown",
   "id": "e911c533",
   "metadata": {},
   "source": [
    "### Size"
   ]
  },
  {
   "cell_type": "code",
   "execution_count": 17,
   "id": "ec7ec7a4",
   "metadata": {},
   "outputs": [
    {
     "data": {
      "text/plain": [
       "size\n",
       "ALL           40955\n",
       "L             10288\n",
       "M              9952\n",
       "NO SIZE        7852\n",
       "XL             5646\n",
       "              ...  \n",
       "3D LG CANI        1\n",
       "FOUND/CONC        1\n",
       "SOUP/CEREA        1\n",
       "JUG2PT.STF        1\n",
       "SM.RECTRAY        1\n",
       "Name: count, Length: 1764, dtype: int64"
      ]
     },
     "execution_count": 17,
     "metadata": {},
     "output_type": "execute_result"
    }
   ],
   "source": [
    "joined_drop[\"size\"].value_counts(dropna=False)"
   ]
  },
  {
   "cell_type": "markdown",
   "id": "156424a0",
   "metadata": {},
   "source": [
    "Before cleaning the size category, we have 1764 types of sizes."
   ]
  },
  {
   "cell_type": "code",
   "execution_count": 18,
   "id": "f6e8dfc2",
   "metadata": {},
   "outputs": [
    {
     "data": {
      "text/plain": [
       "188151"
      ]
     },
     "execution_count": 18,
     "metadata": {},
     "output_type": "execute_result"
    }
   ],
   "source": [
    "np.sum(joined_drop['size'].apply(lambda x: not str(x).isnumeric()))"
   ]
  },
  {
   "cell_type": "code",
   "execution_count": 19,
   "metadata": {},
   "outputs": [
    {
     "data": {
      "text/plain": [
       "size\n",
       "ALL        40955\n",
       "L          10288\n",
       "M           9952\n",
       "NO SIZE     7852\n",
       "XL          5646\n",
       "7           5197\n",
       "S           3980\n",
       "ONE         3725\n",
       "6           3631\n",
       "5           3382\n",
       "Name: count, dtype: int64"
      ]
     },
     "execution_count": 19,
     "metadata": {},
     "output_type": "execute_result"
    }
   ],
   "source": [
    "joined_drop['size'].value_counts().head(10)"
   ]
  },
  {
   "cell_type": "markdown",
   "id": "94e35507",
   "metadata": {},
   "source": [
    "Mostly are not numerical size."
   ]
  },
  {
   "cell_type": "code",
   "execution_count": 20,
   "id": "97d0b830",
   "metadata": {},
   "outputs": [
    {
     "data": {
      "text/html": [
       "<div>\n",
       "<style scoped>\n",
       "    .dataframe tbody tr th:only-of-type {\n",
       "        vertical-align: middle;\n",
       "    }\n",
       "\n",
       "    .dataframe tbody tr th {\n",
       "        vertical-align: top;\n",
       "    }\n",
       "\n",
       "    .dataframe thead th {\n",
       "        text-align: right;\n",
       "    }\n",
       "</style>\n",
       "<table border=\"1\" class=\"dataframe\">\n",
       "  <thead>\n",
       "    <tr style=\"text-align: right;\">\n",
       "      <th></th>\n",
       "      <th>sku</th>\n",
       "      <th>cost</th>\n",
       "      <th>retail</th>\n",
       "      <th>stype</th>\n",
       "      <th>quantity</th>\n",
       "      <th>orgprice</th>\n",
       "      <th>amt</th>\n",
       "      <th>style</th>\n",
       "      <th>color</th>\n",
       "      <th>size</th>\n",
       "      <th>packsize</th>\n",
       "      <th>vendor</th>\n",
       "      <th>brand</th>\n",
       "      <th>standardized_color</th>\n",
       "      <th>standardized_size</th>\n",
       "    </tr>\n",
       "  </thead>\n",
       "  <tbody>\n",
       "    <tr>\n",
       "      <th>0</th>\n",
       "      <td>8936935</td>\n",
       "      <td>9.58</td>\n",
       "      <td>6.00</td>\n",
       "      <td>P</td>\n",
       "      <td>1</td>\n",
       "      <td>24.0</td>\n",
       "      <td>24.00</td>\n",
       "      <td>35-92 413641</td>\n",
       "      <td>WHEATNUBU</td>\n",
       "      <td>L</td>\n",
       "      <td>1</td>\n",
       "      <td>914938</td>\n",
       "      <td>KIDS HEA</td>\n",
       "      <td>Other</td>\n",
       "      <td>Standard Sizes</td>\n",
       "    </tr>\n",
       "    <tr>\n",
       "      <th>1</th>\n",
       "      <td>8940963</td>\n",
       "      <td>4.31</td>\n",
       "      <td>2.75</td>\n",
       "      <td>P</td>\n",
       "      <td>1</td>\n",
       "      <td>11.0</td>\n",
       "      <td>8.25</td>\n",
       "      <td>005   U61516</td>\n",
       "      <td>GREYHE</td>\n",
       "      <td>L</td>\n",
       "      <td>3</td>\n",
       "      <td>4012768</td>\n",
       "      <td>TOMMY HI</td>\n",
       "      <td>Grey</td>\n",
       "      <td>Standard Sizes</td>\n",
       "    </tr>\n",
       "    <tr>\n",
       "      <th>2</th>\n",
       "      <td>8944045</td>\n",
       "      <td>28.05</td>\n",
       "      <td>17.00</td>\n",
       "      <td>P</td>\n",
       "      <td>1</td>\n",
       "      <td>68.0</td>\n",
       "      <td>29.99</td>\n",
       "      <td>CC412</td>\n",
       "      <td>MULTI</td>\n",
       "      <td>M</td>\n",
       "      <td>1</td>\n",
       "      <td>8043525</td>\n",
       "      <td>KORET OF</td>\n",
       "      <td>Multi</td>\n",
       "      <td>Standard Sizes</td>\n",
       "    </tr>\n",
       "    <tr>\n",
       "      <th>3</th>\n",
       "      <td>8944045</td>\n",
       "      <td>25.00</td>\n",
       "      <td>14.50</td>\n",
       "      <td>P</td>\n",
       "      <td>1</td>\n",
       "      <td>58.0</td>\n",
       "      <td>29.00</td>\n",
       "      <td>CC412</td>\n",
       "      <td>MULTI</td>\n",
       "      <td>M</td>\n",
       "      <td>1</td>\n",
       "      <td>8043525</td>\n",
       "      <td>KORET OF</td>\n",
       "      <td>Multi</td>\n",
       "      <td>Standard Sizes</td>\n",
       "    </tr>\n",
       "    <tr>\n",
       "      <th>4</th>\n",
       "      <td>8972921</td>\n",
       "      <td>14.72</td>\n",
       "      <td>17.50</td>\n",
       "      <td>P</td>\n",
       "      <td>1</td>\n",
       "      <td>35.0</td>\n",
       "      <td>35.00</td>\n",
       "      <td>T-PIL TRA-QL</td>\n",
       "      <td>TERRA</td>\n",
       "      <td>BOU PIL</td>\n",
       "      <td>2</td>\n",
       "      <td>619402</td>\n",
       "      <td>STATUS Q</td>\n",
       "      <td>Other</td>\n",
       "      <td>Standard Sizes</td>\n",
       "    </tr>\n",
       "  </tbody>\n",
       "</table>\n",
       "</div>"
      ],
      "text/plain": [
       "       sku   cost  retail stype  quantity  orgprice    amt         style  \\\n",
       "0  8936935   9.58    6.00     P         1      24.0  24.00  35-92 413641   \n",
       "1  8940963   4.31    2.75     P         1      11.0   8.25  005   U61516   \n",
       "2  8944045  28.05   17.00     P         1      68.0  29.99         CC412   \n",
       "3  8944045  25.00   14.50     P         1      58.0  29.00         CC412   \n",
       "4  8972921  14.72   17.50     P         1      35.0  35.00  T-PIL TRA-QL   \n",
       "\n",
       "       color     size  packsize   vendor     brand standardized_color  \\\n",
       "0  WHEATNUBU        L         1   914938  KIDS HEA              Other   \n",
       "1     GREYHE        L         3  4012768  TOMMY HI               Grey   \n",
       "2      MULTI        M         1  8043525  KORET OF              Multi   \n",
       "3      MULTI        M         1  8043525  KORET OF              Multi   \n",
       "4      TERRA  BOU PIL         2   619402  STATUS Q              Other   \n",
       "\n",
       "  standardized_size  \n",
       "0    Standard Sizes  \n",
       "1    Standard Sizes  \n",
       "2    Standard Sizes  \n",
       "3    Standard Sizes  \n",
       "4    Standard Sizes  "
      ]
     },
     "execution_count": 20,
     "metadata": {},
     "output_type": "execute_result"
    }
   ],
   "source": [
    "# Define your color categories\n",
    "size_categories = {\n",
    "    'Standard Sizes': ['S', 'M', 'L', 'XL', '7', '6', '5', '8', '9', '10', '11', '12', 'XXL'],\n",
    "    'Special Codes': ['ALL', 'NO SIZE', 'ONE', '*DISC', 'QUICK EYE', '3.4 OZ', '4.2 OZ', '1.7 OZ', '1.7 OUNCES'],\n",
    "    'Numeric Sizes': ['36C', '36', '34', '2', '3', '38C', '32', '38', '110M', '36D', '34C', '34B', '105M', '30', '065M', '38D', '36B', '16', '2.5'],\n",
    "    'Alphanumeric Codes': ['01-BLACK', '080M', '085M', '090M', '095M', '100M', '075M', '070M'],\n",
    "    'Product-Specific': ['4', 'WASH', 'BATH', 'HAND', 'DUAL FINIS', 'CS EYE', 'SUPERBAL', 'CS EYE', 'GAR', 'N/A', 'DISC', '#2 13.5 OZ', 'H IMPACT', 'W/DISH', 'LL SHINE', 'COMPACT', 'POWDER BLU', 'LIP DIFFER', 'LSH DBL M', 'LIP', '5PC PLSTG', 'FOAM CLNSR', 'MAKEUP', 'GLOSSWEAR', 'S SHAM', 'BLENDED', 'FLEXTEN', '38D', '#2  6 OZ', 'CREAM', '3X', '2XT', 'LE LIP', 'SQ PIL', '#3 12 OZ', '6.8 OZ', 'TOUCH BASE', '1X', 'LS CONC', 'TIP'],\n",
    "}\n",
    "\n",
    "# Function to map colors to categories with improved cleaning\n",
    "def map_size_to_category(size):\n",
    "    # Retain significant numbers or characters as needed\n",
    "    for category, size_list in size_categories.items():\n",
    "        for variation in size_list:\n",
    "            if variation in size:\n",
    "                return category\n",
    "    return 'Other'\n",
    "\n",
    "# Apply the mapping function to the 'color' column\n",
    "joined_drop['standardized_size'] = joined_drop['size'].apply(map_size_to_category)\n",
    "\n",
    "joined_drop.head()\n"
   ]
  },
  {
   "cell_type": "code",
   "execution_count": 21,
   "id": "eedecc2b",
   "metadata": {},
   "outputs": [
    {
     "data": {
      "text/plain": [
       "standardized_size\n",
       "Standard Sizes      180833\n",
       "Numeric Sizes        12837\n",
       "Special Codes         9115\n",
       "Product-Specific      9061\n",
       "Other                 8430\n",
       "Name: count, dtype: int64"
      ]
     },
     "execution_count": 21,
     "metadata": {},
     "output_type": "execute_result"
    }
   ],
   "source": [
    "joined_drop[\"standardized_size\"].value_counts()"
   ]
  },
  {
   "cell_type": "code",
   "execution_count": 22,
   "id": "aa8e2e31",
   "metadata": {},
   "outputs": [
    {
     "data": {
      "text/plain": [
       "5"
      ]
     },
     "execution_count": 22,
     "metadata": {},
     "output_type": "execute_result"
    }
   ],
   "source": [
    "len(joined_drop.standardized_size.value_counts())"
   ]
  },
  {
   "cell_type": "markdown",
   "id": "4a6a2c7f",
   "metadata": {},
   "source": [
    "### Style"
   ]
  },
  {
   "cell_type": "code",
   "execution_count": 23,
   "metadata": {},
   "outputs": [],
   "source": [
    "joined_drop[\"style\"] = joined_drop[\"style\"].str.strip()"
   ]
  },
  {
   "cell_type": "code",
   "execution_count": 24,
   "id": "5c147684",
   "metadata": {},
   "outputs": [
    {
     "data": {
      "text/plain": [
       "style\n",
       "62A4            2057\n",
       "2410            1803\n",
       "645J            1741\n",
       "75416           1580\n",
       "8     F30G61    1369\n",
       "                ... \n",
       "3603               1\n",
       "R039TD             1\n",
       "08    633626       1\n",
       "56    BF9421       1\n",
       "35-92 413641       1\n",
       "Name: count, Length: 20909, dtype: int64"
      ]
     },
     "execution_count": 24,
     "metadata": {},
     "output_type": "execute_result"
    }
   ],
   "source": [
    "joined_drop[\"style\"].value_counts()"
   ]
  },
  {
   "cell_type": "code",
   "execution_count": 25,
   "id": "f5c7d10e",
   "metadata": {},
   "outputs": [
    {
     "name": "stdout",
     "output_type": "stream",
     "text": [
      "style\n",
      "62A4          2057\n",
      "2410          1803\n",
      "645J          1741\n",
      "75416         1580\n",
      "8F30G61       1369\n",
      "              ... \n",
      "3603             1\n",
      "R039TD           1\n",
      "08633626         1\n",
      "56BF9421         1\n",
      "3592413641       1\n",
      "Name: count, Length: 20909, dtype: int64\n"
     ]
    }
   ],
   "source": [
    "joined_drop[\"style\"] = joined_drop[\"style\"].str.replace(r'[^a-zA-Z0-9]', '', regex=True)\n",
    "\n",
    "# Now, you can check the updated value counts\n",
    "print(joined_drop[\"style\"].value_counts())"
   ]
  },
  {
   "cell_type": "code",
   "execution_count": 26,
   "id": "f55ed65c",
   "metadata": {},
   "outputs": [
    {
     "data": {
      "image/png": "[encoded data removed]",
      "text/plain": [
       "<Figure size 640x480 with 1 Axes>"
      ]
     },
     "metadata": {},
     "output_type": "display_data"
    }
   ],
   "source": [
    "joined_drop[\"style\"].value_counts().hist(bins=100, log=True);"
   ]
  },
  {
   "cell_type": "code",
   "execution_count": 27,
   "id": "edf722d3",
   "metadata": {},
   "outputs": [
    {
     "data": {
      "image/png": "[encoded data removed]",
      "text/plain": [
       "<Figure size 640x480 with 1 Axes>"
      ]
     },
     "metadata": {},
     "output_type": "display_data"
    }
   ],
   "source": [
    "joined_drop[\"style\"].value_counts().plot(kind='box')\n",
    "plt.xlabel('Style')\n",
    "plt.ylabel('Count')\n",
    "plt.title('Box Plot of Style Counts');"
   ]
  },
  {
   "cell_type": "code",
   "execution_count": 28,
   "metadata": {},
   "outputs": [
    {
     "data": {
      "text/plain": [
       "style\n",
       "62A4       2057\n",
       "2410       1803\n",
       "645J       1741\n",
       "75416      1580\n",
       "8F30G61    1369\n",
       "2228       1368\n",
       "75415      1352\n",
       "60QH       1239\n",
       "61X9       1022\n",
       "68LE       1001\n",
       "Name: count, dtype: int64"
      ]
     },
     "execution_count": 28,
     "metadata": {},
     "output_type": "execute_result"
    }
   ],
   "source": [
    "joined_drop['style'].value_counts(dropna=False).head(10)"
   ]
  },
  {
   "cell_type": "markdown",
   "id": "3e47deea",
   "metadata": {},
   "source": [
    "We can see that most of the style counts shows a strong right skew. With our primary interesting in detecting the most charateristics of the most popular items, we are going generalize style as well."
   ]
  },
  {
   "cell_type": "code",
   "execution_count": 29,
   "id": "57e8db0b",
   "metadata": {},
   "outputs": [
    {
     "data": {
      "text/html": [
       "<div>\n",
       "<style scoped>\n",
       "    .dataframe tbody tr th:only-of-type {\n",
       "        vertical-align: middle;\n",
       "    }\n",
       "\n",
       "    .dataframe tbody tr th {\n",
       "        vertical-align: top;\n",
       "    }\n",
       "\n",
       "    .dataframe thead th {\n",
       "        text-align: right;\n",
       "    }\n",
       "</style>\n",
       "<table border=\"1\" class=\"dataframe\">\n",
       "  <thead>\n",
       "    <tr style=\"text-align: right;\">\n",
       "      <th></th>\n",
       "      <th>sku</th>\n",
       "      <th>cost</th>\n",
       "      <th>retail</th>\n",
       "      <th>stype</th>\n",
       "      <th>quantity</th>\n",
       "      <th>orgprice</th>\n",
       "      <th>amt</th>\n",
       "      <th>style</th>\n",
       "      <th>color</th>\n",
       "      <th>size</th>\n",
       "      <th>packsize</th>\n",
       "      <th>vendor</th>\n",
       "      <th>brand</th>\n",
       "      <th>standardized_color</th>\n",
       "      <th>standardized_size</th>\n",
       "      <th>standardized_style</th>\n",
       "    </tr>\n",
       "  </thead>\n",
       "  <tbody>\n",
       "    <tr>\n",
       "      <th>0</th>\n",
       "      <td>8936935</td>\n",
       "      <td>9.58</td>\n",
       "      <td>6.00</td>\n",
       "      <td>P</td>\n",
       "      <td>1</td>\n",
       "      <td>24.0</td>\n",
       "      <td>24.00</td>\n",
       "      <td>3592413641</td>\n",
       "      <td>WHEATNUBU</td>\n",
       "      <td>L</td>\n",
       "      <td>1</td>\n",
       "      <td>914938</td>\n",
       "      <td>KIDS HEA</td>\n",
       "      <td>Other</td>\n",
       "      <td>Standard Sizes</td>\n",
       "      <td>Other</td>\n",
       "    </tr>\n",
       "    <tr>\n",
       "      <th>1</th>\n",
       "      <td>8940963</td>\n",
       "      <td>4.31</td>\n",
       "      <td>2.75</td>\n",
       "      <td>P</td>\n",
       "      <td>1</td>\n",
       "      <td>11.0</td>\n",
       "      <td>8.25</td>\n",
       "      <td>005U61516</td>\n",
       "      <td>GREYHE</td>\n",
       "      <td>L</td>\n",
       "      <td>3</td>\n",
       "      <td>4012768</td>\n",
       "      <td>TOMMY HI</td>\n",
       "      <td>Grey</td>\n",
       "      <td>Standard Sizes</td>\n",
       "      <td>Other</td>\n",
       "    </tr>\n",
       "    <tr>\n",
       "      <th>2</th>\n",
       "      <td>8944045</td>\n",
       "      <td>28.05</td>\n",
       "      <td>17.00</td>\n",
       "      <td>P</td>\n",
       "      <td>1</td>\n",
       "      <td>68.0</td>\n",
       "      <td>29.99</td>\n",
       "      <td>CC412</td>\n",
       "      <td>MULTI</td>\n",
       "      <td>M</td>\n",
       "      <td>1</td>\n",
       "      <td>8043525</td>\n",
       "      <td>KORET OF</td>\n",
       "      <td>Multi</td>\n",
       "      <td>Standard Sizes</td>\n",
       "      <td>Other</td>\n",
       "    </tr>\n",
       "    <tr>\n",
       "      <th>3</th>\n",
       "      <td>8944045</td>\n",
       "      <td>25.00</td>\n",
       "      <td>14.50</td>\n",
       "      <td>P</td>\n",
       "      <td>1</td>\n",
       "      <td>58.0</td>\n",
       "      <td>29.00</td>\n",
       "      <td>CC412</td>\n",
       "      <td>MULTI</td>\n",
       "      <td>M</td>\n",
       "      <td>1</td>\n",
       "      <td>8043525</td>\n",
       "      <td>KORET OF</td>\n",
       "      <td>Multi</td>\n",
       "      <td>Standard Sizes</td>\n",
       "      <td>Other</td>\n",
       "    </tr>\n",
       "    <tr>\n",
       "      <th>4</th>\n",
       "      <td>8972921</td>\n",
       "      <td>14.72</td>\n",
       "      <td>17.50</td>\n",
       "      <td>P</td>\n",
       "      <td>1</td>\n",
       "      <td>35.0</td>\n",
       "      <td>35.00</td>\n",
       "      <td>TPILTRAQL</td>\n",
       "      <td>TERRA</td>\n",
       "      <td>BOU PIL</td>\n",
       "      <td>2</td>\n",
       "      <td>619402</td>\n",
       "      <td>STATUS Q</td>\n",
       "      <td>Other</td>\n",
       "      <td>Standard Sizes</td>\n",
       "      <td>Other</td>\n",
       "    </tr>\n",
       "  </tbody>\n",
       "</table>\n",
       "</div>"
      ],
      "text/plain": [
       "       sku   cost  retail stype  quantity  orgprice    amt       style  \\\n",
       "0  8936935   9.58    6.00     P         1      24.0  24.00  3592413641   \n",
       "1  8940963   4.31    2.75     P         1      11.0   8.25   005U61516   \n",
       "2  8944045  28.05   17.00     P         1      68.0  29.99       CC412   \n",
       "3  8944045  25.00   14.50     P         1      58.0  29.00       CC412   \n",
       "4  8972921  14.72   17.50     P         1      35.0  35.00   TPILTRAQL   \n",
       "\n",
       "       color     size  packsize   vendor     brand standardized_color  \\\n",
       "0  WHEATNUBU        L         1   914938  KIDS HEA              Other   \n",
       "1     GREYHE        L         3  4012768  TOMMY HI               Grey   \n",
       "2      MULTI        M         1  8043525  KORET OF              Multi   \n",
       "3      MULTI        M         1  8043525  KORET OF              Multi   \n",
       "4      TERRA  BOU PIL         2   619402  STATUS Q              Other   \n",
       "\n",
       "  standardized_size standardized_style  \n",
       "0    Standard Sizes              Other  \n",
       "1    Standard Sizes              Other  \n",
       "2    Standard Sizes              Other  \n",
       "3    Standard Sizes              Other  \n",
       "4    Standard Sizes              Other  "
      ]
     },
     "execution_count": 29,
     "metadata": {},
     "output_type": "execute_result"
    }
   ],
   "source": [
    "style_categories = {\n",
    "    'Numeric Styles': ['62A4', '2410', '645J', '75416', '2228', '75415', '60QH', '61X9', '68LE', '647J', '61EM', '12D028', '6121', '635P', '68A0', 'R314', '19D028', '670029', '689U', '6AJY', '1007', 'U7188', '617G', '618J', '634C', '006U64012', '6F0K', '6AL9', 'R111', '663E02', '6101', '64XF', '649G', '2977', '64MT', '16J708', '3008', '6362', '73014', '8864', '11D028', '780554', 'R316', '0F30G87', '064115184', '6120', '608E', 'U5304', '3845', '6339', '269115180', '276343111', '2534', '2704', 'R165', '6F0A', '635M01', '6126'],\n",
    "    'Alphanumeric Styles': ['8F30G61', '61X9', '68LE', '61EM', 'R314', 'U7188', '617G', '618J', 'R111', '663E02', '64XF', '649G', '64MT', '16J708', '6362', '780554', 'R316', '0F30G87', '6120', '608E', 'U5304', '3845', '6339', 'R165', '6F0A', '635M01', '6126'],\n",
    "    'Product-Specific Styles': ['546115185', '064115184', '269115180', '276343111'],\n",
    "    'Length-Based Styles': ['64XF', '649G', '64MT', '16J708', '6362', '780554', 'R316', '0F30G87'],\n",
    "    'Patterned Styles': ['8F30G61', '61X9', '68LE', '61EM', 'R314', 'U7188', '617G', '618J', 'R111', '663E02'],\n",
    "    'Series Styles': ['12D028', '19D028', '670029', '689U', '2977', '11D028'],\n",
    "    'Special Codes': ['006U64012', '546115185', '064115184', 'U5304'],\n",
    "}\n",
    "\n",
    "# Function to map style to categories with improved cleaning\n",
    "def map_style_to_category(style):\n",
    "    for category, style_list in style_categories.items():\n",
    "        for variation in style_list:\n",
    "            if variation in style:\n",
    "                return category\n",
    "    return 'Other'\n",
    "\n",
    "# Apply the mapping function to the 'color' column\n",
    "joined_drop['standardized_style'] = joined_drop['style'].apply(map_style_to_category)\n",
    "\n",
    "joined_drop.head()"
   ]
  },
  {
   "cell_type": "code",
   "execution_count": 30,
   "id": "fb2f1566",
   "metadata": {},
   "outputs": [
    {
     "data": {
      "image/png": "[encoded data removed]",
      "text/plain": [
       "<Figure size 640x480 with 1 Axes>"
      ]
     },
     "metadata": {},
     "output_type": "display_data"
    }
   ],
   "source": [
    "joined_drop[\"standardized_style\"].value_counts().plot(kind='box')\n",
    "plt.xlabel('Style')\n",
    "plt.ylabel('Count')\n",
    "plt.title('Box Plot of Style Counts');"
   ]
  },
  {
   "cell_type": "code",
   "execution_count": 31,
   "id": "d9c200c3",
   "metadata": {},
   "outputs": [
    {
     "data": {
      "text/plain": [
       "standardized_style\n",
       "Other                      178486\n",
       "Numeric Styles              39975\n",
       "Alphanumeric Styles          1369\n",
       "Product-Specific Styles       446\n",
       "Name: count, dtype: int64"
      ]
     },
     "execution_count": 31,
     "metadata": {},
     "output_type": "execute_result"
    }
   ],
   "source": [
    "joined_drop['standardized_style'].value_counts()"
   ]
  },
  {
   "cell_type": "code",
   "execution_count": 32,
   "id": "719c0519",
   "metadata": {},
   "outputs": [],
   "source": [
    "# save data to pickle for later processings\n",
    "joined_drop.to_pickle('../data/week8.pkl')"
   ]
  }
 ],
 "metadata": {
  "kernelspec": {
   "display_name": "Python 3 (ipykernel)",
   "language": "python",
   "name": "python3"
  },
  "language_info": {
   "codemirror_mode": {
    "name": "ipython",
    "version": 3
   },
   "file_extension": ".py",
   "mimetype": "text/x-python",
   "name": "python",
   "nbconvert_exporter": "python",
   "pygments_lexer": "ipython3",
   "version": "3.11.4"
  }
 },
 "nbformat": 4,
 "nbformat_minor": 5
}
