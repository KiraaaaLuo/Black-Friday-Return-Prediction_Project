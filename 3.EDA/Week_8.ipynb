{
 "cells": [
  {
   "cell_type": "markdown",
   "id": "d7f1ca80",
   "metadata": {},
   "source": [
    "# week 8 Update"
   ]
  },
  {
   "cell_type": "code",
   "execution_count": 24,
   "id": "7b0f963f",
   "metadata": {},
   "outputs": [
    {
     "data": {
      "text/plain": [
       "0        17.5\n",
       "1        39.0\n",
       "2        79.0\n",
       "3        20.0\n",
       "4        47.0\n",
       "         ... \n",
       "98183    14.0\n",
       "98184    14.0\n",
       "98185    14.0\n",
       "98186    14.0\n",
       "98187    14.0\n",
       "Name: retail, Length: 97252, dtype: float64"
      ]
     },
     "execution_count": 24,
     "metadata": {},
     "output_type": "execute_result"
    }
   ],
   "source": [
    "#check for outliers\n",
    "joined_drop.retail"
   ]
  },
  {
   "cell_type": "code",
   "execution_count": 25,
   "id": "7dc3cd36",
   "metadata": {},
   "outputs": [
    {
     "data": {
      "text/plain": [
       "117      295.0\n",
       "118      295.0\n",
       "252      295.0\n",
       "253      295.0\n",
       "330      125.0\n",
       "         ...  \n",
       "97538    295.0\n",
       "97970    125.0\n",
       "97971    125.0\n",
       "97973    125.0\n",
       "97974    125.0\n",
       "Name: retail, Length: 771, dtype: float64"
      ]
     },
     "execution_count": 25,
     "metadata": {},
     "output_type": "execute_result"
    }
   ],
   "source": [
    "# find the outliers that are more than 3 standard deviations away from the mean\n",
    "price_mean = joined_drop.retail.mean()\n",
    "price_std = joined_drop.retail.std()\n",
    "\n",
    "outliers = np.abs(joined_drop.retail - price_mean) > 3 * price_std\n",
    "joined_drop.retail[outliers]"
   ]
  },
  {
   "cell_type": "markdown",
   "id": "b468f692",
   "metadata": {},
   "source": [
    "We would use retail price to calculate the profit, although there are outliers in the retail price, but we would NOT deal with it because it is normal that Dillard sells different kind of priducts with wide range of prices. "
   ]
  },
  {
   "cell_type": "markdown",
   "id": "4886d3e3",
   "metadata": {},
   "source": [
    "## continue to standardize all the scale "
   ]
  },
  {
   "cell_type": "markdown",
   "id": "af8d62c5",
   "metadata": {},
   "source": [
    "### Color"
   ]
  },
  {
   "cell_type": "code",
   "execution_count": 26,
   "id": "75c7a696",
   "metadata": {},
   "outputs": [
    {
     "data": {
      "text/plain": [
       "color\n",
       "BLACK         6829\n",
       "WHITE         6407\n",
       "001BLACK      1248\n",
       "01-BLACK      1153\n",
       "MULTI         1148\n",
       "              ... \n",
       "CHARCOAL/T       1\n",
       "COPER36C5        1\n",
       "454BLUE/PR       1\n",
       "0012871125       1\n",
       "PURPLE 1         1\n",
       "Name: count, Length: 6451, dtype: int64"
      ]
     },
     "execution_count": 26,
     "metadata": {},
     "output_type": "execute_result"
    }
   ],
   "source": [
    "joined_drop.color.value_counts()"
   ]
  },
  {
   "cell_type": "markdown",
   "id": "7b2afc0f",
   "metadata": {},
   "source": [
    "we need to standardize colors \n",
    "before cleaning, we have 6451 different colors."
   ]
  },
  {
   "cell_type": "code",
   "execution_count": 29,
   "id": "c44c0d63",
   "metadata": {},
   "outputs": [],
   "source": [
    "import pandas as pd\n",
    "import numpy as np\n",
    "from kmodes.kmodes import KModes\n",
    "import matplotlib.pyplot as plt\n",
    "%matplotlib inline"
   ]
  },
  {
   "cell_type": "code",
   "execution_count": 30,
   "id": "34ca686a",
   "metadata": {},
   "outputs": [
    {
     "data": {
      "text/plain": [
       "(97252, 17)"
      ]
     },
     "execution_count": 30,
     "metadata": {},
     "output_type": "execute_result"
    }
   ],
   "source": [
    "#Drop Null value\n",
    "joined_drop= joined_drop.dropna()\n",
    "joined_drop.shape"
   ]
  },
  {
   "cell_type": "code",
   "execution_count": 31,
   "id": "de5a62ec",
   "metadata": {},
   "outputs": [
    {
     "data": {
      "text/html": [
       "<div>\n",
       "<style scoped>\n",
       "    .dataframe tbody tr th:only-of-type {\n",
       "        vertical-align: middle;\n",
       "    }\n",
       "\n",
       "    .dataframe tbody tr th {\n",
       "        vertical-align: top;\n",
       "    }\n",
       "\n",
       "    .dataframe thead th {\n",
       "        text-align: right;\n",
       "    }\n",
       "</style>\n",
       "<table border=\"1\" class=\"dataframe\">\n",
       "  <thead>\n",
       "    <tr style=\"text-align: right;\">\n",
       "      <th></th>\n",
       "      <th>sku</th>\n",
       "      <th>store</th>\n",
       "      <th>stype</th>\n",
       "      <th>quantity</th>\n",
       "      <th>orgprice</th>\n",
       "      <th>amt</th>\n",
       "      <th>cost</th>\n",
       "      <th>retail</th>\n",
       "      <th>dept</th>\n",
       "      <th>classid</th>\n",
       "      <th>upc</th>\n",
       "      <th>style</th>\n",
       "      <th>color</th>\n",
       "      <th>size</th>\n",
       "      <th>packsize</th>\n",
       "      <th>vendor</th>\n",
       "      <th>brand</th>\n",
       "      <th>standardized_color</th>\n",
       "    </tr>\n",
       "  </thead>\n",
       "  <tbody>\n",
       "    <tr>\n",
       "      <th>0</th>\n",
       "      <td>1000940</td>\n",
       "      <td>4202</td>\n",
       "      <td>P</td>\n",
       "      <td>1</td>\n",
       "      <td>17.5</td>\n",
       "      <td>17.5</td>\n",
       "      <td>8.4</td>\n",
       "      <td>17.5</td>\n",
       "      <td>2105</td>\n",
       "      <td>125</td>\n",
       "      <td>400000940100</td>\n",
       "      <td>676RKI</td>\n",
       "      <td>CHAMBRAY P</td>\n",
       "      <td>M</td>\n",
       "      <td>1</td>\n",
       "      <td>3622251</td>\n",
       "      <td>SARA LEE</td>\n",
       "      <td>Blue</td>\n",
       "    </tr>\n",
       "    <tr>\n",
       "      <th>1</th>\n",
       "      <td>1001212</td>\n",
       "      <td>604</td>\n",
       "      <td>R</td>\n",
       "      <td>1</td>\n",
       "      <td>39.0</td>\n",
       "      <td>39.0</td>\n",
       "      <td>18.8</td>\n",
       "      <td>39.0</td>\n",
       "      <td>8306</td>\n",
       "      <td>272</td>\n",
       "      <td>400001212100</td>\n",
       "      <td>Y     J63524</td>\n",
       "      <td>BEET RED</td>\n",
       "      <td>100M</td>\n",
       "      <td>1</td>\n",
       "      <td>5616208</td>\n",
       "      <td>MERRELL/</td>\n",
       "      <td>Red</td>\n",
       "    </tr>\n",
       "    <tr>\n",
       "      <th>2</th>\n",
       "      <td>1001224</td>\n",
       "      <td>3807</td>\n",
       "      <td>P</td>\n",
       "      <td>1</td>\n",
       "      <td>79.0</td>\n",
       "      <td>79.0</td>\n",
       "      <td>37.0</td>\n",
       "      <td>79.0</td>\n",
       "      <td>7106</td>\n",
       "      <td>312</td>\n",
       "      <td>400001224100</td>\n",
       "      <td>E991  L-PULS</td>\n",
       "      <td>BLK NAPPA</td>\n",
       "      <td>095M</td>\n",
       "      <td>1</td>\n",
       "      <td>3816210</td>\n",
       "      <td>FRANCO S</td>\n",
       "      <td>Black</td>\n",
       "    </tr>\n",
       "    <tr>\n",
       "      <th>3</th>\n",
       "      <td>1002009</td>\n",
       "      <td>4103</td>\n",
       "      <td>P</td>\n",
       "      <td>1</td>\n",
       "      <td>20.0</td>\n",
       "      <td>20.0</td>\n",
       "      <td>9.0</td>\n",
       "      <td>20.0</td>\n",
       "      <td>2102</td>\n",
       "      <td>782</td>\n",
       "      <td>400002009100</td>\n",
       "      <td>8004</td>\n",
       "      <td>BLACK</td>\n",
       "      <td>36C</td>\n",
       "      <td>1</td>\n",
       "      <td>4516339</td>\n",
       "      <td>CABERNET</td>\n",
       "      <td>Black</td>\n",
       "    </tr>\n",
       "    <tr>\n",
       "      <th>4</th>\n",
       "      <td>1002115</td>\n",
       "      <td>9103</td>\n",
       "      <td>P</td>\n",
       "      <td>1</td>\n",
       "      <td>47.0</td>\n",
       "      <td>47.0</td>\n",
       "      <td>28.2</td>\n",
       "      <td>47.0</td>\n",
       "      <td>5100</td>\n",
       "      <td>007</td>\n",
       "      <td>400002115100</td>\n",
       "      <td>132020</td>\n",
       "      <td>CLAIR</td>\n",
       "      <td>NO SIZE</td>\n",
       "      <td>3</td>\n",
       "      <td>6041161</td>\n",
       "      <td>CHANEL I</td>\n",
       "      <td>Multi</td>\n",
       "    </tr>\n",
       "  </tbody>\n",
       "</table>\n",
       "</div>"
      ],
      "text/plain": [
       "       sku  store stype  quantity  orgprice   amt  cost  retail  dept classid  \\\n",
       "0  1000940   4202     P         1      17.5  17.5   8.4    17.5  2105     125   \n",
       "1  1001212    604     R         1      39.0  39.0  18.8    39.0  8306     272   \n",
       "2  1001224   3807     P         1      79.0  79.0  37.0    79.0  7106     312   \n",
       "3  1002009   4103     P         1      20.0  20.0   9.0    20.0  2102     782   \n",
       "4  1002115   9103     P         1      47.0  47.0  28.2    47.0  5100     007   \n",
       "\n",
       "            upc         style       color     size  packsize   vendor  \\\n",
       "0  400000940100        676RKI  CHAMBRAY P        M         1  3622251   \n",
       "1  400001212100  Y     J63524    BEET RED     100M         1  5616208   \n",
       "2  400001224100  E991  L-PULS   BLK NAPPA     095M         1  3816210   \n",
       "3  400002009100          8004       BLACK      36C         1  4516339   \n",
       "4  400002115100        132020       CLAIR  NO SIZE         3  6041161   \n",
       "\n",
       "      brand standardized_color  \n",
       "0  SARA LEE               Blue  \n",
       "1  MERRELL/                Red  \n",
       "2  FRANCO S              Black  \n",
       "3  CABERNET              Black  \n",
       "4  CHANEL I              Multi  "
      ]
     },
     "execution_count": 31,
     "metadata": {},
     "output_type": "execute_result"
    }
   ],
   "source": [
    "# Define your color categories\n",
    "color_categories = {\n",
    "    'Black': ['BLACK', '001BLACK', '01-BLACK', 'CHARCOAL',\"BLKNAPPA\"],\n",
    "    'White': ['WHITE', 'BEIGE',\"39LOVEYDOVE\",'OATMEAL'],\n",
    "    'Red': ['RED', 'BURGUNDY', 'MAROON',\"BEETRED\",\"650ROUGE\"],  # Add variations of red here\n",
    "    'Green': ['GREEN', 'LIME', 'OLIVE',\"APPLEGREE\"],   # Add variations of green here\n",
    "    'Yellow': ['YELLOW', 'GOLD', 'AMBER'], # Add variations of yellow here\n",
    "    'Blue': ['BLUE', 'NAVY', 'CYAN',\"CHAMBRAYP\"],      # Add variations of blue here\n",
    "    'Brown': ['BROWN', 'TAN', 'BRONZE',\"ROSEWOOD\"],   # Add variations of brown here\n",
    "    'Orange': ['ORANGE', 'CORAL'],         # Add variations of orange here\n",
    "    'Pink': ['PINK', 'FUCHSIA',\"10BERRY\"],           # Add variations of pink here\n",
    "    'Purple': ['PURPLE', 'VIOLET'],        # Add variations of purple here\n",
    "    'Grey': ['GREY', 'SILVER', 'CHARCOAL'],# Add variations of grey here\n",
    "    \"Silver\":[\"Silver\"],\n",
    "    \"Gold\":[\"Gold\"],\n",
    "    \"Nocolor\":[\"Nocolor\"],\n",
    "    \"Multi\":[\"STONEWASH\",'ASSORTED',\"CLAIR\"]\n",
    "}\n",
    "\n",
    "# Function to map colors to categories with improved cleaning\n",
    "def map_color_to_category(color):\n",
    "    # Retain significant numbers or characters as needed\n",
    "    color_cleaned = ''.join(filter(lambda c: c.isalpha() or c.isdigit(), color.upper()))\n",
    "    for category, color_list in color_categories.items():\n",
    "        for variation in color_list:\n",
    "            if variation in color_cleaned:\n",
    "                return category\n",
    "    return 'Other'\n",
    "\n",
    "# Apply the mapping function to the 'color' column\n",
    "joined_drop['standardized_color'] = joined_drop['color'].apply(map_color_to_category)\n",
    "\n",
    "joined_drop.head()"
   ]
  },
  {
   "cell_type": "code",
   "execution_count": 32,
   "id": "4037bb03",
   "metadata": {},
   "outputs": [
    {
     "data": {
      "text/html": [
       "<div>\n",
       "<style scoped>\n",
       "    .dataframe tbody tr th:only-of-type {\n",
       "        vertical-align: middle;\n",
       "    }\n",
       "\n",
       "    .dataframe tbody tr th {\n",
       "        vertical-align: top;\n",
       "    }\n",
       "\n",
       "    .dataframe thead th {\n",
       "        text-align: right;\n",
       "    }\n",
       "</style>\n",
       "<table border=\"1\" class=\"dataframe\">\n",
       "  <thead>\n",
       "    <tr style=\"text-align: right;\">\n",
       "      <th></th>\n",
       "      <th>sku</th>\n",
       "      <th>store</th>\n",
       "      <th>stype</th>\n",
       "      <th>quantity</th>\n",
       "      <th>orgprice</th>\n",
       "      <th>amt</th>\n",
       "      <th>cost</th>\n",
       "      <th>retail</th>\n",
       "      <th>dept</th>\n",
       "      <th>classid</th>\n",
       "      <th>upc</th>\n",
       "      <th>style</th>\n",
       "      <th>color</th>\n",
       "      <th>size</th>\n",
       "      <th>packsize</th>\n",
       "      <th>vendor</th>\n",
       "      <th>brand</th>\n",
       "      <th>standardized_color</th>\n",
       "    </tr>\n",
       "  </thead>\n",
       "  <tbody>\n",
       "    <tr>\n",
       "      <th>12</th>\n",
       "      <td>1006384</td>\n",
       "      <td>7402</td>\n",
       "      <td>P</td>\n",
       "      <td>1</td>\n",
       "      <td>48.0</td>\n",
       "      <td>32.16</td>\n",
       "      <td>14.40</td>\n",
       "      <td>12.00</td>\n",
       "      <td>7101</td>\n",
       "      <td>002</td>\n",
       "      <td>400006384100</td>\n",
       "      <td>190031</td>\n",
       "      <td>H. BR FUSC</td>\n",
       "      <td>XL</td>\n",
       "      <td>1</td>\n",
       "      <td>6516189</td>\n",
       "      <td>REPUBLIC</td>\n",
       "      <td>Other</td>\n",
       "    </tr>\n",
       "    <tr>\n",
       "      <th>29</th>\n",
       "      <td>1007622</td>\n",
       "      <td>6104</td>\n",
       "      <td>P</td>\n",
       "      <td>1</td>\n",
       "      <td>6.0</td>\n",
       "      <td>4.00</td>\n",
       "      <td>1.80</td>\n",
       "      <td>3.00</td>\n",
       "      <td>1202</td>\n",
       "      <td>404</td>\n",
       "      <td>400007622100</td>\n",
       "      <td>14D028</td>\n",
       "      <td>CARNIVALSTR</td>\n",
       "      <td>S</td>\n",
       "      <td>1</td>\n",
       "      <td>313319</td>\n",
       "      <td>CABERNET</td>\n",
       "      <td>Other</td>\n",
       "    </tr>\n",
       "    <tr>\n",
       "      <th>35</th>\n",
       "      <td>1012961</td>\n",
       "      <td>9806</td>\n",
       "      <td>P</td>\n",
       "      <td>1</td>\n",
       "      <td>42.5</td>\n",
       "      <td>42.50</td>\n",
       "      <td>25.50</td>\n",
       "      <td>42.50</td>\n",
       "      <td>800</td>\n",
       "      <td>005</td>\n",
       "      <td>400002961101</td>\n",
       "      <td>66K4</td>\n",
       "      <td>HAPPIER 664K</td>\n",
       "      <td>*DISC</td>\n",
       "      <td>3</td>\n",
       "      <td>5511283</td>\n",
       "      <td>CLINIQUE</td>\n",
       "      <td>Other</td>\n",
       "    </tr>\n",
       "    <tr>\n",
       "      <th>36</th>\n",
       "      <td>1014324</td>\n",
       "      <td>9304</td>\n",
       "      <td>P</td>\n",
       "      <td>1</td>\n",
       "      <td>30.0</td>\n",
       "      <td>30.00</td>\n",
       "      <td>11.15</td>\n",
       "      <td>30.00</td>\n",
       "      <td>9105</td>\n",
       "      <td>927</td>\n",
       "      <td>400004324101</td>\n",
       "      <td>00T   1356C0</td>\n",
       "      <td>VINTAGE</td>\n",
       "      <td>36 36</td>\n",
       "      <td>1</td>\n",
       "      <td>6216217</td>\n",
       "      <td>ROUNDTRE</td>\n",
       "      <td>Other</td>\n",
       "    </tr>\n",
       "    <tr>\n",
       "      <th>39</th>\n",
       "      <td>1014478</td>\n",
       "      <td>2303</td>\n",
       "      <td>P</td>\n",
       "      <td>1</td>\n",
       "      <td>37.5</td>\n",
       "      <td>37.50</td>\n",
       "      <td>22.50</td>\n",
       "      <td>37.50</td>\n",
       "      <td>6400</td>\n",
       "      <td>004</td>\n",
       "      <td>400004478101</td>\n",
       "      <td>8     7002-9</td>\n",
       "      <td>SHOWER GEL</td>\n",
       "      <td>6.7</td>\n",
       "      <td>3</td>\n",
       "      <td>11679</td>\n",
       "      <td>DESIGNER</td>\n",
       "      <td>Other</td>\n",
       "    </tr>\n",
       "    <tr>\n",
       "      <th>...</th>\n",
       "      <td>...</td>\n",
       "      <td>...</td>\n",
       "      <td>...</td>\n",
       "      <td>...</td>\n",
       "      <td>...</td>\n",
       "      <td>...</td>\n",
       "      <td>...</td>\n",
       "      <td>...</td>\n",
       "      <td>...</td>\n",
       "      <td>...</td>\n",
       "      <td>...</td>\n",
       "      <td>...</td>\n",
       "      <td>...</td>\n",
       "      <td>...</td>\n",
       "      <td>...</td>\n",
       "      <td>...</td>\n",
       "      <td>...</td>\n",
       "      <td>...</td>\n",
       "    </tr>\n",
       "    <tr>\n",
       "      <th>98121</th>\n",
       "      <td>9996028</td>\n",
       "      <td>509</td>\n",
       "      <td>P</td>\n",
       "      <td>1</td>\n",
       "      <td>48.0</td>\n",
       "      <td>48.00</td>\n",
       "      <td>19.63</td>\n",
       "      <td>12.00</td>\n",
       "      <td>2301</td>\n",
       "      <td>002</td>\n",
       "      <td>400006028999</td>\n",
       "      <td>CC932</td>\n",
       "      <td>AMETHYST</td>\n",
       "      <td>M</td>\n",
       "      <td>1</td>\n",
       "      <td>8043525</td>\n",
       "      <td>KORET OF</td>\n",
       "      <td>Other</td>\n",
       "    </tr>\n",
       "    <tr>\n",
       "      <th>98124</th>\n",
       "      <td>9996230</td>\n",
       "      <td>7603</td>\n",
       "      <td>P</td>\n",
       "      <td>1</td>\n",
       "      <td>32.0</td>\n",
       "      <td>32.00</td>\n",
       "      <td>12.80</td>\n",
       "      <td>16.00</td>\n",
       "      <td>5404</td>\n",
       "      <td>003</td>\n",
       "      <td>400006230999</td>\n",
       "      <td>85-89 443550</td>\n",
       "      <td>DENIM MEDI</td>\n",
       "      <td>7</td>\n",
       "      <td>1</td>\n",
       "      <td>934938</td>\n",
       "      <td>KIDS HEA</td>\n",
       "      <td>Other</td>\n",
       "    </tr>\n",
       "    <tr>\n",
       "      <th>98125</th>\n",
       "      <td>9996269</td>\n",
       "      <td>9402</td>\n",
       "      <td>P</td>\n",
       "      <td>1</td>\n",
       "      <td>58.0</td>\n",
       "      <td>24.99</td>\n",
       "      <td>23.00</td>\n",
       "      <td>14.50</td>\n",
       "      <td>1301</td>\n",
       "      <td>004</td>\n",
       "      <td>400006269999</td>\n",
       "      <td>009H  5E-L20</td>\n",
       "      <td>MEDIUM STO</td>\n",
       "      <td>20W</td>\n",
       "      <td>1</td>\n",
       "      <td>1510974</td>\n",
       "      <td>CM SHAPE</td>\n",
       "      <td>Other</td>\n",
       "    </tr>\n",
       "    <tr>\n",
       "      <th>98128</th>\n",
       "      <td>9997198</td>\n",
       "      <td>2104</td>\n",
       "      <td>P</td>\n",
       "      <td>1</td>\n",
       "      <td>25.0</td>\n",
       "      <td>14.99</td>\n",
       "      <td>6.16</td>\n",
       "      <td>6.25</td>\n",
       "      <td>2107</td>\n",
       "      <td>001</td>\n",
       "      <td>400007198999</td>\n",
       "      <td>0     427H15</td>\n",
       "      <td>CLEAR</td>\n",
       "      <td>ALL</td>\n",
       "      <td>4</td>\n",
       "      <td>7149207</td>\n",
       "      <td>MAIN ING</td>\n",
       "      <td>Other</td>\n",
       "    </tr>\n",
       "    <tr>\n",
       "      <th>98129</th>\n",
       "      <td>9997316</td>\n",
       "      <td>7003</td>\n",
       "      <td>P</td>\n",
       "      <td>1</td>\n",
       "      <td>21.0</td>\n",
       "      <td>21.00</td>\n",
       "      <td>9.87</td>\n",
       "      <td>10.50</td>\n",
       "      <td>7205</td>\n",
       "      <td>876</td>\n",
       "      <td>400007316999</td>\n",
       "      <td>CA7HKUR202AC</td>\n",
       "      <td>WHT</td>\n",
       "      <td>M</td>\n",
       "      <td>1</td>\n",
       "      <td>7516216</td>\n",
       "      <td>ONFIELD</td>\n",
       "      <td>Other</td>\n",
       "    </tr>\n",
       "  </tbody>\n",
       "</table>\n",
       "<p>58654 rows × 18 columns</p>\n",
       "</div>"
      ],
      "text/plain": [
       "           sku  store stype  quantity  orgprice    amt   cost  retail  dept  \\\n",
       "12     1006384   7402     P         1      48.0  32.16  14.40   12.00  7101   \n",
       "29     1007622   6104     P         1       6.0   4.00   1.80    3.00  1202   \n",
       "35     1012961   9806     P         1      42.5  42.50  25.50   42.50   800   \n",
       "36     1014324   9304     P         1      30.0  30.00  11.15   30.00  9105   \n",
       "39     1014478   2303     P         1      37.5  37.50  22.50   37.50  6400   \n",
       "...        ...    ...   ...       ...       ...    ...    ...     ...   ...   \n",
       "98121  9996028    509     P         1      48.0  48.00  19.63   12.00  2301   \n",
       "98124  9996230   7603     P         1      32.0  32.00  12.80   16.00  5404   \n",
       "98125  9996269   9402     P         1      58.0  24.99  23.00   14.50  1301   \n",
       "98128  9997198   2104     P         1      25.0  14.99   6.16    6.25  2107   \n",
       "98129  9997316   7003     P         1      21.0  21.00   9.87   10.50  7205   \n",
       "\n",
       "      classid           upc         style         color   size  packsize  \\\n",
       "12        002  400006384100        190031    H. BR FUSC     XL         1   \n",
       "29        404  400007622100        14D028   CARNIVALSTR      S         1   \n",
       "35        005  400002961101          66K4  HAPPIER 664K  *DISC         3   \n",
       "36        927  400004324101  00T   1356C0       VINTAGE  36 36         1   \n",
       "39        004  400004478101  8     7002-9    SHOWER GEL    6.7         3   \n",
       "...       ...           ...           ...           ...    ...       ...   \n",
       "98121     002  400006028999         CC932      AMETHYST      M         1   \n",
       "98124     003  400006230999  85-89 443550    DENIM MEDI      7         1   \n",
       "98125     004  400006269999  009H  5E-L20    MEDIUM STO    20W         1   \n",
       "98128     001  400007198999  0     427H15         CLEAR    ALL         4   \n",
       "98129     876  400007316999  CA7HKUR202AC           WHT      M         1   \n",
       "\n",
       "        vendor     brand standardized_color  \n",
       "12     6516189  REPUBLIC              Other  \n",
       "29      313319  CABERNET              Other  \n",
       "35     5511283  CLINIQUE              Other  \n",
       "36     6216217  ROUNDTRE              Other  \n",
       "39       11679  DESIGNER              Other  \n",
       "...        ...       ...                ...  \n",
       "98121  8043525  KORET OF              Other  \n",
       "98124   934938  KIDS HEA              Other  \n",
       "98125  1510974  CM SHAPE              Other  \n",
       "98128  7149207  MAIN ING              Other  \n",
       "98129  7516216   ONFIELD              Other  \n",
       "\n",
       "[58654 rows x 18 columns]"
      ]
     },
     "execution_count": 32,
     "metadata": {},
     "output_type": "execute_result"
    }
   ],
   "source": [
    "#PICK SOME COLORS WE COULD PROCESS FURTHER, LEAVE THOSE WE COULD NOT RECOGNIZE\n",
    "other_colors_df = joined_drop[joined_drop['standardized_color'] == \"Other\"]\n",
    "other_colors_df"
   ]
  },
  {
   "cell_type": "code",
   "execution_count": 33,
   "id": "4f987fec",
   "metadata": {},
   "outputs": [
    {
     "data": {
      "text/plain": [
       "standardized_color\n",
       "Other     58654\n",
       "Black     13128\n",
       "White     10084\n",
       "Blue       4209\n",
       "Brown      2368\n",
       "Red        2177\n",
       "Grey       1679\n",
       "Pink       1625\n",
       "Yellow     1122\n",
       "Multi      1094\n",
       "Green       620\n",
       "Purple      275\n",
       "Orange      217\n",
       "Name: count, dtype: int64"
      ]
     },
     "execution_count": 33,
     "metadata": {},
     "output_type": "execute_result"
    }
   ],
   "source": [
    "joined_drop.standardized_color.value_counts()"
   ]
  },
  {
   "cell_type": "code",
   "execution_count": 34,
   "id": "b43e3e50",
   "metadata": {},
   "outputs": [
    {
     "data": {
      "text/plain": [
       "13"
      ]
     },
     "execution_count": 34,
     "metadata": {},
     "output_type": "execute_result"
    }
   ],
   "source": [
    "len(joined_drop.standardized_color.value_counts())"
   ]
  },
  {
   "cell_type": "markdown",
   "id": "a77f223f",
   "metadata": {},
   "source": [
    "Now, we only have 13 different colors "
   ]
  },
  {
   "cell_type": "code",
   "execution_count": 35,
   "id": "2726e574",
   "metadata": {},
   "outputs": [
    {
     "data": {
      "text/plain": [
       "brand\n",
       "CLINIQUE    20388\n",
       "LANCOME      9398\n",
       "CABERNET     6482\n",
       "LIZ CLAI     3208\n",
       "MILCO IN     2057\n",
       "            ...  \n",
       "SCULLY          1\n",
       "REVMAN I        1\n",
       "DR. LUCK        1\n",
       "LEARNING        1\n",
       "J. MARCU        1\n",
       "Name: count, Length: 542, dtype: int64"
      ]
     },
     "execution_count": 35,
     "metadata": {},
     "output_type": "execute_result"
    }
   ],
   "source": [
    "#no need to deal with\n",
    "joined_drop.brand.value_counts()"
   ]
  },
  {
   "cell_type": "code",
   "execution_count": 36,
   "id": "ae5fc8bc",
   "metadata": {},
   "outputs": [
    {
     "data": {
      "text/plain": [
       "vendor\n",
       "5511283    20388\n",
       "113645      9398\n",
       "13031       3266\n",
       "3626213     2107\n",
       "2012863     1774\n",
       "           ...  \n",
       "7413322        1\n",
       "5613319        1\n",
       "3516185        1\n",
       "5413317        1\n",
       "7149207        1\n",
       "Name: count, Length: 717, dtype: int64"
      ]
     },
     "execution_count": 36,
     "metadata": {},
     "output_type": "execute_result"
    }
   ],
   "source": [
    "#no need to deal with\n",
    "joined_drop.vendor.value_counts()"
   ]
  },
  {
   "cell_type": "code",
   "execution_count": 37,
   "id": "7bd461b5",
   "metadata": {},
   "outputs": [],
   "source": [
    "#FIND WHAT COLORS CUSTOMERS LIKE TO BUY MOST/ THE COLORS WITH HIGHEST SALES REVENUE\n"
   ]
  },
  {
   "cell_type": "markdown",
   "id": "e911c533",
   "metadata": {},
   "source": [
    "### Size"
   ]
  },
  {
   "cell_type": "code",
   "execution_count": 38,
   "id": "ec7ec7a4",
   "metadata": {},
   "outputs": [
    {
     "data": {
      "text/plain": [
       "size\n",
       "ALL           15174\n",
       "M              3853\n",
       "L              3804\n",
       "NO SIZE        3542\n",
       "XL             2284\n",
       "              ...  \n",
       "MUG/SUNFLR        1\n",
       "SMOOTHFACE        1\n",
       "S/6PLT/TRA        1\n",
       "OVL BAKER         1\n",
       "TRTMT             1\n",
       "Name: count, Length: 1501, dtype: int64"
      ]
     },
     "execution_count": 38,
     "metadata": {},
     "output_type": "execute_result"
    }
   ],
   "source": [
    "joined_drop[\"size\"].value_counts()"
   ]
  },
  {
   "cell_type": "markdown",
   "id": "156424a0",
   "metadata": {},
   "source": [
    "Before cleaning the size category, we have 1501 types of sizes."
   ]
  },
  {
   "cell_type": "code",
   "execution_count": 42,
   "id": "f6e8dfc2",
   "metadata": {},
   "outputs": [
    {
     "data": {
      "text/plain": [
       "0        True\n",
       "1        True\n",
       "2        True\n",
       "3        True\n",
       "4        True\n",
       "         ... \n",
       "98183    True\n",
       "98184    True\n",
       "98185    True\n",
       "98186    True\n",
       "98187    True\n",
       "Name: size, Length: 97252, dtype: bool"
      ]
     },
     "execution_count": 42,
     "metadata": {},
     "output_type": "execute_result"
    }
   ],
   "source": [
    "joined_drop['size'].apply(lambda x: not str(x).isnumeric())"
   ]
  },
  {
   "cell_type": "markdown",
   "id": "94e35507",
   "metadata": {},
   "source": [
    "All are not numerical size."
   ]
  },
  {
   "cell_type": "code",
   "execution_count": 56,
   "id": "df1e1eb9",
   "metadata": {},
   "outputs": [],
   "source": [
    "# Count the occurrences of each value in the \"size\" column\n",
    "size_counts = joined_drop[\"size\"].value_counts()\n",
    "\n",
    "# Get the values that appear less than 300\n",
    "values_to_drop = size_counts[size_counts < 300].index\n",
    "\n",
    "# Drop rows where \"size\" is in values_to_drop\n",
    "joined_drop = joined_drop[~joined_drop[\"size\"].isin(values_to_drop)]"
   ]
  },
  {
   "cell_type": "code",
   "execution_count": 57,
   "id": "d2593139",
   "metadata": {},
   "outputs": [
    {
     "data": {
      "text/plain": [
       "size\n",
       "ALL           15174\n",
       "M              3853\n",
       "L              3804\n",
       "NO SIZE        3542\n",
       "XL             2284\n",
       "7              2032\n",
       "S              1623\n",
       "*DISC          1502\n",
       "6              1357\n",
       "ONE            1216\n",
       "9              1118\n",
       "QUICK EYE      1112\n",
       "8              1107\n",
       "5              1078\n",
       "BATH            990\n",
       "HAND            968\n",
       "STAY MATTE      962\n",
       "4.2 OZ          921\n",
       "01-BLACK        915\n",
       "DUAL FINIS      746\n",
       "SUPERBAL        730\n",
       "WASH            678\n",
       "CS EYE          632\n",
       "1               608\n",
       "080M            596\n",
       "SUPERFIT        594\n",
       "CITY BASE       591\n",
       "085M            571\n",
       "10              542\n",
       "5PPS PLC S      541\n",
       "3               512\n",
       "075M            466\n",
       "DISC            435\n",
       "100M            433\n",
       "090M            429\n",
       "1.7 OZ          427\n",
       "LL SHINE        408\n",
       "SUPERPOWDE      406\n",
       "COMPACT         377\n",
       "2               375\n",
       "12              375\n",
       "11              368\n",
       "H IMPACT        367\n",
       "3.4 OZ          363\n",
       "XXL             351\n",
       "36C             334\n",
       "095M            328\n",
       "36              323\n",
       "LIP DIFFER      321\n",
       "MAKEUP          313\n",
       "34              309\n",
       "38              306\n",
       "070M            303\n",
       "POWDER BLU      301\n",
       "Name: count, dtype: int64"
      ]
     },
     "execution_count": 57,
     "metadata": {},
     "output_type": "execute_result"
    }
   ],
   "source": [
    "joined_drop[\"size\"].value_counts()"
   ]
  },
  {
   "cell_type": "code",
   "execution_count": 58,
   "id": "97d0b830",
   "metadata": {},
   "outputs": [
    {
     "name": "stderr",
     "output_type": "stream",
     "text": [
      "/var/folders/cl/n5df_r612yn353g55xtfs5tm0000gn/T/ipykernel_12459/1303699351.py:29: SettingWithCopyWarning: \n",
      "A value is trying to be set on a copy of a slice from a DataFrame.\n",
      "Try using .loc[row_indexer,col_indexer] = value instead\n",
      "\n",
      "See the caveats in the documentation: https://pandas.pydata.org/pandas-docs/stable/user_guide/indexing.html#returning-a-view-versus-a-copy\n",
      "  joined_drop['standardized_size'] = joined_drop['size'].apply(map_size_to_category)\n"
     ]
    },
    {
     "data": {
      "text/html": [
       "<div>\n",
       "<style scoped>\n",
       "    .dataframe tbody tr th:only-of-type {\n",
       "        vertical-align: middle;\n",
       "    }\n",
       "\n",
       "    .dataframe tbody tr th {\n",
       "        vertical-align: top;\n",
       "    }\n",
       "\n",
       "    .dataframe thead th {\n",
       "        text-align: right;\n",
       "    }\n",
       "</style>\n",
       "<table border=\"1\" class=\"dataframe\">\n",
       "  <thead>\n",
       "    <tr style=\"text-align: right;\">\n",
       "      <th></th>\n",
       "      <th>sku</th>\n",
       "      <th>store</th>\n",
       "      <th>stype</th>\n",
       "      <th>quantity</th>\n",
       "      <th>orgprice</th>\n",
       "      <th>amt</th>\n",
       "      <th>cost</th>\n",
       "      <th>retail</th>\n",
       "      <th>dept</th>\n",
       "      <th>classid</th>\n",
       "      <th>upc</th>\n",
       "      <th>style</th>\n",
       "      <th>color</th>\n",
       "      <th>size</th>\n",
       "      <th>packsize</th>\n",
       "      <th>vendor</th>\n",
       "      <th>brand</th>\n",
       "      <th>standardized_color</th>\n",
       "      <th>standardized_size</th>\n",
       "    </tr>\n",
       "  </thead>\n",
       "  <tbody>\n",
       "    <tr>\n",
       "      <th>0</th>\n",
       "      <td>1000940</td>\n",
       "      <td>4202</td>\n",
       "      <td>P</td>\n",
       "      <td>1</td>\n",
       "      <td>17.5</td>\n",
       "      <td>17.5</td>\n",
       "      <td>8.4</td>\n",
       "      <td>17.5</td>\n",
       "      <td>2105</td>\n",
       "      <td>125</td>\n",
       "      <td>400000940100</td>\n",
       "      <td>676RKI</td>\n",
       "      <td>CHAMBRAY P</td>\n",
       "      <td>M</td>\n",
       "      <td>1</td>\n",
       "      <td>3622251</td>\n",
       "      <td>SARA LEE</td>\n",
       "      <td>Blue</td>\n",
       "      <td>M</td>\n",
       "    </tr>\n",
       "    <tr>\n",
       "      <th>1</th>\n",
       "      <td>1001212</td>\n",
       "      <td>604</td>\n",
       "      <td>R</td>\n",
       "      <td>1</td>\n",
       "      <td>39.0</td>\n",
       "      <td>39.0</td>\n",
       "      <td>18.8</td>\n",
       "      <td>39.0</td>\n",
       "      <td>8306</td>\n",
       "      <td>272</td>\n",
       "      <td>400001212100</td>\n",
       "      <td>Y     J63524</td>\n",
       "      <td>BEET RED</td>\n",
       "      <td>100M</td>\n",
       "      <td>1</td>\n",
       "      <td>5616208</td>\n",
       "      <td>MERRELL/</td>\n",
       "      <td>Red</td>\n",
       "      <td>4XS</td>\n",
       "    </tr>\n",
       "    <tr>\n",
       "      <th>2</th>\n",
       "      <td>1001224</td>\n",
       "      <td>3807</td>\n",
       "      <td>P</td>\n",
       "      <td>1</td>\n",
       "      <td>79.0</td>\n",
       "      <td>79.0</td>\n",
       "      <td>37.0</td>\n",
       "      <td>79.0</td>\n",
       "      <td>7106</td>\n",
       "      <td>312</td>\n",
       "      <td>400001224100</td>\n",
       "      <td>E991  L-PULS</td>\n",
       "      <td>BLK NAPPA</td>\n",
       "      <td>095M</td>\n",
       "      <td>1</td>\n",
       "      <td>3816210</td>\n",
       "      <td>FRANCO S</td>\n",
       "      <td>Black</td>\n",
       "      <td>4XS</td>\n",
       "    </tr>\n",
       "    <tr>\n",
       "      <th>3</th>\n",
       "      <td>1002009</td>\n",
       "      <td>4103</td>\n",
       "      <td>P</td>\n",
       "      <td>1</td>\n",
       "      <td>20.0</td>\n",
       "      <td>20.0</td>\n",
       "      <td>9.0</td>\n",
       "      <td>20.0</td>\n",
       "      <td>2102</td>\n",
       "      <td>782</td>\n",
       "      <td>400002009100</td>\n",
       "      <td>8004</td>\n",
       "      <td>BLACK</td>\n",
       "      <td>36C</td>\n",
       "      <td>1</td>\n",
       "      <td>4516339</td>\n",
       "      <td>CABERNET</td>\n",
       "      <td>Black</td>\n",
       "      <td>3XS</td>\n",
       "    </tr>\n",
       "    <tr>\n",
       "      <th>4</th>\n",
       "      <td>1002115</td>\n",
       "      <td>9103</td>\n",
       "      <td>P</td>\n",
       "      <td>1</td>\n",
       "      <td>47.0</td>\n",
       "      <td>47.0</td>\n",
       "      <td>28.2</td>\n",
       "      <td>47.0</td>\n",
       "      <td>5100</td>\n",
       "      <td>007</td>\n",
       "      <td>400002115100</td>\n",
       "      <td>132020</td>\n",
       "      <td>CLAIR</td>\n",
       "      <td>NO SIZE</td>\n",
       "      <td>3</td>\n",
       "      <td>6041161</td>\n",
       "      <td>CHANEL I</td>\n",
       "      <td>Multi</td>\n",
       "      <td>S</td>\n",
       "    </tr>\n",
       "  </tbody>\n",
       "</table>\n",
       "</div>"
      ],
      "text/plain": [
       "       sku  store stype  quantity  orgprice   amt  cost  retail  dept classid  \\\n",
       "0  1000940   4202     P         1      17.5  17.5   8.4    17.5  2105     125   \n",
       "1  1001212    604     R         1      39.0  39.0  18.8    39.0  8306     272   \n",
       "2  1001224   3807     P         1      79.0  79.0  37.0    79.0  7106     312   \n",
       "3  1002009   4103     P         1      20.0  20.0   9.0    20.0  2102     782   \n",
       "4  1002115   9103     P         1      47.0  47.0  28.2    47.0  5100     007   \n",
       "\n",
       "            upc         style       color     size  packsize   vendor  \\\n",
       "0  400000940100        676RKI  CHAMBRAY P        M         1  3622251   \n",
       "1  400001212100  Y     J63524    BEET RED     100M         1  5616208   \n",
       "2  400001224100  E991  L-PULS   BLK NAPPA     095M         1  3816210   \n",
       "3  400002009100          8004       BLACK      36C         1  4516339   \n",
       "4  400002115100        132020       CLAIR  NO SIZE         3  6041161   \n",
       "\n",
       "      brand standardized_color standardized_size  \n",
       "0  SARA LEE               Blue                 M  \n",
       "1  MERRELL/                Red               4XS  \n",
       "2  FRANCO S              Black               4XS  \n",
       "3  CABERNET              Black               3XS  \n",
       "4  CHANEL I              Multi                 S  "
      ]
     },
     "execution_count": 58,
     "metadata": {},
     "output_type": "execute_result"
    }
   ],
   "source": [
    "# Define your color categories\n",
    "size_categories = {\n",
    "    '4XS': ['XXXXS','0', '00', '1'],        \n",
    "    '3XS': ['XXXS','2', '3',\"4\"],      \n",
    "    '2XS': ['XXS','6', '7', '8'],    \n",
    "    'XS': ['XS', '10', '11','12'],\n",
    "    'S': ['S','14', '15','16'],\n",
    "    'M': ['M','18', '19','20'],\n",
    "    'L': ['L','22','23','24'],  \n",
    "    'XL': ['XL','26','27','28'], \n",
    "    '2XL': ['XXL','30', '31', '32'],\n",
    "    '3XL': ['XXXL','34', '35','36'],  \n",
    "    '4XL': ['XXXXL','38', '39', '40'], \n",
    "    'ALL': ['ALL'],\n",
    "    'NOSIZE': ['NO SIZE']\n",
    "}\n",
    "\n",
    "# Function to map colors to categories with improved cleaning\n",
    "def map_size_to_category(size):\n",
    "    # Retain significant numbers or characters as needed\n",
    "    size_cleaned = ''.join(filter(lambda c: c.isalpha() or c.isdigit(), size.upper()))\n",
    "    for category, size_list in size_categories.items():\n",
    "        for variation in size_list:\n",
    "            if variation in size_cleaned:\n",
    "                return category\n",
    "    return 'Other'\n",
    "\n",
    "# Apply the mapping function to the 'color' column\n",
    "joined_drop['standardized_size'] = joined_drop['size'].apply(map_size_to_category)\n",
    "\n",
    "joined_drop.head()\n"
   ]
  },
  {
   "cell_type": "code",
   "execution_count": 59,
   "id": "eedecc2b",
   "metadata": {},
   "outputs": [
    {
     "data": {
      "text/plain": [
       "standardized_size\n",
       "L        22235\n",
       "S        13390\n",
       "Other     6482\n",
       "4XS       6361\n",
       "M         4910\n",
       "2XS       4496\n",
       "3XS       3443\n",
       "Name: count, dtype: int64"
      ]
     },
     "execution_count": 59,
     "metadata": {},
     "output_type": "execute_result"
    }
   ],
   "source": [
    "joined_drop[\"standardized_size\"].value_counts()"
   ]
  },
  {
   "cell_type": "code",
   "execution_count": 60,
   "id": "aa8e2e31",
   "metadata": {},
   "outputs": [
    {
     "data": {
      "text/plain": [
       "7"
      ]
     },
     "execution_count": 60,
     "metadata": {},
     "output_type": "execute_result"
    }
   ],
   "source": [
    "len(joined_drop_size_filtered.standardized_size.value_counts())"
   ]
  },
  {
   "cell_type": "markdown",
   "id": "4a6a2c7f",
   "metadata": {},
   "source": [
    "### Style"
   ]
  },
  {
   "cell_type": "code",
   "execution_count": 62,
   "id": "5c147684",
   "metadata": {},
   "outputs": [
    {
     "data": {
      "text/plain": [
       "style\n",
       "62A4            1112\n",
       "645J             962\n",
       "2410             915\n",
       "2228             746\n",
       "60QH             730\n",
       "                ... \n",
       "59    F35QX2       1\n",
       "3GRY  70602-       1\n",
       "6005  PM1816       1\n",
       "74572              1\n",
       "CA7HKUR202AC       1\n",
       "Name: count, Length: 10409, dtype: int64"
      ]
     },
     "execution_count": 62,
     "metadata": {},
     "output_type": "execute_result"
    }
   ],
   "source": [
    "joined_drop[\"style\"].value_counts()"
   ]
  },
  {
   "cell_type": "code",
   "execution_count": 65,
   "id": "f5c7d10e",
   "metadata": {},
   "outputs": [
    {
     "name": "stdout",
     "output_type": "stream",
     "text": [
      "style\n",
      "62A4            1112\n",
      "645J             962\n",
      "2410             915\n",
      "2228             746\n",
      "60QH             730\n",
      "                ... \n",
      "59F35QX2           1\n",
      "3GRY70602          1\n",
      "6005PM1816         1\n",
      "74572              1\n",
      "CA7HKUR202AC       1\n",
      "Name: count, Length: 10409, dtype: int64\n"
     ]
    },
    {
     "name": "stderr",
     "output_type": "stream",
     "text": [
      "/var/folders/cl/n5df_r612yn353g55xtfs5tm0000gn/T/ipykernel_12459/2445732552.py:1: SettingWithCopyWarning: \n",
      "A value is trying to be set on a copy of a slice from a DataFrame.\n",
      "Try using .loc[row_indexer,col_indexer] = value instead\n",
      "\n",
      "See the caveats in the documentation: https://pandas.pydata.org/pandas-docs/stable/user_guide/indexing.html#returning-a-view-versus-a-copy\n",
      "  joined_drop[\"style\"] = joined_drop[\"style\"].str.replace(r'[^a-zA-Z0-9]', '', regex=True)\n"
     ]
    }
   ],
   "source": [
    "joined_drop[\"style\"] = joined_drop[\"style\"].str.replace(r'[^a-zA-Z0-9]', '', regex=True)\n",
    "\n",
    "# Now, you can check the updated value counts\n",
    "print(joined_drop[\"style\"].value_counts())"
   ]
  },
  {
   "cell_type": "code",
   "execution_count": 66,
   "id": "f55ed65c",
   "metadata": {},
   "outputs": [
    {
     "data": {
      "text/plain": [
       "<Axes: >"
      ]
     },
     "execution_count": 66,
     "metadata": {},
     "output_type": "execute_result"
    },
    {
     "data": {
      "image/png": "[encoded data removed]",
      "text/plain": [
       "<Figure size 640x480 with 1 Axes>"
      ]
     },
     "metadata": {},
     "output_type": "display_data"
    }
   ],
   "source": [
    "joined_drop[\"style\"].value_counts().hist(bins=100, log=True)"
   ]
  },
  {
   "cell_type": "code",
   "execution_count": 67,
   "id": "edf722d3",
   "metadata": {},
   "outputs": [
    {
     "data": {
      "text/plain": [
       "Text(0.5, 1.0, 'Box Plot of Style Counts')"
      ]
     },
     "execution_count": 67,
     "metadata": {},
     "output_type": "execute_result"
    },
    {
     "data": {
      "image/png": "[encoded data removed]",
      "text/plain": [
       "<Figure size 640x480 with 1 Axes>"
      ]
     },
     "metadata": {},
     "output_type": "display_data"
    }
   ],
   "source": [
    "joined_drop[\"style\"].value_counts().plot(kind='box')\n",
    "plt.xlabel('Style')\n",
    "plt.ylabel('Count')\n",
    "plt.title('Box Plot of Style Counts')"
   ]
  },
  {
   "cell_type": "markdown",
   "id": "3e47deea",
   "metadata": {},
   "source": [
    "We can see that most of the style counts shows a strong right skew. With our primary interesting in detecting the most charateristics of the most popular items, we are going to set a limit c, and drop those style with counts below this limit."
   ]
  },
  {
   "cell_type": "markdown",
   "id": "e264d4bc",
   "metadata": {},
   "source": [
    "We can see that most of the style counts shows a strong right skew. With our primary interesting in detecting the most charateristics of the most popular items, we are going to set a limit c, and drop those style with counts below this limit."
   ]
  },
  {
   "cell_type": "markdown",
   "id": "0aa25ba4",
   "metadata": {},
   "source": [
    "#### c = 100"
   ]
  },
  {
   "cell_type": "code",
   "execution_count": 68,
   "id": "57e8db0b",
   "metadata": {},
   "outputs": [
    {
     "data": {
      "text/plain": [
       "style\n",
       "62A4           1112\n",
       "645J            962\n",
       "2410            915\n",
       "2228            746\n",
       "60QH            730\n",
       "               ... \n",
       "74052EBTH04     109\n",
       "269115180       108\n",
       "R315            104\n",
       "3543            104\n",
       "546115185       101\n",
       "Name: count, Length: 72, dtype: int64"
      ]
     },
     "execution_count": 68,
     "metadata": {},
     "output_type": "execute_result"
    }
   ],
   "source": [
    "style_counts = joined_drop.groupby(\"style\").size().reset_index(name='count')\n",
    "\n",
    "# Filter out style groups with count less than 1\n",
    "valid_styles = style_counts[style_counts['count'] > 100]['style']\n",
    "\n",
    "# Filter the original DataFrame based on valid_styles\n",
    "joined_drop = joined_drop[joined_drop['style'].isin(valid_styles)]\n",
    "\n",
    "# Display the result\n",
    "joined_drop[\"style\"].value_counts()\n"
   ]
  },
  {
   "cell_type": "code",
   "execution_count": 69,
   "id": "ee6af1d8",
   "metadata": {},
   "outputs": [
    {
     "data": {
      "text/plain": [
       "<Axes: >"
      ]
     },
     "execution_count": 69,
     "metadata": {},
     "output_type": "execute_result"
    },
    {
     "data": {
      "image/png": "[encoded data removed]",
      "text/plain": [
       "<Figure size 640x480 with 1 Axes>"
      ]
     },
     "metadata": {},
     "output_type": "display_data"
    }
   ],
   "source": [
    "joined_drop[\"style\"].value_counts().hist(bins=100, log=True)"
   ]
  },
  {
   "cell_type": "code",
   "execution_count": 70,
   "id": "fb2f1566",
   "metadata": {},
   "outputs": [
    {
     "data": {
      "text/plain": [
       "Text(0.5, 1.0, 'Box Plot of Style Counts')"
      ]
     },
     "execution_count": 70,
     "metadata": {},
     "output_type": "execute_result"
    },
    {
     "data": {
      "image/png": "[encoded data removed]",
      "text/plain": [
       "<Figure size 640x480 with 1 Axes>"
      ]
     },
     "metadata": {},
     "output_type": "display_data"
    }
   ],
   "source": [
    "joined_drop[\"style\"].value_counts().plot(kind='box')\n",
    "plt.xlabel('Style')\n",
    "plt.ylabel('Count')\n",
    "plt.title('Box Plot of Style Counts')"
   ]
  },
  {
   "cell_type": "code",
   "execution_count": 71,
   "id": "d9c200c3",
   "metadata": {},
   "outputs": [
    {
     "data": {
      "text/plain": [
       "(19613, 19)"
      ]
     },
     "execution_count": 71,
     "metadata": {},
     "output_type": "execute_result"
    }
   ],
   "source": [
    "joined_drop.shape"
   ]
  },
  {
   "cell_type": "code",
   "execution_count": null,
   "id": "719c0519",
   "metadata": {},
   "outputs": [],
   "source": []
  }
 ],
 "metadata": {
  "kernelspec": {
   "display_name": "Python 3 (ipykernel)",
   "language": "python",
   "name": "python3"
  },
  "language_info": {
   "codemirror_mode": {
    "name": "ipython",
    "version": 3
   },
   "file_extension": ".py",
   "mimetype": "text/x-python",
   "name": "python",
   "nbconvert_exporter": "python",
   "pygments_lexer": "ipython3",
   "version": "3.11.6"
  }
 },
 "nbformat": 4,
 "nbformat_minor": 5
}
