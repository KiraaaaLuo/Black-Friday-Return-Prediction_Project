{
 "cells": [
  {
   "cell_type": "code",
   "execution_count": 1,
   "metadata": {},
   "outputs": [],
   "source": [
    "import pandas as pd"
   ]
  },
  {
   "cell_type": "code",
   "execution_count": 2,
   "metadata": {},
   "outputs": [],
   "source": [
    "df = pd.read_csv(\"../ESD_Dataset_Black_Friday_subset.csv\")"
   ]
  },
  {
   "cell_type": "code",
   "execution_count": 7,
   "metadata": {},
   "outputs": [
    {
     "data": {
      "text/plain": [
       "(260994, 12)"
      ]
     },
     "execution_count": 7,
     "metadata": {},
     "output_type": "execute_result"
    }
   ],
   "source": [
    "df.shape"
   ]
  },
  {
   "cell_type": "code",
   "execution_count": 5,
   "metadata": {},
   "outputs": [
    {
     "data": {
      "text/plain": [
       "sku           int64\n",
       "store         int64\n",
       "register      int64\n",
       "trannum       int64\n",
       "interid       int64\n",
       "saledate     object\n",
       "stype        object\n",
       "quantity      int64\n",
       "orgprice    float64\n",
       "amt         float64\n",
       "seq           int64\n",
       "mic           int64\n",
       "dtype: object"
      ]
     },
     "execution_count": 5,
     "metadata": {},
     "output_type": "execute_result"
    }
   ],
   "source": [
    "df.dtypes"
   ]
  },
  {
   "cell_type": "code",
   "execution_count": 6,
   "metadata": {},
   "outputs": [
    {
     "name": "stdout",
     "output_type": "stream",
     "text": [
      "<class 'pandas.core.frame.DataFrame'>\n",
      "RangeIndex: 260994 entries, 0 to 260993\n",
      "Data columns (total 12 columns):\n",
      " #   Column    Non-Null Count   Dtype  \n",
      "---  ------    --------------   -----  \n",
      " 0   sku       260994 non-null  int64  \n",
      " 1   store     260994 non-null  int64  \n",
      " 2   register  260994 non-null  int64  \n",
      " 3   trannum   260994 non-null  int64  \n",
      " 4   interid   260994 non-null  int64  \n",
      " 5   saledate  260994 non-null  object \n",
      " 6   stype     260994 non-null  object \n",
      " 7   quantity  260994 non-null  int64  \n",
      " 8   orgprice  260994 non-null  float64\n",
      " 9   amt       260994 non-null  float64\n",
      " 10  seq       260994 non-null  int64  \n",
      " 11  mic       260994 non-null  int64  \n",
      "dtypes: float64(2), int64(8), object(2)\n",
      "memory usage: 23.9+ MB\n"
     ]
    }
   ],
   "source": [
    "df.info()"
   ]
  },
  {
   "cell_type": "code",
   "execution_count": 13,
   "metadata": {},
   "outputs": [
    {
     "data": {
      "image/png": "[encoded data removed]",
      "text/plain": [
       "<Figure size 640x480 with 1 Axes>"
      ]
     },
     "metadata": {},
     "output_type": "display_data"
    }
   ],
   "source": [
    "df[\"orgprice\"].hist();"
   ]
  },
  {
   "cell_type": "code",
   "execution_count": 12,
   "metadata": {},
   "outputs": [
    {
     "data": {
      "text/plain": [
       "795.0"
      ]
     },
     "execution_count": 12,
     "metadata": {},
     "output_type": "execute_result"
    }
   ],
   "source": [
    "df[\"orgprice\"].max()"
   ]
  },
  {
   "cell_type": "code",
   "execution_count": 14,
   "metadata": {},
   "outputs": [
    {
     "data": {
      "image/png": "[encoded data removed]",
      "text/plain": [
       "<Figure size 640x480 with 1 Axes>"
      ]
     },
     "metadata": {},
     "output_type": "display_data"
    }
   ],
   "source": [
    "df[\"amt\"].hist();"
   ]
  },
  {
   "cell_type": "code",
   "execution_count": 15,
   "metadata": {},
   "outputs": [
    {
     "data": {
      "text/plain": [
       "625.0"
      ]
     },
     "execution_count": 15,
     "metadata": {},
     "output_type": "execute_result"
    }
   ],
   "source": [
    "max(df[\"amt\"])"
   ]
  },
  {
   "cell_type": "code",
   "execution_count": 17,
   "metadata": {},
   "outputs": [
    {
     "data": {
      "text/html": [
       "<div>\n",
       "<style scoped>\n",
       "    .dataframe tbody tr th:only-of-type {\n",
       "        vertical-align: middle;\n",
       "    }\n",
       "\n",
       "    .dataframe tbody tr th {\n",
       "        vertical-align: top;\n",
       "    }\n",
       "\n",
       "    .dataframe thead th {\n",
       "        text-align: right;\n",
       "    }\n",
       "</style>\n",
       "<table border=\"1\" class=\"dataframe\">\n",
       "  <thead>\n",
       "    <tr style=\"text-align: right;\">\n",
       "      <th></th>\n",
       "      <th>sku</th>\n",
       "      <th>store</th>\n",
       "      <th>register</th>\n",
       "      <th>trannum</th>\n",
       "      <th>interid</th>\n",
       "      <th>saledate</th>\n",
       "      <th>stype</th>\n",
       "      <th>quantity</th>\n",
       "      <th>orgprice</th>\n",
       "      <th>amt</th>\n",
       "      <th>seq</th>\n",
       "      <th>mic</th>\n",
       "    </tr>\n",
       "  </thead>\n",
       "  <tbody>\n",
       "    <tr>\n",
       "      <th>0</th>\n",
       "      <td>8932772</td>\n",
       "      <td>5004</td>\n",
       "      <td>30</td>\n",
       "      <td>1100</td>\n",
       "      <td>0</td>\n",
       "      <td>2004-11-24</td>\n",
       "      <td>P</td>\n",
       "      <td>1</td>\n",
       "      <td>36.0</td>\n",
       "      <td>9.0</td>\n",
       "      <td>14400019</td>\n",
       "      <td>126</td>\n",
       "    </tr>\n",
       "    <tr>\n",
       "      <th>1</th>\n",
       "      <td>8932921</td>\n",
       "      <td>4307</td>\n",
       "      <td>1</td>\n",
       "      <td>1600</td>\n",
       "      <td>0</td>\n",
       "      <td>2004-11-24</td>\n",
       "      <td>P</td>\n",
       "      <td>1</td>\n",
       "      <td>39.0</td>\n",
       "      <td>39.0</td>\n",
       "      <td>868000019</td>\n",
       "      <td>247</td>\n",
       "    </tr>\n",
       "    <tr>\n",
       "      <th>2</th>\n",
       "      <td>8932921</td>\n",
       "      <td>4307</td>\n",
       "      <td>1</td>\n",
       "      <td>1600</td>\n",
       "      <td>0</td>\n",
       "      <td>2004-11-24</td>\n",
       "      <td>P</td>\n",
       "      <td>1</td>\n",
       "      <td>39.0</td>\n",
       "      <td>39.0</td>\n",
       "      <td>868100019</td>\n",
       "      <td>247</td>\n",
       "    </tr>\n",
       "    <tr>\n",
       "      <th>3</th>\n",
       "      <td>8932921</td>\n",
       "      <td>6204</td>\n",
       "      <td>40</td>\n",
       "      <td>2700</td>\n",
       "      <td>256507198</td>\n",
       "      <td>2004-11-24</td>\n",
       "      <td>P</td>\n",
       "      <td>1</td>\n",
       "      <td>39.0</td>\n",
       "      <td>31.2</td>\n",
       "      <td>867400019</td>\n",
       "      <td>247</td>\n",
       "    </tr>\n",
       "    <tr>\n",
       "      <th>4</th>\n",
       "      <td>8932921</td>\n",
       "      <td>6204</td>\n",
       "      <td>40</td>\n",
       "      <td>2700</td>\n",
       "      <td>256507198</td>\n",
       "      <td>2004-11-24</td>\n",
       "      <td>P</td>\n",
       "      <td>1</td>\n",
       "      <td>39.0</td>\n",
       "      <td>31.2</td>\n",
       "      <td>867500019</td>\n",
       "      <td>247</td>\n",
       "    </tr>\n",
       "  </tbody>\n",
       "</table>\n",
       "</div>"
      ],
      "text/plain": [
       "       sku  store  register  trannum    interid    saledate stype  quantity  \\\n",
       "0  8932772   5004        30     1100          0  2004-11-24     P         1   \n",
       "1  8932921   4307         1     1600          0  2004-11-24     P         1   \n",
       "2  8932921   4307         1     1600          0  2004-11-24     P         1   \n",
       "3  8932921   6204        40     2700  256507198  2004-11-24     P         1   \n",
       "4  8932921   6204        40     2700  256507198  2004-11-24     P         1   \n",
       "\n",
       "   orgprice   amt        seq  mic  \n",
       "0      36.0   9.0   14400019  126  \n",
       "1      39.0  39.0  868000019  247  \n",
       "2      39.0  39.0  868100019  247  \n",
       "3      39.0  31.2  867400019  247  \n",
       "4      39.0  31.2  867500019  247  "
      ]
     },
     "execution_count": 17,
     "metadata": {},
     "output_type": "execute_result"
    }
   ],
   "source": [
    "df.head()"
   ]
  }
 ],
 "metadata": {
  "kernelspec": {
   "display_name": "base",
   "language": "python",
   "name": "python3"
  },
  "language_info": {
   "codemirror_mode": {
    "name": "ipython",
    "version": 3
   },
   "file_extension": ".py",
   "mimetype": "text/x-python",
   "name": "python",
   "nbconvert_exporter": "python",
   "pygments_lexer": "ipython3",
   "version": "3.11.4"
  }
 },
 "nbformat": 4,
 "nbformat_minor": 2
}
