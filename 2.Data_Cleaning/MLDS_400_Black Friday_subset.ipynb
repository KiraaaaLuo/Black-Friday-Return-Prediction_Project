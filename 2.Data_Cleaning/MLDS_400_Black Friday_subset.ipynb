{
 "cells": [
  {
   "cell_type": "code",
   "execution_count": 1,
   "id": "a297c29a",
   "metadata": {},
   "outputs": [],
   "source": [
    "import pandas as pd\n",
    "import psycopg2\n",
    "from sqlalchemy import create_engine\n",
    "\n",
    "import sys\n",
    "sys.path.append('..')\n",
    "from my_workspace.config import *"
   ]
  },
  {
   "cell_type": "markdown",
   "metadata": {},
   "source": [
    "### Retrieve all sku and transaction information from the join Black Friday table"
   ]
  },
  {
   "cell_type": "code",
   "execution_count": 2,
   "metadata": {},
   "outputs": [],
   "source": [
    "engine = create_engine(f'postgresql://{user}:{password}@{host}:{port}/{dbname}')\n",
    "query = \"SELECT * FROM group_2.joined_trnsact\"\n",
    "df = pd.read_sql_query(query, engine)"
   ]
  },
  {
   "cell_type": "code",
   "execution_count": 3,
   "id": "449b3e01",
   "metadata": {},
   "outputs": [
    {
     "data": {
      "text/plain": [
       "(220732, 13)"
      ]
     },
     "execution_count": 3,
     "metadata": {},
     "output_type": "execute_result"
    }
   ],
   "source": [
    "df.shape"
   ]
  },
  {
   "cell_type": "markdown",
   "metadata": {},
   "source": [
    "There are 220,732 sku records, containing purchased and returned items."
   ]
  },
  {
   "cell_type": "code",
   "execution_count": 4,
   "id": "a2df6d57",
   "metadata": {},
   "outputs": [
    {
     "data": {
      "text/plain": [
       "stype\n",
       "P    212350\n",
       "R      8382\n",
       "Name: count, dtype: int64"
      ]
     },
     "execution_count": 4,
     "metadata": {},
     "output_type": "execute_result"
    }
   ],
   "source": [
    "df.stype.value_counts() "
   ]
  },
  {
   "cell_type": "code",
   "execution_count": 5,
   "id": "9cd45018",
   "metadata": {},
   "outputs": [
    {
     "data": {
      "text/html": [
       "<div>\n",
       "<style scoped>\n",
       "    .dataframe tbody tr th:only-of-type {\n",
       "        vertical-align: middle;\n",
       "    }\n",
       "\n",
       "    .dataframe tbody tr th {\n",
       "        vertical-align: top;\n",
       "    }\n",
       "\n",
       "    .dataframe thead th {\n",
       "        text-align: right;\n",
       "    }\n",
       "</style>\n",
       "<table border=\"1\" class=\"dataframe\">\n",
       "  <thead>\n",
       "    <tr style=\"text-align: right;\">\n",
       "      <th></th>\n",
       "      <th>sku</th>\n",
       "      <th>cost</th>\n",
       "      <th>retail</th>\n",
       "      <th>stype</th>\n",
       "      <th>quantity</th>\n",
       "      <th>orgprice</th>\n",
       "      <th>amt</th>\n",
       "      <th>style</th>\n",
       "      <th>color</th>\n",
       "      <th>size</th>\n",
       "      <th>packsize</th>\n",
       "      <th>vendor</th>\n",
       "      <th>brand</th>\n",
       "    </tr>\n",
       "  </thead>\n",
       "  <tbody>\n",
       "    <tr>\n",
       "      <th>0</th>\n",
       "      <td>8936935</td>\n",
       "      <td>9.58</td>\n",
       "      <td>6.00</td>\n",
       "      <td>P</td>\n",
       "      <td>1</td>\n",
       "      <td>24.0</td>\n",
       "      <td>24.00</td>\n",
       "      <td>35-92 413641</td>\n",
       "      <td>WHEAT NUBU</td>\n",
       "      <td>L</td>\n",
       "      <td>1</td>\n",
       "      <td>914938</td>\n",
       "      <td>KIDS HEA</td>\n",
       "    </tr>\n",
       "    <tr>\n",
       "      <th>1</th>\n",
       "      <td>8940963</td>\n",
       "      <td>4.31</td>\n",
       "      <td>2.75</td>\n",
       "      <td>P</td>\n",
       "      <td>1</td>\n",
       "      <td>11.0</td>\n",
       "      <td>8.25</td>\n",
       "      <td>005   U61516</td>\n",
       "      <td>004GREY HE</td>\n",
       "      <td>L</td>\n",
       "      <td>3</td>\n",
       "      <td>4012768</td>\n",
       "      <td>TOMMY HI</td>\n",
       "    </tr>\n",
       "    <tr>\n",
       "      <th>2</th>\n",
       "      <td>8944045</td>\n",
       "      <td>28.05</td>\n",
       "      <td>17.00</td>\n",
       "      <td>P</td>\n",
       "      <td>1</td>\n",
       "      <td>68.0</td>\n",
       "      <td>29.99</td>\n",
       "      <td>CC412</td>\n",
       "      <td>MULTI</td>\n",
       "      <td>M</td>\n",
       "      <td>1</td>\n",
       "      <td>8043525</td>\n",
       "      <td>KORET OF</td>\n",
       "    </tr>\n",
       "    <tr>\n",
       "      <th>3</th>\n",
       "      <td>8944045</td>\n",
       "      <td>25.00</td>\n",
       "      <td>14.50</td>\n",
       "      <td>P</td>\n",
       "      <td>1</td>\n",
       "      <td>58.0</td>\n",
       "      <td>29.00</td>\n",
       "      <td>CC412</td>\n",
       "      <td>MULTI</td>\n",
       "      <td>M</td>\n",
       "      <td>1</td>\n",
       "      <td>8043525</td>\n",
       "      <td>KORET OF</td>\n",
       "    </tr>\n",
       "    <tr>\n",
       "      <th>4</th>\n",
       "      <td>8972921</td>\n",
       "      <td>14.72</td>\n",
       "      <td>17.50</td>\n",
       "      <td>P</td>\n",
       "      <td>1</td>\n",
       "      <td>35.0</td>\n",
       "      <td>35.00</td>\n",
       "      <td>T-PIL TRA-QL</td>\n",
       "      <td>TERRA</td>\n",
       "      <td>BOU PIL</td>\n",
       "      <td>2</td>\n",
       "      <td>619402</td>\n",
       "      <td>STATUS Q</td>\n",
       "    </tr>\n",
       "    <tr>\n",
       "      <th>...</th>\n",
       "      <td>...</td>\n",
       "      <td>...</td>\n",
       "      <td>...</td>\n",
       "      <td>...</td>\n",
       "      <td>...</td>\n",
       "      <td>...</td>\n",
       "      <td>...</td>\n",
       "      <td>...</td>\n",
       "      <td>...</td>\n",
       "      <td>...</td>\n",
       "      <td>...</td>\n",
       "      <td>...</td>\n",
       "      <td>...</td>\n",
       "    </tr>\n",
       "    <tr>\n",
       "      <th>220727</th>\n",
       "      <td>8902921</td>\n",
       "      <td>87.66</td>\n",
       "      <td>99.50</td>\n",
       "      <td>P</td>\n",
       "      <td>1</td>\n",
       "      <td>199.0</td>\n",
       "      <td>199.00</td>\n",
       "      <td>COM   TRA-K-</td>\n",
       "      <td>TERRA</td>\n",
       "      <td>K COMF</td>\n",
       "      <td>1</td>\n",
       "      <td>619402</td>\n",
       "      <td>STATUS Q</td>\n",
       "    </tr>\n",
       "    <tr>\n",
       "      <th>220728</th>\n",
       "      <td>8902921</td>\n",
       "      <td>87.66</td>\n",
       "      <td>99.50</td>\n",
       "      <td>P</td>\n",
       "      <td>1</td>\n",
       "      <td>199.0</td>\n",
       "      <td>199.00</td>\n",
       "      <td>COM   TRA-K-</td>\n",
       "      <td>TERRA</td>\n",
       "      <td>K COMF</td>\n",
       "      <td>1</td>\n",
       "      <td>619402</td>\n",
       "      <td>STATUS Q</td>\n",
       "    </tr>\n",
       "    <tr>\n",
       "      <th>220729</th>\n",
       "      <td>8902921</td>\n",
       "      <td>87.66</td>\n",
       "      <td>99.50</td>\n",
       "      <td>P</td>\n",
       "      <td>1</td>\n",
       "      <td>199.0</td>\n",
       "      <td>199.00</td>\n",
       "      <td>COM   TRA-K-</td>\n",
       "      <td>TERRA</td>\n",
       "      <td>K COMF</td>\n",
       "      <td>1</td>\n",
       "      <td>619402</td>\n",
       "      <td>STATUS Q</td>\n",
       "    </tr>\n",
       "    <tr>\n",
       "      <th>220730</th>\n",
       "      <td>8902921</td>\n",
       "      <td>87.66</td>\n",
       "      <td>99.50</td>\n",
       "      <td>P</td>\n",
       "      <td>1</td>\n",
       "      <td>199.0</td>\n",
       "      <td>199.00</td>\n",
       "      <td>COM   TRA-K-</td>\n",
       "      <td>TERRA</td>\n",
       "      <td>K COMF</td>\n",
       "      <td>1</td>\n",
       "      <td>619402</td>\n",
       "      <td>STATUS Q</td>\n",
       "    </tr>\n",
       "    <tr>\n",
       "      <th>220731</th>\n",
       "      <td>8902921</td>\n",
       "      <td>87.66</td>\n",
       "      <td>99.50</td>\n",
       "      <td>P</td>\n",
       "      <td>1</td>\n",
       "      <td>199.0</td>\n",
       "      <td>199.00</td>\n",
       "      <td>COM   TRA-K-</td>\n",
       "      <td>TERRA</td>\n",
       "      <td>K COMF</td>\n",
       "      <td>1</td>\n",
       "      <td>619402</td>\n",
       "      <td>STATUS Q</td>\n",
       "    </tr>\n",
       "  </tbody>\n",
       "</table>\n",
       "<p>212350 rows × 13 columns</p>\n",
       "</div>"
      ],
      "text/plain": [
       "            sku   cost  retail stype  quantity  orgprice     amt  \\\n",
       "0       8936935   9.58    6.00     P         1      24.0   24.00   \n",
       "1       8940963   4.31    2.75     P         1      11.0    8.25   \n",
       "2       8944045  28.05   17.00     P         1      68.0   29.99   \n",
       "3       8944045  25.00   14.50     P         1      58.0   29.00   \n",
       "4       8972921  14.72   17.50     P         1      35.0   35.00   \n",
       "...         ...    ...     ...   ...       ...       ...     ...   \n",
       "220727  8902921  87.66   99.50     P         1     199.0  199.00   \n",
       "220728  8902921  87.66   99.50     P         1     199.0  199.00   \n",
       "220729  8902921  87.66   99.50     P         1     199.0  199.00   \n",
       "220730  8902921  87.66   99.50     P         1     199.0  199.00   \n",
       "220731  8902921  87.66   99.50     P         1     199.0  199.00   \n",
       "\n",
       "               style       color     size  packsize   vendor     brand  \n",
       "0       35-92 413641  WHEAT NUBU        L         1   914938  KIDS HEA  \n",
       "1       005   U61516  004GREY HE        L         3  4012768  TOMMY HI  \n",
       "2              CC412       MULTI        M         1  8043525  KORET OF  \n",
       "3              CC412       MULTI        M         1  8043525  KORET OF  \n",
       "4       T-PIL TRA-QL       TERRA  BOU PIL         2   619402  STATUS Q  \n",
       "...              ...         ...      ...       ...      ...       ...  \n",
       "220727  COM   TRA-K-       TERRA   K COMF         1   619402  STATUS Q  \n",
       "220728  COM   TRA-K-       TERRA   K COMF         1   619402  STATUS Q  \n",
       "220729  COM   TRA-K-       TERRA   K COMF         1   619402  STATUS Q  \n",
       "220730  COM   TRA-K-       TERRA   K COMF         1   619402  STATUS Q  \n",
       "220731  COM   TRA-K-       TERRA   K COMF         1   619402  STATUS Q  \n",
       "\n",
       "[212350 rows x 13 columns]"
      ]
     },
     "execution_count": 5,
     "metadata": {},
     "output_type": "execute_result"
    }
   ],
   "source": [
    "#filter the purchase category because we want to find items people want to buy\n",
    "df[df[\"stype\"] == \"P\"]"
   ]
  },
  {
   "cell_type": "code",
   "execution_count": 6,
   "id": "be256f10",
   "metadata": {},
   "outputs": [
    {
     "name": "stdout",
     "output_type": "stream",
     "text": [
      "<class 'pandas.core.frame.DataFrame'>\n",
      "RangeIndex: 220732 entries, 0 to 220731\n",
      "Data columns (total 13 columns):\n",
      " #   Column    Non-Null Count   Dtype  \n",
      "---  ------    --------------   -----  \n",
      " 0   sku       220732 non-null  object \n",
      " 1   cost      220732 non-null  float64\n",
      " 2   retail    220732 non-null  float64\n",
      " 3   stype     220732 non-null  object \n",
      " 4   quantity  220732 non-null  int64  \n",
      " 5   orgprice  220732 non-null  float64\n",
      " 6   amt       220732 non-null  float64\n",
      " 7   style     220732 non-null  object \n",
      " 8   color     220732 non-null  object \n",
      " 9   size      220728 non-null  object \n",
      " 10  packsize  220732 non-null  int64  \n",
      " 11  vendor    220732 non-null  object \n",
      " 12  brand     220280 non-null  object \n",
      "dtypes: float64(4), int64(2), object(7)\n",
      "memory usage: 21.9+ MB\n"
     ]
    }
   ],
   "source": [
    "df.info() #there is no null vaue no nothing needs to be done in this table "
   ]
  },
  {
   "cell_type": "code",
   "execution_count": 7,
   "id": "0bcdac5f",
   "metadata": {},
   "outputs": [
    {
     "data": {
      "text/html": [
       "<div>\n",
       "<style scoped>\n",
       "    .dataframe tbody tr th:only-of-type {\n",
       "        vertical-align: middle;\n",
       "    }\n",
       "\n",
       "    .dataframe tbody tr th {\n",
       "        vertical-align: top;\n",
       "    }\n",
       "\n",
       "    .dataframe thead th {\n",
       "        text-align: right;\n",
       "    }\n",
       "</style>\n",
       "<table border=\"1\" class=\"dataframe\">\n",
       "  <thead>\n",
       "    <tr style=\"text-align: right;\">\n",
       "      <th></th>\n",
       "      <th>cost</th>\n",
       "      <th>retail</th>\n",
       "      <th>quantity</th>\n",
       "      <th>orgprice</th>\n",
       "      <th>amt</th>\n",
       "      <th>packsize</th>\n",
       "    </tr>\n",
       "  </thead>\n",
       "  <tbody>\n",
       "    <tr>\n",
       "      <th>count</th>\n",
       "      <td>220732.000000</td>\n",
       "      <td>220732.000000</td>\n",
       "      <td>220732.0</td>\n",
       "      <td>220732.000000</td>\n",
       "      <td>220732.000000</td>\n",
       "      <td>220732.000000</td>\n",
       "    </tr>\n",
       "    <tr>\n",
       "      <th>mean</th>\n",
       "      <td>13.759040</td>\n",
       "      <td>21.422476</td>\n",
       "      <td>1.0</td>\n",
       "      <td>29.484426</td>\n",
       "      <td>25.341237</td>\n",
       "      <td>2.465959</td>\n",
       "    </tr>\n",
       "    <tr>\n",
       "      <th>std</th>\n",
       "      <td>14.338254</td>\n",
       "      <td>25.592317</td>\n",
       "      <td>0.0</td>\n",
       "      <td>33.478250</td>\n",
       "      <td>26.020788</td>\n",
       "      <td>6.519093</td>\n",
       "    </tr>\n",
       "    <tr>\n",
       "      <th>min</th>\n",
       "      <td>0.000000</td>\n",
       "      <td>0.000000</td>\n",
       "      <td>1.0</td>\n",
       "      <td>0.000000</td>\n",
       "      <td>0.010000</td>\n",
       "      <td>1.000000</td>\n",
       "    </tr>\n",
       "    <tr>\n",
       "      <th>25%</th>\n",
       "      <td>6.000000</td>\n",
       "      <td>7.000000</td>\n",
       "      <td>1.0</td>\n",
       "      <td>13.500000</td>\n",
       "      <td>11.000000</td>\n",
       "      <td>1.000000</td>\n",
       "    </tr>\n",
       "    <tr>\n",
       "      <th>50%</th>\n",
       "      <td>10.250000</td>\n",
       "      <td>16.000000</td>\n",
       "      <td>1.0</td>\n",
       "      <td>20.000000</td>\n",
       "      <td>19.000000</td>\n",
       "      <td>1.000000</td>\n",
       "    </tr>\n",
       "    <tr>\n",
       "      <th>75%</th>\n",
       "      <td>17.250000</td>\n",
       "      <td>25.000000</td>\n",
       "      <td>1.0</td>\n",
       "      <td>37.500000</td>\n",
       "      <td>32.000000</td>\n",
       "      <td>3.000000</td>\n",
       "    </tr>\n",
       "    <tr>\n",
       "      <th>max</th>\n",
       "      <td>325.000000</td>\n",
       "      <td>795.000000</td>\n",
       "      <td>1.0</td>\n",
       "      <td>795.000000</td>\n",
       "      <td>695.000000</td>\n",
       "      <td>801.000000</td>\n",
       "    </tr>\n",
       "  </tbody>\n",
       "</table>\n",
       "</div>"
      ],
      "text/plain": [
       "                cost         retail  quantity       orgprice            amt  \\\n",
       "count  220732.000000  220732.000000  220732.0  220732.000000  220732.000000   \n",
       "mean       13.759040      21.422476       1.0      29.484426      25.341237   \n",
       "std        14.338254      25.592317       0.0      33.478250      26.020788   \n",
       "min         0.000000       0.000000       1.0       0.000000       0.010000   \n",
       "25%         6.000000       7.000000       1.0      13.500000      11.000000   \n",
       "50%        10.250000      16.000000       1.0      20.000000      19.000000   \n",
       "75%        17.250000      25.000000       1.0      37.500000      32.000000   \n",
       "max       325.000000     795.000000       1.0     795.000000     695.000000   \n",
       "\n",
       "            packsize  \n",
       "count  220732.000000  \n",
       "mean        2.465959  \n",
       "std         6.519093  \n",
       "min         1.000000  \n",
       "25%         1.000000  \n",
       "50%         1.000000  \n",
       "75%         3.000000  \n",
       "max       801.000000  "
      ]
     },
     "execution_count": 7,
     "metadata": {},
     "output_type": "execute_result"
    }
   ],
   "source": [
    "df.describe()"
   ]
  },
  {
   "cell_type": "code",
   "execution_count": 8,
   "id": "4d2b7f62",
   "metadata": {},
   "outputs": [
    {
     "data": {
      "text/plain": [
       "count    220732.0\n",
       "mean          1.0\n",
       "std           0.0\n",
       "min           1.0\n",
       "25%           1.0\n",
       "50%           1.0\n",
       "75%           1.0\n",
       "max           1.0\n",
       "Name: quantity, dtype: float64"
      ]
     },
     "execution_count": 8,
     "metadata": {},
     "output_type": "execute_result"
    }
   ],
   "source": [
    "# explore the only 2 column that has quantitative meanings \n",
    "df.quantity.describe()"
   ]
  },
  {
   "cell_type": "markdown",
   "metadata": {},
   "source": [
    "Since the feature `quantity` is constant (always 1), so it will not help in predicting whether the item will be purchased or not."
   ]
  },
  {
   "cell_type": "code",
   "execution_count": 9,
   "id": "8a79870a",
   "metadata": {},
   "outputs": [
    {
     "data": {
      "text/plain": [
       "count    220732.000000\n",
       "mean         29.484426\n",
       "std          33.478250\n",
       "min           0.000000\n",
       "25%          13.500000\n",
       "50%          20.000000\n",
       "75%          37.500000\n",
       "max         795.000000\n",
       "Name: orgprice, dtype: float64"
      ]
     },
     "execution_count": 9,
     "metadata": {},
     "output_type": "execute_result"
    }
   ],
   "source": [
    "df.orgprice.describe()"
   ]
  },
  {
   "cell_type": "code",
   "execution_count": 10,
   "id": "f6563eb6",
   "metadata": {},
   "outputs": [
    {
     "data": {
      "text/plain": [
       "count    220732.000000\n",
       "mean         25.341237\n",
       "std          26.020788\n",
       "min           0.010000\n",
       "25%          11.000000\n",
       "50%          19.000000\n",
       "75%          32.000000\n",
       "max         695.000000\n",
       "Name: amt, dtype: float64"
      ]
     },
     "execution_count": 10,
     "metadata": {},
     "output_type": "execute_result"
    }
   ],
   "source": [
    "df.amt.describe()"
   ]
  },
  {
   "cell_type": "markdown",
   "metadata": {},
   "source": [
    "The summary statistics of total amount of charge was slightly lower than item's orgprice.\n",
    "It is likely costed by:\n",
    "- Purchased items have discount\n",
    "- Customers have coupons or membership card to get discounts"
   ]
  },
  {
   "cell_type": "code",
   "execution_count": 11,
   "id": "d5e3b090",
   "metadata": {},
   "outputs": [
    {
     "data": {
      "text/html": [
       "<div>\n",
       "<style scoped>\n",
       "    .dataframe tbody tr th:only-of-type {\n",
       "        vertical-align: middle;\n",
       "    }\n",
       "\n",
       "    .dataframe tbody tr th {\n",
       "        vertical-align: top;\n",
       "    }\n",
       "\n",
       "    .dataframe thead th {\n",
       "        text-align: right;\n",
       "    }\n",
       "</style>\n",
       "<table border=\"1\" class=\"dataframe\">\n",
       "  <thead>\n",
       "    <tr style=\"text-align: right;\">\n",
       "      <th></th>\n",
       "      <th>amt</th>\n",
       "      <th>orgprice</th>\n",
       "    </tr>\n",
       "  </thead>\n",
       "  <tbody>\n",
       "    <tr>\n",
       "      <th>648</th>\n",
       "      <td>27.50</td>\n",
       "      <td>0.0</td>\n",
       "    </tr>\n",
       "    <tr>\n",
       "      <th>3818</th>\n",
       "      <td>69.50</td>\n",
       "      <td>0.0</td>\n",
       "    </tr>\n",
       "    <tr>\n",
       "      <th>11468</th>\n",
       "      <td>26.99</td>\n",
       "      <td>0.0</td>\n",
       "    </tr>\n",
       "    <tr>\n",
       "      <th>16258</th>\n",
       "      <td>34.00</td>\n",
       "      <td>0.0</td>\n",
       "    </tr>\n",
       "    <tr>\n",
       "      <th>18798</th>\n",
       "      <td>28.00</td>\n",
       "      <td>0.0</td>\n",
       "    </tr>\n",
       "    <tr>\n",
       "      <th>...</th>\n",
       "      <td>...</td>\n",
       "      <td>...</td>\n",
       "    </tr>\n",
       "    <tr>\n",
       "      <th>201670</th>\n",
       "      <td>9.00</td>\n",
       "      <td>0.0</td>\n",
       "    </tr>\n",
       "    <tr>\n",
       "      <th>205413</th>\n",
       "      <td>5.00</td>\n",
       "      <td>0.0</td>\n",
       "    </tr>\n",
       "    <tr>\n",
       "      <th>205414</th>\n",
       "      <td>5.00</td>\n",
       "      <td>0.0</td>\n",
       "    </tr>\n",
       "    <tr>\n",
       "      <th>207155</th>\n",
       "      <td>7.00</td>\n",
       "      <td>0.0</td>\n",
       "    </tr>\n",
       "    <tr>\n",
       "      <th>208642</th>\n",
       "      <td>18.00</td>\n",
       "      <td>0.0</td>\n",
       "    </tr>\n",
       "  </tbody>\n",
       "</table>\n",
       "<p>98 rows × 2 columns</p>\n",
       "</div>"
      ],
      "text/plain": [
       "          amt  orgprice\n",
       "648     27.50       0.0\n",
       "3818    69.50       0.0\n",
       "11468   26.99       0.0\n",
       "16258   34.00       0.0\n",
       "18798   28.00       0.0\n",
       "...       ...       ...\n",
       "201670   9.00       0.0\n",
       "205413   5.00       0.0\n",
       "205414   5.00       0.0\n",
       "207155   7.00       0.0\n",
       "208642  18.00       0.0\n",
       "\n",
       "[98 rows x 2 columns]"
      ]
     },
     "execution_count": 11,
     "metadata": {},
     "output_type": "execute_result"
    }
   ],
   "source": [
    "df[df[\"orgprice\"] == 0][[\"amt\", \"orgprice\"]] "
   ]
  },
  {
   "cell_type": "markdown",
   "id": "7a14eaeb",
   "metadata": {},
   "source": [
    "It is interesting to see that some items were purchased for amount greater than the original price of 0."
   ]
  },
  {
   "cell_type": "code",
   "execution_count": 12,
   "metadata": {},
   "outputs": [
    {
     "data": {
      "text/plain": [
       "(220496, 13)"
      ]
     },
     "execution_count": 12,
     "metadata": {},
     "output_type": "execute_result"
    }
   ],
   "source": [
    "df[df.amt <= df.orgprice].shape"
   ]
  },
  {
   "cell_type": "code",
   "execution_count": 13,
   "metadata": {},
   "outputs": [
    {
     "data": {
      "text/plain": [
       "(236, 13)"
      ]
     },
     "execution_count": 13,
     "metadata": {},
     "output_type": "execute_result"
    }
   ],
   "source": [
    "df[df.orgprice < df.amt].shape"
   ]
  },
  {
   "cell_type": "markdown",
   "metadata": {},
   "source": [
    "But still, due to all the transactions were on the Black Friday, it made sense that the total amount charged to customers was cheaper than the original price because of the discounts."
   ]
  },
  {
   "cell_type": "code",
   "execution_count": 14,
   "metadata": {},
   "outputs": [],
   "source": [
    "# save data to pickle for data cleaning later\n",
    "df.to_pickle('../data/joined_black_friday_trnsact.pkl')"
   ]
  }
 ],
 "metadata": {
  "kernelspec": {
   "display_name": "Python 3 (ipykernel)",
   "language": "python",
   "name": "python3"
  },
  "language_info": {
   "codemirror_mode": {
    "name": "ipython",
    "version": 3
   },
   "file_extension": ".py",
   "mimetype": "text/x-python",
   "name": "python",
   "nbconvert_exporter": "python",
   "pygments_lexer": "ipython3",
   "version": "3.11.4"
  }
 },
 "nbformat": 4,
 "nbformat_minor": 5
}
