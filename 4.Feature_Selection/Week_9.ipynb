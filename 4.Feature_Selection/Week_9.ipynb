{
 "cells": [
  {
   "cell_type": "markdown",
   "id": "86845900",
   "metadata": {},
   "source": [
    "# Week9"
   ]
  },
  {
   "cell_type": "code",
   "execution_count": 200,
   "id": "719c0519",
   "metadata": {
    "scrolled": true
   },
   "outputs": [
    {
     "data": {
      "text/html": [
       "<div>\n",
       "<style scoped>\n",
       "    .dataframe tbody tr th:only-of-type {\n",
       "        vertical-align: middle;\n",
       "    }\n",
       "\n",
       "    .dataframe tbody tr th {\n",
       "        vertical-align: top;\n",
       "    }\n",
       "\n",
       "    .dataframe thead th {\n",
       "        text-align: right;\n",
       "    }\n",
       "</style>\n",
       "<table border=\"1\" class=\"dataframe\">\n",
       "  <thead>\n",
       "    <tr style=\"text-align: right;\">\n",
       "      <th></th>\n",
       "      <th>sku</th>\n",
       "      <th>store</th>\n",
       "      <th>stype</th>\n",
       "      <th>quantity</th>\n",
       "      <th>orgprice</th>\n",
       "      <th>amt</th>\n",
       "      <th>cost</th>\n",
       "      <th>retail</th>\n",
       "      <th>dept</th>\n",
       "      <th>classid</th>\n",
       "      <th>upc</th>\n",
       "      <th>style</th>\n",
       "      <th>color</th>\n",
       "      <th>size</th>\n",
       "      <th>packsize</th>\n",
       "      <th>vendor</th>\n",
       "      <th>brand</th>\n",
       "      <th>standardized_color</th>\n",
       "      <th>standardized_size</th>\n",
       "    </tr>\n",
       "  </thead>\n",
       "  <tbody>\n",
       "    <tr>\n",
       "      <th>144</th>\n",
       "      <td>1048635</td>\n",
       "      <td>7004</td>\n",
       "      <td>P</td>\n",
       "      <td>1</td>\n",
       "      <td>13.0</td>\n",
       "      <td>9.99</td>\n",
       "      <td>6.94</td>\n",
       "      <td>13.0</td>\n",
       "      <td>6107</td>\n",
       "      <td>001</td>\n",
       "      <td>400008635104</td>\n",
       "      <td>8F30G61</td>\n",
       "      <td>FRESCO YEL</td>\n",
       "      <td>BATH</td>\n",
       "      <td>6</td>\n",
       "      <td>2067178</td>\n",
       "      <td>WESTPOIN</td>\n",
       "      <td>Other</td>\n",
       "      <td>Other</td>\n",
       "    </tr>\n",
       "    <tr>\n",
       "      <th>145</th>\n",
       "      <td>1048635</td>\n",
       "      <td>9103</td>\n",
       "      <td>P</td>\n",
       "      <td>1</td>\n",
       "      <td>13.0</td>\n",
       "      <td>9.99</td>\n",
       "      <td>6.94</td>\n",
       "      <td>13.0</td>\n",
       "      <td>6107</td>\n",
       "      <td>001</td>\n",
       "      <td>400008635104</td>\n",
       "      <td>8F30G61</td>\n",
       "      <td>FRESCO YEL</td>\n",
       "      <td>BATH</td>\n",
       "      <td>6</td>\n",
       "      <td>2067178</td>\n",
       "      <td>WESTPOIN</td>\n",
       "      <td>Other</td>\n",
       "      <td>Other</td>\n",
       "    </tr>\n",
       "    <tr>\n",
       "      <th>146</th>\n",
       "      <td>1048635</td>\n",
       "      <td>9103</td>\n",
       "      <td>P</td>\n",
       "      <td>1</td>\n",
       "      <td>13.0</td>\n",
       "      <td>9.99</td>\n",
       "      <td>6.94</td>\n",
       "      <td>13.0</td>\n",
       "      <td>6107</td>\n",
       "      <td>001</td>\n",
       "      <td>400008635104</td>\n",
       "      <td>8F30G61</td>\n",
       "      <td>FRESCO YEL</td>\n",
       "      <td>BATH</td>\n",
       "      <td>6</td>\n",
       "      <td>2067178</td>\n",
       "      <td>WESTPOIN</td>\n",
       "      <td>Other</td>\n",
       "      <td>Other</td>\n",
       "    </tr>\n",
       "    <tr>\n",
       "      <th>168</th>\n",
       "      <td>1058635</td>\n",
       "      <td>4409</td>\n",
       "      <td>R</td>\n",
       "      <td>1</td>\n",
       "      <td>10.0</td>\n",
       "      <td>7.99</td>\n",
       "      <td>4.56</td>\n",
       "      <td>10.0</td>\n",
       "      <td>6107</td>\n",
       "      <td>001</td>\n",
       "      <td>400008635105</td>\n",
       "      <td>8F30G61</td>\n",
       "      <td>FRESCO YEL</td>\n",
       "      <td>HAND</td>\n",
       "      <td>6</td>\n",
       "      <td>2067178</td>\n",
       "      <td>WESTPOIN</td>\n",
       "      <td>Other</td>\n",
       "      <td>Other</td>\n",
       "    </tr>\n",
       "    <tr>\n",
       "      <th>169</th>\n",
       "      <td>1058635</td>\n",
       "      <td>4409</td>\n",
       "      <td>R</td>\n",
       "      <td>1</td>\n",
       "      <td>10.0</td>\n",
       "      <td>7.99</td>\n",
       "      <td>4.56</td>\n",
       "      <td>10.0</td>\n",
       "      <td>6107</td>\n",
       "      <td>001</td>\n",
       "      <td>400008635105</td>\n",
       "      <td>8F30G61</td>\n",
       "      <td>FRESCO YEL</td>\n",
       "      <td>HAND</td>\n",
       "      <td>6</td>\n",
       "      <td>2067178</td>\n",
       "      <td>WESTPOIN</td>\n",
       "      <td>Other</td>\n",
       "      <td>Other</td>\n",
       "    </tr>\n",
       "  </tbody>\n",
       "</table>\n",
       "</div>"
      ],
      "text/plain": [
       "         sku  store stype  quantity  orgprice   amt  cost  retail  dept  \\\n",
       "144  1048635   7004     P         1      13.0  9.99  6.94    13.0  6107   \n",
       "145  1048635   9103     P         1      13.0  9.99  6.94    13.0  6107   \n",
       "146  1048635   9103     P         1      13.0  9.99  6.94    13.0  6107   \n",
       "168  1058635   4409     R         1      10.0  7.99  4.56    10.0  6107   \n",
       "169  1058635   4409     R         1      10.0  7.99  4.56    10.0  6107   \n",
       "\n",
       "    classid           upc    style       color  size  packsize   vendor  \\\n",
       "144     001  400008635104  8F30G61  FRESCO YEL  BATH         6  2067178   \n",
       "145     001  400008635104  8F30G61  FRESCO YEL  BATH         6  2067178   \n",
       "146     001  400008635104  8F30G61  FRESCO YEL  BATH         6  2067178   \n",
       "168     001  400008635105  8F30G61  FRESCO YEL  HAND         6  2067178   \n",
       "169     001  400008635105  8F30G61  FRESCO YEL  HAND         6  2067178   \n",
       "\n",
       "        brand standardized_color standardized_size  \n",
       "144  WESTPOIN              Other             Other  \n",
       "145  WESTPOIN              Other             Other  \n",
       "146  WESTPOIN              Other             Other  \n",
       "168  WESTPOIN              Other             Other  \n",
       "169  WESTPOIN              Other             Other  "
      ]
     },
     "execution_count": 200,
     "metadata": {},
     "output_type": "execute_result"
    }
   ],
   "source": [
    "joined_drop.head()"
   ]
  },
  {
   "cell_type": "code",
   "execution_count": 201,
   "id": "35571046",
   "metadata": {},
   "outputs": [
    {
     "data": {
      "text/html": [
       "<div>\n",
       "<style scoped>\n",
       "    .dataframe tbody tr th:only-of-type {\n",
       "        vertical-align: middle;\n",
       "    }\n",
       "\n",
       "    .dataframe tbody tr th {\n",
       "        vertical-align: top;\n",
       "    }\n",
       "\n",
       "    .dataframe thead th {\n",
       "        text-align: right;\n",
       "    }\n",
       "</style>\n",
       "<table border=\"1\" class=\"dataframe\">\n",
       "  <thead>\n",
       "    <tr style=\"text-align: right;\">\n",
       "      <th></th>\n",
       "      <th>sku</th>\n",
       "      <th>retail</th>\n",
       "    </tr>\n",
       "  </thead>\n",
       "  <tbody>\n",
       "    <tr>\n",
       "      <th>1095</th>\n",
       "      <td>5528349</td>\n",
       "      <td>20129.50</td>\n",
       "    </tr>\n",
       "    <tr>\n",
       "      <th>175</th>\n",
       "      <td>994478</td>\n",
       "      <td>10147.00</td>\n",
       "    </tr>\n",
       "    <tr>\n",
       "      <th>667</th>\n",
       "      <td>3524026</td>\n",
       "      <td>10097.00</td>\n",
       "    </tr>\n",
       "    <tr>\n",
       "      <th>1815</th>\n",
       "      <td>9288109</td>\n",
       "      <td>9602.00</td>\n",
       "    </tr>\n",
       "    <tr>\n",
       "      <th>1406</th>\n",
       "      <td>7388142</td>\n",
       "      <td>9027.00</td>\n",
       "    </tr>\n",
       "    <tr>\n",
       "      <th>...</th>\n",
       "      <td>...</td>\n",
       "      <td>...</td>\n",
       "    </tr>\n",
       "    <tr>\n",
       "      <th>770</th>\n",
       "      <td>3906297</td>\n",
       "      <td>1.25</td>\n",
       "    </tr>\n",
       "    <tr>\n",
       "      <th>1488</th>\n",
       "      <td>7922709</td>\n",
       "      <td>1.25</td>\n",
       "    </tr>\n",
       "    <tr>\n",
       "      <th>757</th>\n",
       "      <td>3846297</td>\n",
       "      <td>1.25</td>\n",
       "    </tr>\n",
       "    <tr>\n",
       "      <th>1042</th>\n",
       "      <td>5196618</td>\n",
       "      <td>1.00</td>\n",
       "    </tr>\n",
       "    <tr>\n",
       "      <th>749</th>\n",
       "      <td>3794607</td>\n",
       "      <td>1.00</td>\n",
       "    </tr>\n",
       "  </tbody>\n",
       "</table>\n",
       "<p>1965 rows × 2 columns</p>\n",
       "</div>"
      ],
      "text/plain": [
       "          sku    retail\n",
       "1095  5528349  20129.50\n",
       "175    994478  10147.00\n",
       "667   3524026  10097.00\n",
       "1815  9288109   9602.00\n",
       "1406  7388142   9027.00\n",
       "...       ...       ...\n",
       "770   3906297      1.25\n",
       "1488  7922709      1.25\n",
       "757   3846297      1.25\n",
       "1042  5196618      1.00\n",
       "749   3794607      1.00\n",
       "\n",
       "[1965 rows x 2 columns]"
      ]
     },
     "execution_count": 201,
     "metadata": {},
     "output_type": "execute_result"
    }
   ],
   "source": [
    "grouped_data = joined_drop.groupby('sku')['retail'].sum().reset_index()\n",
    "sorted_data = grouped_data.sort_values(by='retail', ascending=False)\n",
    "sorted_data"
   ]
  },
  {
   "cell_type": "markdown",
   "id": "9b3589e2",
   "metadata": {},
   "source": [
    "## Feature Engineering"
   ]
  },
  {
   "cell_type": "markdown",
   "id": "9f840957",
   "metadata": {},
   "source": [
    "we decide to select the following features:<br>\n",
    "and they could be divided into 2 categories\n",
    "\n",
    "categorical:\n",
    "- style\n",
    "- standardized_color\n",
    "- standardized_size\n",
    "- vendor\n",
    "- brand\n",
    "\n",
    "numerical:\n",
    "- retail price\n",
    "- packsize"
   ]
  },
  {
   "cell_type": "code",
   "execution_count": 202,
   "id": "932a6ed6",
   "metadata": {},
   "outputs": [
    {
     "data": {
      "text/plain": [
       "style\n",
       "62A4       1112\n",
       "2410       1040\n",
       "645J        962\n",
       "8F30G61     756\n",
       "2228        746\n",
       "           ... \n",
       "F81S550     106\n",
       "6CLW        106\n",
       "0589        105\n",
       "R315        104\n",
       "3543        104\n",
       "Name: count, Length: 134, dtype: int64"
      ]
     },
     "execution_count": 202,
     "metadata": {},
     "output_type": "execute_result"
    }
   ],
   "source": [
    "joined_drop[\"style\"].value_counts() "
   ]
  },
  {
   "cell_type": "code",
   "execution_count": 203,
   "id": "31780a81",
   "metadata": {},
   "outputs": [
    {
     "data": {
      "text/plain": [
       "vendor\n",
       "5511283    14724\n",
       "113645      5330\n",
       "3626213     1807\n",
       "2012863     1288\n",
       "2067178     1101\n",
       "13031       1026\n",
       "313319       722\n",
       "2017178      660\n",
       "6076489      508\n",
       "7016341      442\n",
       "9520439      397\n",
       "4516339      343\n",
       "6016957      328\n",
       "3216218      315\n",
       "5011295      290\n",
       "11679        262\n",
       "8011482      241\n",
       "6919400      231\n",
       "7326340      207\n",
       "3813315      177\n",
       "1116343      153\n",
       "1426212      150\n",
       "6013105      146\n",
       "7025617      120\n",
       "6014375      106\n",
       "Name: count, dtype: int64"
      ]
     },
     "execution_count": 203,
     "metadata": {},
     "output_type": "execute_result"
    }
   ],
   "source": [
    "joined_drop['vendor'].value_counts() "
   ]
  },
  {
   "cell_type": "code",
   "execution_count": 204,
   "id": "042b9411",
   "metadata": {},
   "outputs": [
    {
     "data": {
      "text/plain": [
       "25"
      ]
     },
     "execution_count": 204,
     "metadata": {},
     "output_type": "execute_result"
    }
   ],
   "source": [
    "len(joined_drop['vendor'].value_counts())"
   ]
  },
  {
   "cell_type": "code",
   "execution_count": 205,
   "id": "35ea9e0c",
   "metadata": {},
   "outputs": [
    {
     "data": {
      "text/plain": [
       "brand\n",
       "CLINIQUE    14724\n",
       "LANCOME      5330\n",
       "CABERNET     2926\n",
       "MILCO IN     1807\n",
       "WESTPOIN     1101\n",
       "HUE           816\n",
       "NOBLE EX      739\n",
       "LEVI STR      614\n",
       "MAIN KNI      442\n",
       "NOBILITY      315\n",
       "GREAT AM      290\n",
       "DESIGNER      262\n",
       "CROSCILL      241\n",
       "HUE/KAYS      210\n",
       "TROPICAL      207\n",
       "TOMMY HI      177\n",
       "BURLEN C      160\n",
       "EUROITAL      153\n",
       "NOBLE CH      152\n",
       "ROUNDTRE      150\n",
       "HENSON-K      138\n",
       "ROCHESTE      120\n",
       "Name: count, dtype: int64"
      ]
     },
     "execution_count": 205,
     "metadata": {},
     "output_type": "execute_result"
    }
   ],
   "source": [
    "joined_drop['brand'].value_counts()"
   ]
  },
  {
   "cell_type": "markdown",
   "id": "23aeced8",
   "metadata": {},
   "source": [
    "standardize retail price and packsize"
   ]
  },
  {
   "cell_type": "code",
   "execution_count": 206,
   "id": "2b467c9f",
   "metadata": {},
   "outputs": [],
   "source": [
    "from sklearn.preprocessing import StandardScaler\n",
    "\n",
    "# StandardScaler will normalize the features (each column of X, INDIVIDUALLY !!!) so that each column/feature/variable will have mean = 0 and standard deviation = 1.\n",
    "scaler = StandardScaler()\n",
    "\n",
    "# Scale the 'retail' and 'packsize' columns\n",
    "joined_drop[['retail', 'packsize']] = scaler.fit_transform(joined_drop[['retail', 'packsize']])"
   ]
  },
  {
   "cell_type": "code",
   "execution_count": 207,
   "id": "547140e7",
   "metadata": {},
   "outputs": [
    {
     "data": {
      "text/html": [
       "<div>\n",
       "<style scoped>\n",
       "    .dataframe tbody tr th:only-of-type {\n",
       "        vertical-align: middle;\n",
       "    }\n",
       "\n",
       "    .dataframe tbody tr th {\n",
       "        vertical-align: top;\n",
       "    }\n",
       "\n",
       "    .dataframe thead th {\n",
       "        text-align: right;\n",
       "    }\n",
       "</style>\n",
       "<table border=\"1\" class=\"dataframe\">\n",
       "  <thead>\n",
       "    <tr style=\"text-align: right;\">\n",
       "      <th></th>\n",
       "      <th>retail</th>\n",
       "      <th>packsize</th>\n",
       "    </tr>\n",
       "  </thead>\n",
       "  <tbody>\n",
       "    <tr>\n",
       "      <th>144</th>\n",
       "      <td>-0.362679</td>\n",
       "      <td>1.804921</td>\n",
       "    </tr>\n",
       "    <tr>\n",
       "      <th>145</th>\n",
       "      <td>-0.362679</td>\n",
       "      <td>1.804921</td>\n",
       "    </tr>\n",
       "    <tr>\n",
       "      <th>146</th>\n",
       "      <td>-0.362679</td>\n",
       "      <td>1.804921</td>\n",
       "    </tr>\n",
       "    <tr>\n",
       "      <th>168</th>\n",
       "      <td>-0.660968</td>\n",
       "      <td>1.804921</td>\n",
       "    </tr>\n",
       "    <tr>\n",
       "      <th>169</th>\n",
       "      <td>-0.660968</td>\n",
       "      <td>1.804921</td>\n",
       "    </tr>\n",
       "    <tr>\n",
       "      <th>...</th>\n",
       "      <td>...</td>\n",
       "      <td>...</td>\n",
       "    </tr>\n",
       "    <tr>\n",
       "      <th>98183</th>\n",
       "      <td>-0.263250</td>\n",
       "      <td>-0.141973</td>\n",
       "    </tr>\n",
       "    <tr>\n",
       "      <th>98184</th>\n",
       "      <td>-0.263250</td>\n",
       "      <td>-0.141973</td>\n",
       "    </tr>\n",
       "    <tr>\n",
       "      <th>98185</th>\n",
       "      <td>-0.263250</td>\n",
       "      <td>-0.141973</td>\n",
       "    </tr>\n",
       "    <tr>\n",
       "      <th>98186</th>\n",
       "      <td>-0.263250</td>\n",
       "      <td>-0.141973</td>\n",
       "    </tr>\n",
       "    <tr>\n",
       "      <th>98187</th>\n",
       "      <td>-0.263250</td>\n",
       "      <td>-0.141973</td>\n",
       "    </tr>\n",
       "  </tbody>\n",
       "</table>\n",
       "<p>31074 rows × 2 columns</p>\n",
       "</div>"
      ],
      "text/plain": [
       "         retail  packsize\n",
       "144   -0.362679  1.804921\n",
       "145   -0.362679  1.804921\n",
       "146   -0.362679  1.804921\n",
       "168   -0.660968  1.804921\n",
       "169   -0.660968  1.804921\n",
       "...         ...       ...\n",
       "98183 -0.263250 -0.141973\n",
       "98184 -0.263250 -0.141973\n",
       "98185 -0.263250 -0.141973\n",
       "98186 -0.263250 -0.141973\n",
       "98187 -0.263250 -0.141973\n",
       "\n",
       "[31074 rows x 2 columns]"
      ]
     },
     "execution_count": 207,
     "metadata": {},
     "output_type": "execute_result"
    }
   ],
   "source": [
    "joined_drop[['retail','packsize']]"
   ]
  },
  {
   "cell_type": "code",
   "execution_count": 212,
   "id": "f48dc236",
   "metadata": {},
   "outputs": [
    {
     "data": {
      "image/png": "[encoded data removed]",
      "text/plain": [
       "<Figure size 640x480 with 1 Axes>"
      ]
     },
     "metadata": {},
     "output_type": "display_data"
    }
   ],
   "source": [
    "import pandas as pd\n",
    "import matplotlib.pyplot as plt\n",
    "\n",
    "# Assuming 'joined_drop' is your pandas DataFrame and it's already loaded\n",
    "\n",
    "# Create a histogram for the 'retail' column\n",
    "plt.hist(joined_drop['retail'], bins='auto')  # 'auto' lets matplotlib decide the number of bins\n",
    "plt.title('Histogram of Retail Prices')\n",
    "plt.xlabel('Retail Price')\n",
    "plt.ylabel('Frequency')\n",
    "\n",
    "# Show the plot\n",
    "plt.show()"
   ]
  },
  {
   "cell_type": "code",
   "execution_count": 213,
   "id": "2f287f89",
   "metadata": {},
   "outputs": [
    {
     "data": {
      "image/png": "[encoded data removed]",
      "text/plain": [
       "<Figure size 640x480 with 1 Axes>"
      ]
     },
     "metadata": {},
     "output_type": "display_data"
    }
   ],
   "source": [
    "import pandas as pd\n",
    "import matplotlib.pyplot as plt\n",
    "\n",
    "# Assuming 'joined_drop' is your pandas DataFrame and it's already loaded\n",
    "\n",
    "# Create a histogram for the 'retail' column\n",
    "plt.hist(joined_drop['packsize'], bins='auto')  # 'auto' lets matplotlib decide the number of bins\n",
    "plt.title('Histogram of Packsize')\n",
    "plt.xlabel('Packsize')\n",
    "plt.ylabel('Frequency')\n",
    "\n",
    "# Show the plot\n",
    "plt.show()"
   ]
  },
  {
   "cell_type": "markdown",
   "id": "6dd9bb3f",
   "metadata": {},
   "source": [
    "I don't think we need to drop ourliers here because it is normal that Dillard sells a wide range of packsize and retail prices."
   ]
  },
  {
   "cell_type": "markdown",
   "id": "1048a4e1",
   "metadata": {},
   "source": [
    "Now 'retail' and 'packsize' have been standardized."
   ]
  },
  {
   "cell_type": "markdown",
   "id": "311f8c66",
   "metadata": {},
   "source": [
    "proceed with only selected features for x matrix"
   ]
  },
  {
   "cell_type": "code",
   "execution_count": 152,
   "id": "33c4e1d3",
   "metadata": {},
   "outputs": [
    {
     "data": {
      "text/plain": [
       "stype\n",
       "P    6627\n",
       "R     232\n",
       "Name: count, dtype: int64"
      ]
     },
     "execution_count": 152,
     "metadata": {},
     "output_type": "execute_result"
    }
   ],
   "source": [
    "joined_drop.stype.value_counts()"
   ]
  },
  {
   "cell_type": "code",
   "execution_count": 55,
   "id": "e51c2ca8",
   "metadata": {},
   "outputs": [
    {
     "data": {
      "text/plain": [
       "5.017134289997858"
      ]
     },
     "execution_count": 55,
     "metadata": {},
     "output_type": "execute_result"
    }
   ],
   "source": [
    "return_percentage=(937/18676)*100\n",
    "return_percentage"
   ]
  },
  {
   "cell_type": "code",
   "execution_count": 208,
   "id": "d41dba02",
   "metadata": {},
   "outputs": [
    {
     "data": {
      "text/html": [
       "<div>\n",
       "<style scoped>\n",
       "    .dataframe tbody tr th:only-of-type {\n",
       "        vertical-align: middle;\n",
       "    }\n",
       "\n",
       "    .dataframe tbody tr th {\n",
       "        vertical-align: top;\n",
       "    }\n",
       "\n",
       "    .dataframe thead th {\n",
       "        text-align: right;\n",
       "    }\n",
       "</style>\n",
       "<table border=\"1\" class=\"dataframe\">\n",
       "  <thead>\n",
       "    <tr style=\"text-align: right;\">\n",
       "      <th></th>\n",
       "      <th>sku</th>\n",
       "      <th>store</th>\n",
       "      <th>stype</th>\n",
       "      <th>quantity</th>\n",
       "      <th>orgprice</th>\n",
       "      <th>amt</th>\n",
       "      <th>cost</th>\n",
       "      <th>retail</th>\n",
       "      <th>dept</th>\n",
       "      <th>classid</th>\n",
       "      <th>upc</th>\n",
       "      <th>style</th>\n",
       "      <th>color</th>\n",
       "      <th>size</th>\n",
       "      <th>packsize</th>\n",
       "      <th>vendor</th>\n",
       "      <th>brand</th>\n",
       "      <th>standardized_color</th>\n",
       "      <th>standardized_size</th>\n",
       "    </tr>\n",
       "  </thead>\n",
       "  <tbody>\n",
       "    <tr>\n",
       "      <th>144</th>\n",
       "      <td>1048635</td>\n",
       "      <td>7004</td>\n",
       "      <td>P</td>\n",
       "      <td>1</td>\n",
       "      <td>13.0</td>\n",
       "      <td>9.99</td>\n",
       "      <td>6.94</td>\n",
       "      <td>-0.362679</td>\n",
       "      <td>6107</td>\n",
       "      <td>001</td>\n",
       "      <td>400008635104</td>\n",
       "      <td>8F30G61</td>\n",
       "      <td>FRESCO YEL</td>\n",
       "      <td>BATH</td>\n",
       "      <td>1.804921</td>\n",
       "      <td>2067178</td>\n",
       "      <td>WESTPOIN</td>\n",
       "      <td>Other</td>\n",
       "      <td>Other</td>\n",
       "    </tr>\n",
       "    <tr>\n",
       "      <th>145</th>\n",
       "      <td>1048635</td>\n",
       "      <td>9103</td>\n",
       "      <td>P</td>\n",
       "      <td>1</td>\n",
       "      <td>13.0</td>\n",
       "      <td>9.99</td>\n",
       "      <td>6.94</td>\n",
       "      <td>-0.362679</td>\n",
       "      <td>6107</td>\n",
       "      <td>001</td>\n",
       "      <td>400008635104</td>\n",
       "      <td>8F30G61</td>\n",
       "      <td>FRESCO YEL</td>\n",
       "      <td>BATH</td>\n",
       "      <td>1.804921</td>\n",
       "      <td>2067178</td>\n",
       "      <td>WESTPOIN</td>\n",
       "      <td>Other</td>\n",
       "      <td>Other</td>\n",
       "    </tr>\n",
       "    <tr>\n",
       "      <th>146</th>\n",
       "      <td>1048635</td>\n",
       "      <td>9103</td>\n",
       "      <td>P</td>\n",
       "      <td>1</td>\n",
       "      <td>13.0</td>\n",
       "      <td>9.99</td>\n",
       "      <td>6.94</td>\n",
       "      <td>-0.362679</td>\n",
       "      <td>6107</td>\n",
       "      <td>001</td>\n",
       "      <td>400008635104</td>\n",
       "      <td>8F30G61</td>\n",
       "      <td>FRESCO YEL</td>\n",
       "      <td>BATH</td>\n",
       "      <td>1.804921</td>\n",
       "      <td>2067178</td>\n",
       "      <td>WESTPOIN</td>\n",
       "      <td>Other</td>\n",
       "      <td>Other</td>\n",
       "    </tr>\n",
       "    <tr>\n",
       "      <th>168</th>\n",
       "      <td>1058635</td>\n",
       "      <td>4409</td>\n",
       "      <td>R</td>\n",
       "      <td>1</td>\n",
       "      <td>10.0</td>\n",
       "      <td>7.99</td>\n",
       "      <td>4.56</td>\n",
       "      <td>-0.660968</td>\n",
       "      <td>6107</td>\n",
       "      <td>001</td>\n",
       "      <td>400008635105</td>\n",
       "      <td>8F30G61</td>\n",
       "      <td>FRESCO YEL</td>\n",
       "      <td>HAND</td>\n",
       "      <td>1.804921</td>\n",
       "      <td>2067178</td>\n",
       "      <td>WESTPOIN</td>\n",
       "      <td>Other</td>\n",
       "      <td>Other</td>\n",
       "    </tr>\n",
       "    <tr>\n",
       "      <th>169</th>\n",
       "      <td>1058635</td>\n",
       "      <td>4409</td>\n",
       "      <td>R</td>\n",
       "      <td>1</td>\n",
       "      <td>10.0</td>\n",
       "      <td>7.99</td>\n",
       "      <td>4.56</td>\n",
       "      <td>-0.660968</td>\n",
       "      <td>6107</td>\n",
       "      <td>001</td>\n",
       "      <td>400008635105</td>\n",
       "      <td>8F30G61</td>\n",
       "      <td>FRESCO YEL</td>\n",
       "      <td>HAND</td>\n",
       "      <td>1.804921</td>\n",
       "      <td>2067178</td>\n",
       "      <td>WESTPOIN</td>\n",
       "      <td>Other</td>\n",
       "      <td>Other</td>\n",
       "    </tr>\n",
       "  </tbody>\n",
       "</table>\n",
       "</div>"
      ],
      "text/plain": [
       "         sku  store stype  quantity  orgprice   amt  cost    retail  dept  \\\n",
       "144  1048635   7004     P         1      13.0  9.99  6.94 -0.362679  6107   \n",
       "145  1048635   9103     P         1      13.0  9.99  6.94 -0.362679  6107   \n",
       "146  1048635   9103     P         1      13.0  9.99  6.94 -0.362679  6107   \n",
       "168  1058635   4409     R         1      10.0  7.99  4.56 -0.660968  6107   \n",
       "169  1058635   4409     R         1      10.0  7.99  4.56 -0.660968  6107   \n",
       "\n",
       "    classid           upc    style       color  size  packsize   vendor  \\\n",
       "144     001  400008635104  8F30G61  FRESCO YEL  BATH  1.804921  2067178   \n",
       "145     001  400008635104  8F30G61  FRESCO YEL  BATH  1.804921  2067178   \n",
       "146     001  400008635104  8F30G61  FRESCO YEL  BATH  1.804921  2067178   \n",
       "168     001  400008635105  8F30G61  FRESCO YEL  HAND  1.804921  2067178   \n",
       "169     001  400008635105  8F30G61  FRESCO YEL  HAND  1.804921  2067178   \n",
       "\n",
       "        brand standardized_color standardized_size  \n",
       "144  WESTPOIN              Other             Other  \n",
       "145  WESTPOIN              Other             Other  \n",
       "146  WESTPOIN              Other             Other  \n",
       "168  WESTPOIN              Other             Other  \n",
       "169  WESTPOIN              Other             Other  "
      ]
     },
     "execution_count": 208,
     "metadata": {},
     "output_type": "execute_result"
    }
   ],
   "source": [
    "joined_drop.head()"
   ]
  },
  {
   "cell_type": "markdown",
   "id": "c2c69f80",
   "metadata": {},
   "source": [
    "Since we want to investigate whether customer would return or purchase a product based on its features, we must make this sample into a balanced dataset first, we decide to use SMOTE - Synthetic Minority Over-sampling Technique to make it into a balanced dataset."
   ]
  },
  {
   "cell_type": "markdown",
   "id": "d1acac93",
   "metadata": {},
   "source": [
    "The regression would focus on whether the product would be returned or not and it could further predict some unknow data. \n",
    "\n",
    "Then, we move to K-means to decide What products features would be returned most if they are returned. If they are sold, what product features would be sold best.\n",
    "\n",
    "\n",
    "regression outline:<br>\n",
    "y:stype (P or R)<br>\n",
    "x matrix: retail price, style, standardized_color, standardized_size,packsize, vendor, brand"
   ]
  },
  {
   "cell_type": "code",
   "execution_count": null,
   "id": "b043ef06",
   "metadata": {},
   "outputs": [],
   "source": []
  }
 ],
 "metadata": {
  "kernelspec": {
   "display_name": "Python 3 (ipykernel)",
   "language": "python",
   "name": "python3"
  },
  "language_info": {
   "codemirror_mode": {
    "name": "ipython",
    "version": 3
   },
   "file_extension": ".py",
   "mimetype": "text/x-python",
   "name": "python",
   "nbconvert_exporter": "python",
   "pygments_lexer": "ipython3",
   "version": "3.11.5"
  }
 },
 "nbformat": 4,
 "nbformat_minor": 5
}
