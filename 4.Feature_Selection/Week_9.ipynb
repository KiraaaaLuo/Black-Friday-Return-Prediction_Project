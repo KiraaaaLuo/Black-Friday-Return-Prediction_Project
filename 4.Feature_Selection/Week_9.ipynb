{
 "cells": [
  {
   "cell_type": "markdown",
   "id": "86845900",
   "metadata": {},
   "source": [
    "# Week9"
   ]
  },
  {
   "cell_type": "code",
   "execution_count": 7,
   "metadata": {},
   "outputs": [],
   "source": [
    "import pandas as pd\n",
    "import numpy as np\n",
    "import matplotlib.pyplot as plt\n",
    "\n",
    "from sklearn.preprocessing import StandardScaler"
   ]
  },
  {
   "cell_type": "code",
   "execution_count": 2,
   "id": "719c0519",
   "metadata": {
    "scrolled": true
   },
   "outputs": [
    {
     "data": {
      "text/html": [
       "<div>\n",
       "<style scoped>\n",
       "    .dataframe tbody tr th:only-of-type {\n",
       "        vertical-align: middle;\n",
       "    }\n",
       "\n",
       "    .dataframe tbody tr th {\n",
       "        vertical-align: top;\n",
       "    }\n",
       "\n",
       "    .dataframe thead th {\n",
       "        text-align: right;\n",
       "    }\n",
       "</style>\n",
       "<table border=\"1\" class=\"dataframe\">\n",
       "  <thead>\n",
       "    <tr style=\"text-align: right;\">\n",
       "      <th></th>\n",
       "      <th>sku</th>\n",
       "      <th>cost</th>\n",
       "      <th>retail</th>\n",
       "      <th>stype</th>\n",
       "      <th>quantity</th>\n",
       "      <th>orgprice</th>\n",
       "      <th>amt</th>\n",
       "      <th>style</th>\n",
       "      <th>color</th>\n",
       "      <th>size</th>\n",
       "      <th>packsize</th>\n",
       "      <th>vendor</th>\n",
       "      <th>brand</th>\n",
       "      <th>standardized_color</th>\n",
       "      <th>standardized_size</th>\n",
       "      <th>standardized_style</th>\n",
       "    </tr>\n",
       "  </thead>\n",
       "  <tbody>\n",
       "    <tr>\n",
       "      <th>0</th>\n",
       "      <td>8936935</td>\n",
       "      <td>9.58</td>\n",
       "      <td>6.00</td>\n",
       "      <td>P</td>\n",
       "      <td>1</td>\n",
       "      <td>24.0</td>\n",
       "      <td>24.00</td>\n",
       "      <td>3592413641</td>\n",
       "      <td>WHEATNUBU</td>\n",
       "      <td>L</td>\n",
       "      <td>1</td>\n",
       "      <td>914938</td>\n",
       "      <td>KIDS HEA</td>\n",
       "      <td>Other</td>\n",
       "      <td>Standard Sizes</td>\n",
       "      <td>Other</td>\n",
       "    </tr>\n",
       "    <tr>\n",
       "      <th>1</th>\n",
       "      <td>8940963</td>\n",
       "      <td>4.31</td>\n",
       "      <td>2.75</td>\n",
       "      <td>P</td>\n",
       "      <td>1</td>\n",
       "      <td>11.0</td>\n",
       "      <td>8.25</td>\n",
       "      <td>005U61516</td>\n",
       "      <td>GREYHE</td>\n",
       "      <td>L</td>\n",
       "      <td>3</td>\n",
       "      <td>4012768</td>\n",
       "      <td>TOMMY HI</td>\n",
       "      <td>Grey</td>\n",
       "      <td>Standard Sizes</td>\n",
       "      <td>Other</td>\n",
       "    </tr>\n",
       "    <tr>\n",
       "      <th>2</th>\n",
       "      <td>8944045</td>\n",
       "      <td>28.05</td>\n",
       "      <td>17.00</td>\n",
       "      <td>P</td>\n",
       "      <td>1</td>\n",
       "      <td>68.0</td>\n",
       "      <td>29.99</td>\n",
       "      <td>CC412</td>\n",
       "      <td>MULTI</td>\n",
       "      <td>M</td>\n",
       "      <td>1</td>\n",
       "      <td>8043525</td>\n",
       "      <td>KORET OF</td>\n",
       "      <td>Multi</td>\n",
       "      <td>Standard Sizes</td>\n",
       "      <td>Other</td>\n",
       "    </tr>\n",
       "    <tr>\n",
       "      <th>3</th>\n",
       "      <td>8944045</td>\n",
       "      <td>25.00</td>\n",
       "      <td>14.50</td>\n",
       "      <td>P</td>\n",
       "      <td>1</td>\n",
       "      <td>58.0</td>\n",
       "      <td>29.00</td>\n",
       "      <td>CC412</td>\n",
       "      <td>MULTI</td>\n",
       "      <td>M</td>\n",
       "      <td>1</td>\n",
       "      <td>8043525</td>\n",
       "      <td>KORET OF</td>\n",
       "      <td>Multi</td>\n",
       "      <td>Standard Sizes</td>\n",
       "      <td>Other</td>\n",
       "    </tr>\n",
       "    <tr>\n",
       "      <th>4</th>\n",
       "      <td>8972921</td>\n",
       "      <td>14.72</td>\n",
       "      <td>17.50</td>\n",
       "      <td>P</td>\n",
       "      <td>1</td>\n",
       "      <td>35.0</td>\n",
       "      <td>35.00</td>\n",
       "      <td>TPILTRAQL</td>\n",
       "      <td>TERRA</td>\n",
       "      <td>BOU PIL</td>\n",
       "      <td>2</td>\n",
       "      <td>619402</td>\n",
       "      <td>STATUS Q</td>\n",
       "      <td>Other</td>\n",
       "      <td>Standard Sizes</td>\n",
       "      <td>Other</td>\n",
       "    </tr>\n",
       "  </tbody>\n",
       "</table>\n",
       "</div>"
      ],
      "text/plain": [
       "       sku   cost  retail stype  quantity  orgprice    amt       style  \\\n",
       "0  8936935   9.58    6.00     P         1      24.0  24.00  3592413641   \n",
       "1  8940963   4.31    2.75     P         1      11.0   8.25   005U61516   \n",
       "2  8944045  28.05   17.00     P         1      68.0  29.99       CC412   \n",
       "3  8944045  25.00   14.50     P         1      58.0  29.00       CC412   \n",
       "4  8972921  14.72   17.50     P         1      35.0  35.00   TPILTRAQL   \n",
       "\n",
       "       color     size  packsize   vendor     brand standardized_color  \\\n",
       "0  WHEATNUBU        L         1   914938  KIDS HEA              Other   \n",
       "1     GREYHE        L         3  4012768  TOMMY HI               Grey   \n",
       "2      MULTI        M         1  8043525  KORET OF              Multi   \n",
       "3      MULTI        M         1  8043525  KORET OF              Multi   \n",
       "4      TERRA  BOU PIL         2   619402  STATUS Q              Other   \n",
       "\n",
       "  standardized_size standardized_style  \n",
       "0    Standard Sizes              Other  \n",
       "1    Standard Sizes              Other  \n",
       "2    Standard Sizes              Other  \n",
       "3    Standard Sizes              Other  \n",
       "4    Standard Sizes              Other  "
      ]
     },
     "execution_count": 2,
     "metadata": {},
     "output_type": "execute_result"
    }
   ],
   "source": [
    "joined_drop = pd.read_pickle('../data/week8.pkl')\n",
    "joined_drop.head()"
   ]
  },
  {
   "cell_type": "code",
   "execution_count": 3,
   "id": "35571046",
   "metadata": {},
   "outputs": [
    {
     "data": {
      "text/html": [
       "<div>\n",
       "<style scoped>\n",
       "    .dataframe tbody tr th:only-of-type {\n",
       "        vertical-align: middle;\n",
       "    }\n",
       "\n",
       "    .dataframe tbody tr th {\n",
       "        vertical-align: top;\n",
       "    }\n",
       "\n",
       "    .dataframe thead th {\n",
       "        text-align: right;\n",
       "    }\n",
       "</style>\n",
       "<table border=\"1\" class=\"dataframe\">\n",
       "  <thead>\n",
       "    <tr style=\"text-align: right;\">\n",
       "      <th></th>\n",
       "      <th>sku</th>\n",
       "      <th>retail</th>\n",
       "    </tr>\n",
       "  </thead>\n",
       "  <tbody>\n",
       "    <tr>\n",
       "      <th>45338</th>\n",
       "      <td>994478</td>\n",
       "      <td>47677.00</td>\n",
       "    </tr>\n",
       "    <tr>\n",
       "      <th>23027</th>\n",
       "      <td>5528349</td>\n",
       "      <td>35090.00</td>\n",
       "    </tr>\n",
       "    <tr>\n",
       "      <th>32307</th>\n",
       "      <td>7388142</td>\n",
       "      <td>26491.00</td>\n",
       "    </tr>\n",
       "    <tr>\n",
       "      <th>12551</th>\n",
       "      <td>3524026</td>\n",
       "      <td>23023.00</td>\n",
       "    </tr>\n",
       "    <tr>\n",
       "      <th>22855</th>\n",
       "      <td>5494617</td>\n",
       "      <td>19221.00</td>\n",
       "    </tr>\n",
       "    <tr>\n",
       "      <th>...</th>\n",
       "      <td>...</td>\n",
       "      <td>...</td>\n",
       "    </tr>\n",
       "    <tr>\n",
       "      <th>6024</th>\n",
       "      <td>224210</td>\n",
       "      <td>0.02</td>\n",
       "    </tr>\n",
       "    <tr>\n",
       "      <th>3963</th>\n",
       "      <td>1831106</td>\n",
       "      <td>0.01</td>\n",
       "    </tr>\n",
       "    <tr>\n",
       "      <th>34764</th>\n",
       "      <td>7858235</td>\n",
       "      <td>0.00</td>\n",
       "    </tr>\n",
       "    <tr>\n",
       "      <th>7289</th>\n",
       "      <td>249386</td>\n",
       "      <td>0.00</td>\n",
       "    </tr>\n",
       "    <tr>\n",
       "      <th>12325</th>\n",
       "      <td>3474289</td>\n",
       "      <td>0.00</td>\n",
       "    </tr>\n",
       "  </tbody>\n",
       "</table>\n",
       "<p>45637 rows × 2 columns</p>\n",
       "</div>"
      ],
      "text/plain": [
       "           sku    retail\n",
       "45338   994478  47677.00\n",
       "23027  5528349  35090.00\n",
       "32307  7388142  26491.00\n",
       "12551  3524026  23023.00\n",
       "22855  5494617  19221.00\n",
       "...        ...       ...\n",
       "6024    224210      0.02\n",
       "3963   1831106      0.01\n",
       "34764  7858235      0.00\n",
       "7289    249386      0.00\n",
       "12325  3474289      0.00\n",
       "\n",
       "[45637 rows x 2 columns]"
      ]
     },
     "execution_count": 3,
     "metadata": {},
     "output_type": "execute_result"
    }
   ],
   "source": [
    "grouped_data = joined_drop.groupby('sku')['retail'].sum().reset_index()\n",
    "sorted_data = grouped_data.sort_values(by='retail', ascending=False)\n",
    "sorted_data"
   ]
  },
  {
   "cell_type": "markdown",
   "id": "9b3589e2",
   "metadata": {},
   "source": [
    "## Feature Engineering"
   ]
  },
  {
   "cell_type": "markdown",
   "id": "9f840957",
   "metadata": {},
   "source": [
    "we decide to select the following features:<br>\n",
    "and they could be divided into 2 categories\n",
    "\n",
    "categorical:\n",
    "- standardized_style\n",
    "- standardized_color\n",
    "- standardized_size\n",
    "- vendor\n",
    "- brand\n",
    "\n",
    "numerical:\n",
    "- retail price\n",
    "- packsize"
   ]
  },
  {
   "cell_type": "code",
   "execution_count": 4,
   "id": "31780a81",
   "metadata": {},
   "outputs": [
    {
     "data": {
      "text/plain": [
       "vendor\n",
       "5511283    39210\n",
       "113645     16114\n",
       "13031       6370\n",
       "3626213     5331\n",
       "13396       4196\n",
       "           ...  \n",
       "21131          1\n",
       "11536          1\n",
       "8016222        1\n",
       "2913323        1\n",
       "1713319        1\n",
       "Name: count, Length: 932, dtype: int64"
      ]
     },
     "execution_count": 4,
     "metadata": {},
     "output_type": "execute_result"
    }
   ],
   "source": [
    "joined_drop['vendor'].value_counts() "
   ]
  },
  {
   "cell_type": "code",
   "execution_count": 5,
   "id": "042b9411",
   "metadata": {},
   "outputs": [
    {
     "data": {
      "text/plain": [
       "932"
      ]
     },
     "execution_count": 5,
     "metadata": {},
     "output_type": "execute_result"
    }
   ],
   "source": [
    "len(joined_drop['vendor'].value_counts())"
   ]
  },
  {
   "cell_type": "code",
   "execution_count": 6,
   "id": "35ea9e0c",
   "metadata": {},
   "outputs": [
    {
     "data": {
      "text/plain": [
       "brand\n",
       "CLINIQUE    39210\n",
       "LANCOME     16942\n",
       "CABERNET    14782\n",
       "LIZ CLAI     8889\n",
       "LEVI STR     5638\n",
       "            ...  \n",
       "ADG/DESI        1\n",
       "SUMMER S        1\n",
       "WINSOME         1\n",
       "BROOKINS        1\n",
       "CONIFER         1\n",
       "Name: count, Length: 678, dtype: int64"
      ]
     },
     "execution_count": 6,
     "metadata": {},
     "output_type": "execute_result"
    }
   ],
   "source": [
    "joined_drop['brand'].value_counts()"
   ]
  },
  {
   "cell_type": "markdown",
   "id": "23aeced8",
   "metadata": {},
   "source": [
    "standardize retail price and packsize"
   ]
  },
  {
   "cell_type": "code",
   "execution_count": 8,
   "id": "2b467c9f",
   "metadata": {},
   "outputs": [],
   "source": [
    "# StandardScaler will normalize the features (each column of X, INDIVIDUALLY !!!) so that each column/feature/variable will have mean = 0 and standard deviation = 1.\n",
    "scaler = StandardScaler()\n",
    "\n",
    "# Scale the 'retail' and 'packsize' columns\n",
    "joined_drop[['retail', 'packsize']] = scaler.fit_transform(joined_drop[['retail', 'packsize']])"
   ]
  },
  {
   "cell_type": "code",
   "execution_count": 9,
   "id": "547140e7",
   "metadata": {},
   "outputs": [
    {
     "data": {
      "text/html": [
       "<div>\n",
       "<style scoped>\n",
       "    .dataframe tbody tr th:only-of-type {\n",
       "        vertical-align: middle;\n",
       "    }\n",
       "\n",
       "    .dataframe tbody tr th {\n",
       "        vertical-align: top;\n",
       "    }\n",
       "\n",
       "    .dataframe thead th {\n",
       "        text-align: right;\n",
       "    }\n",
       "</style>\n",
       "<table border=\"1\" class=\"dataframe\">\n",
       "  <thead>\n",
       "    <tr style=\"text-align: right;\">\n",
       "      <th></th>\n",
       "      <th>retail</th>\n",
       "      <th>packsize</th>\n",
       "    </tr>\n",
       "  </thead>\n",
       "  <tbody>\n",
       "    <tr>\n",
       "      <th>0</th>\n",
       "      <td>-0.603488</td>\n",
       "      <td>-0.225073</td>\n",
       "    </tr>\n",
       "    <tr>\n",
       "      <th>1</th>\n",
       "      <td>-0.730408</td>\n",
       "      <td>0.081489</td>\n",
       "    </tr>\n",
       "    <tr>\n",
       "      <th>2</th>\n",
       "      <td>-0.173912</td>\n",
       "      <td>-0.225073</td>\n",
       "    </tr>\n",
       "    <tr>\n",
       "      <th>3</th>\n",
       "      <td>-0.271543</td>\n",
       "      <td>-0.225073</td>\n",
       "    </tr>\n",
       "    <tr>\n",
       "      <th>4</th>\n",
       "      <td>-0.154386</td>\n",
       "      <td>-0.071792</td>\n",
       "    </tr>\n",
       "    <tr>\n",
       "      <th>...</th>\n",
       "      <td>...</td>\n",
       "      <td>...</td>\n",
       "    </tr>\n",
       "    <tr>\n",
       "      <th>220727</th>\n",
       "      <td>3.047903</td>\n",
       "      <td>-0.225073</td>\n",
       "    </tr>\n",
       "    <tr>\n",
       "      <th>220728</th>\n",
       "      <td>3.047903</td>\n",
       "      <td>-0.225073</td>\n",
       "    </tr>\n",
       "    <tr>\n",
       "      <th>220729</th>\n",
       "      <td>3.047903</td>\n",
       "      <td>-0.225073</td>\n",
       "    </tr>\n",
       "    <tr>\n",
       "      <th>220730</th>\n",
       "      <td>3.047903</td>\n",
       "      <td>-0.225073</td>\n",
       "    </tr>\n",
       "    <tr>\n",
       "      <th>220731</th>\n",
       "      <td>3.047903</td>\n",
       "      <td>-0.225073</td>\n",
       "    </tr>\n",
       "  </tbody>\n",
       "</table>\n",
       "<p>220276 rows × 2 columns</p>\n",
       "</div>"
      ],
      "text/plain": [
       "          retail  packsize\n",
       "0      -0.603488 -0.225073\n",
       "1      -0.730408  0.081489\n",
       "2      -0.173912 -0.225073\n",
       "3      -0.271543 -0.225073\n",
       "4      -0.154386 -0.071792\n",
       "...          ...       ...\n",
       "220727  3.047903 -0.225073\n",
       "220728  3.047903 -0.225073\n",
       "220729  3.047903 -0.225073\n",
       "220730  3.047903 -0.225073\n",
       "220731  3.047903 -0.225073\n",
       "\n",
       "[220276 rows x 2 columns]"
      ]
     },
     "execution_count": 9,
     "metadata": {},
     "output_type": "execute_result"
    }
   ],
   "source": [
    "joined_drop[['retail','packsize']]"
   ]
  },
  {
   "cell_type": "code",
   "execution_count": 10,
   "id": "f48dc236",
   "metadata": {},
   "outputs": [
    {
     "data": {
      "image/png": "[encoded data removed]",
      "text/plain": [
       "<Figure size 640x480 with 1 Axes>"
      ]
     },
     "metadata": {},
     "output_type": "display_data"
    }
   ],
   "source": [
    "# Create a histogram for the 'retail' column\n",
    "plt.hist(joined_drop['retail'], bins='auto')  # 'auto' lets matplotlib decide the number of bins\n",
    "plt.title('Histogram of Retail Prices')\n",
    "plt.xlabel('Retail Price')\n",
    "plt.ylabel('Frequency')\n",
    "\n",
    "# Show the plot\n",
    "plt.show()"
   ]
  },
  {
   "cell_type": "markdown",
   "id": "6dd9bb3f",
   "metadata": {},
   "source": [
    "I don't think we need to drop ourliers here because it is normal that Dillard sells a wide range of packsize and retail prices."
   ]
  },
  {
   "cell_type": "markdown",
   "id": "1048a4e1",
   "metadata": {},
   "source": [
    "Now 'retail' and 'packsize' have been standardized."
   ]
  },
  {
   "cell_type": "markdown",
   "id": "311f8c66",
   "metadata": {},
   "source": [
    "proceed with only selected features for x matrix"
   ]
  },
  {
   "cell_type": "code",
   "execution_count": 19,
   "id": "33c4e1d3",
   "metadata": {},
   "outputs": [
    {
     "data": {
      "text/plain": [
       "stype\n",
       "P    211919\n",
       "R      8357\n",
       "Name: count, dtype: int64"
      ]
     },
     "execution_count": 19,
     "metadata": {},
     "output_type": "execute_result"
    }
   ],
   "source": [
    "joined_drop.stype.value_counts()"
   ]
  },
  {
   "cell_type": "code",
   "execution_count": 20,
   "id": "e51c2ca8",
   "metadata": {},
   "outputs": [
    {
     "data": {
      "text/plain": [
       "3.9434878420528596"
      ]
     },
     "execution_count": 20,
     "metadata": {},
     "output_type": "execute_result"
    }
   ],
   "source": [
    "return_percentage=(8357/211919)*100\n",
    "return_percentage"
   ]
  },
  {
   "cell_type": "code",
   "execution_count": 21,
   "id": "d41dba02",
   "metadata": {},
   "outputs": [
    {
     "data": {
      "text/html": [
       "<div>\n",
       "<style scoped>\n",
       "    .dataframe tbody tr th:only-of-type {\n",
       "        vertical-align: middle;\n",
       "    }\n",
       "\n",
       "    .dataframe tbody tr th {\n",
       "        vertical-align: top;\n",
       "    }\n",
       "\n",
       "    .dataframe thead th {\n",
       "        text-align: right;\n",
       "    }\n",
       "</style>\n",
       "<table border=\"1\" class=\"dataframe\">\n",
       "  <thead>\n",
       "    <tr style=\"text-align: right;\">\n",
       "      <th></th>\n",
       "      <th>sku</th>\n",
       "      <th>cost</th>\n",
       "      <th>retail</th>\n",
       "      <th>stype</th>\n",
       "      <th>quantity</th>\n",
       "      <th>orgprice</th>\n",
       "      <th>amt</th>\n",
       "      <th>style</th>\n",
       "      <th>color</th>\n",
       "      <th>size</th>\n",
       "      <th>packsize</th>\n",
       "      <th>vendor</th>\n",
       "      <th>brand</th>\n",
       "      <th>standardized_color</th>\n",
       "      <th>standardized_size</th>\n",
       "      <th>standardized_style</th>\n",
       "    </tr>\n",
       "  </thead>\n",
       "  <tbody>\n",
       "    <tr>\n",
       "      <th>0</th>\n",
       "      <td>8936935</td>\n",
       "      <td>9.58</td>\n",
       "      <td>-0.603488</td>\n",
       "      <td>P</td>\n",
       "      <td>1</td>\n",
       "      <td>24.0</td>\n",
       "      <td>24.00</td>\n",
       "      <td>3592413641</td>\n",
       "      <td>WHEATNUBU</td>\n",
       "      <td>L</td>\n",
       "      <td>-0.225073</td>\n",
       "      <td>914938</td>\n",
       "      <td>KIDS HEA</td>\n",
       "      <td>Other</td>\n",
       "      <td>Standard Sizes</td>\n",
       "      <td>Other</td>\n",
       "    </tr>\n",
       "    <tr>\n",
       "      <th>1</th>\n",
       "      <td>8940963</td>\n",
       "      <td>4.31</td>\n",
       "      <td>-0.730408</td>\n",
       "      <td>P</td>\n",
       "      <td>1</td>\n",
       "      <td>11.0</td>\n",
       "      <td>8.25</td>\n",
       "      <td>005U61516</td>\n",
       "      <td>GREYHE</td>\n",
       "      <td>L</td>\n",
       "      <td>0.081489</td>\n",
       "      <td>4012768</td>\n",
       "      <td>TOMMY HI</td>\n",
       "      <td>Grey</td>\n",
       "      <td>Standard Sizes</td>\n",
       "      <td>Other</td>\n",
       "    </tr>\n",
       "    <tr>\n",
       "      <th>2</th>\n",
       "      <td>8944045</td>\n",
       "      <td>28.05</td>\n",
       "      <td>-0.173912</td>\n",
       "      <td>P</td>\n",
       "      <td>1</td>\n",
       "      <td>68.0</td>\n",
       "      <td>29.99</td>\n",
       "      <td>CC412</td>\n",
       "      <td>MULTI</td>\n",
       "      <td>M</td>\n",
       "      <td>-0.225073</td>\n",
       "      <td>8043525</td>\n",
       "      <td>KORET OF</td>\n",
       "      <td>Multi</td>\n",
       "      <td>Standard Sizes</td>\n",
       "      <td>Other</td>\n",
       "    </tr>\n",
       "    <tr>\n",
       "      <th>3</th>\n",
       "      <td>8944045</td>\n",
       "      <td>25.00</td>\n",
       "      <td>-0.271543</td>\n",
       "      <td>P</td>\n",
       "      <td>1</td>\n",
       "      <td>58.0</td>\n",
       "      <td>29.00</td>\n",
       "      <td>CC412</td>\n",
       "      <td>MULTI</td>\n",
       "      <td>M</td>\n",
       "      <td>-0.225073</td>\n",
       "      <td>8043525</td>\n",
       "      <td>KORET OF</td>\n",
       "      <td>Multi</td>\n",
       "      <td>Standard Sizes</td>\n",
       "      <td>Other</td>\n",
       "    </tr>\n",
       "    <tr>\n",
       "      <th>4</th>\n",
       "      <td>8972921</td>\n",
       "      <td>14.72</td>\n",
       "      <td>-0.154386</td>\n",
       "      <td>P</td>\n",
       "      <td>1</td>\n",
       "      <td>35.0</td>\n",
       "      <td>35.00</td>\n",
       "      <td>TPILTRAQL</td>\n",
       "      <td>TERRA</td>\n",
       "      <td>BOU PIL</td>\n",
       "      <td>-0.071792</td>\n",
       "      <td>619402</td>\n",
       "      <td>STATUS Q</td>\n",
       "      <td>Other</td>\n",
       "      <td>Standard Sizes</td>\n",
       "      <td>Other</td>\n",
       "    </tr>\n",
       "  </tbody>\n",
       "</table>\n",
       "</div>"
      ],
      "text/plain": [
       "       sku   cost    retail stype  quantity  orgprice    amt       style  \\\n",
       "0  8936935   9.58 -0.603488     P         1      24.0  24.00  3592413641   \n",
       "1  8940963   4.31 -0.730408     P         1      11.0   8.25   005U61516   \n",
       "2  8944045  28.05 -0.173912     P         1      68.0  29.99       CC412   \n",
       "3  8944045  25.00 -0.271543     P         1      58.0  29.00       CC412   \n",
       "4  8972921  14.72 -0.154386     P         1      35.0  35.00   TPILTRAQL   \n",
       "\n",
       "       color     size  packsize   vendor     brand standardized_color  \\\n",
       "0  WHEATNUBU        L -0.225073   914938  KIDS HEA              Other   \n",
       "1     GREYHE        L  0.081489  4012768  TOMMY HI               Grey   \n",
       "2      MULTI        M -0.225073  8043525  KORET OF              Multi   \n",
       "3      MULTI        M -0.225073  8043525  KORET OF              Multi   \n",
       "4      TERRA  BOU PIL -0.071792   619402  STATUS Q              Other   \n",
       "\n",
       "  standardized_size standardized_style  \n",
       "0    Standard Sizes              Other  \n",
       "1    Standard Sizes              Other  \n",
       "2    Standard Sizes              Other  \n",
       "3    Standard Sizes              Other  \n",
       "4    Standard Sizes              Other  "
      ]
     },
     "execution_count": 21,
     "metadata": {},
     "output_type": "execute_result"
    }
   ],
   "source": [
    "joined_drop.head()"
   ]
  },
  {
   "cell_type": "markdown",
   "id": "c2c69f80",
   "metadata": {},
   "source": [
    "Since we want to investigate whether customer would return or purchase a product based on its features, we must make this sample into a balanced dataset first, we decide to use SMOTE - Synthetic Minority Over-sampling Technique to make it into a balanced dataset."
   ]
  },
  {
   "cell_type": "markdown",
   "id": "d1acac93",
   "metadata": {},
   "source": [
    "The regression would focus on whether the product would be returned or not and it could further predict some unknow data. \n",
    "\n",
    "Then, we move to K-means to decide What products features would be returned most if they are returned. If they are sold, what product features would be sold best.\n",
    "\n",
    "\n",
    "regression outline:<br>\n",
    "y:stype (P or R)<br>\n",
    "x matrix: retail price, style, standardized_color, standardized_size,packsize, vendor, brand"
   ]
  },
  {
   "cell_type": "code",
   "execution_count": 22,
   "id": "b043ef06",
   "metadata": {},
   "outputs": [],
   "source": [
    "# save data to pickle for later processings\n",
    "joined_drop.to_pickle('../data/week9.pkl')"
   ]
  }
 ],
 "metadata": {
  "kernelspec": {
   "display_name": "Python 3 (ipykernel)",
   "language": "python",
   "name": "python3"
  },
  "language_info": {
   "codemirror_mode": {
    "name": "ipython",
    "version": 3
   },
   "file_extension": ".py",
   "mimetype": "text/x-python",
   "name": "python",
   "nbconvert_exporter": "python",
   "pygments_lexer": "ipython3",
   "version": "3.11.4"
  }
 },
 "nbformat": 4,
 "nbformat_minor": 5
}
